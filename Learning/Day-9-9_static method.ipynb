{
 "cells": [
  {
   "cell_type": "code",
   "execution_count": 1,
   "id": "73250e39-b555-4022-a1d3-5da9ca7d53bb",
   "metadata": {},
   "outputs": [],
   "source": [
    "class pwskills:\n",
    "    def student_details(self , name , mail_id , number) : \n",
    "        print(name , mail_id, number)"
   ]
  },
  {
   "cell_type": "code",
   "execution_count": 2,
   "id": "bf403f35-2dab-4e1b-863c-42488c20d405",
   "metadata": {},
   "outputs": [],
   "source": [
    "pw = pwskills()"
   ]
  },
  {
   "cell_type": "code",
   "execution_count": 3,
   "id": "bd805a04-6bfc-4159-8e66-94774d72f46b",
   "metadata": {},
   "outputs": [
    {
     "name": "stdout",
     "output_type": "stream",
     "text": [
      "sudh sudh@gmail.com 91345353\n"
     ]
    }
   ],
   "source": [
    "pw.student_details(\"sudh\" , \"sudh@gmail.com\" , 91345353)"
   ]
  },
  {
   "cell_type": "code",
   "execution_count": 6,
   "id": "7d866032-5c0e-4db2-9d58-1855164e5834",
   "metadata": {},
   "outputs": [],
   "source": [
    "class pwskills1:\n",
    "    def student_details(self , name , mail_id , number) : \n",
    "        print(name , mail_id, number)\n",
    "        \n",
    "    @staticmethod\n",
    "    def mentor_class(list_mentor) : \n",
    "        print(list_mentor)\n",
    "        \n",
    "    def mentor(self , mentor_list) :\n",
    "        print(mentor_list)"
   ]
  },
  {
   "cell_type": "code",
   "execution_count": 7,
   "id": "afc43311-50a8-4a95-8e66-22828d8dd3eb",
   "metadata": {},
   "outputs": [],
   "source": [
    "pw1 = pwskills1()"
   ]
  },
  {
   "cell_type": "code",
   "execution_count": 8,
   "id": "103dac56-44e3-4ced-867d-46f4f17adac4",
   "metadata": {},
   "outputs": [
    {
     "name": "stdout",
     "output_type": "stream",
     "text": [
      "['krish', 'sudh']\n"
     ]
    }
   ],
   "source": [
    "pw1.mentor([\"krish\" , \"sudh\"])"
   ]
  },
  {
   "cell_type": "code",
   "execution_count": 9,
   "id": "1f2085b9-0dba-40a0-bf18-9621289ffca0",
   "metadata": {},
   "outputs": [
    {
     "name": "stdout",
     "output_type": "stream",
     "text": [
      "['sudh', 'naik']\n"
     ]
    }
   ],
   "source": [
    "pw1.mentor_class([\"sudh\" , \"naik\"])"
   ]
  },
  {
   "cell_type": "code",
   "execution_count": 5,
   "id": "10d5501a-4460-4f4b-b391-f2fb0dfa032b",
   "metadata": {},
   "outputs": [
    {
     "name": "stdout",
     "output_type": "stream",
     "text": [
      "['sudh', 'kris']\n"
     ]
    }
   ],
   "source": [
    "pwskills1.mentor_class([\"sudh\" , \"kris\"])"
   ]
  },
  {
   "cell_type": "code",
   "execution_count": 12,
   "id": "444133f4-1160-45e5-81d0-13fea6b91279",
   "metadata": {},
   "outputs": [],
   "source": [
    "class pwskills1:\n",
    "    def student_details(self , name , mail_id , number) : \n",
    "        print(name , mail_id, number)\n",
    "        \n",
    "    @staticmethod\n",
    "    def mentor_mail_id(mail_id):\n",
    "        print(mail_id)\n",
    "        \n",
    "    @staticmethod\n",
    "    def mentor_class(list_mentor) : \n",
    "        print(list_mentor)\n",
    "        pwskills1.mentor_mail_id([\"krish@gmail.com\" , \"sudh@gmail.com\"])\n",
    "        \n",
    "    @classmethod\n",
    "    def class_name(cls,class_name):\n",
    "        cls.mentor_class([\"sudh\" , \"krish\"])\n",
    "        \n",
    "    def mentor(self , mentor_list) :\n",
    "        print(mentor_list)\n",
    "        self.mentor_class([\"krish\" , \"sudh\"])"
   ]
  },
  {
   "cell_type": "code",
   "execution_count": 13,
   "id": "de2ef83d-6a58-42dd-8692-63634e377e37",
   "metadata": {},
   "outputs": [],
   "source": [
    "pw1 = pwskills1()"
   ]
  },
  {
   "cell_type": "code",
   "execution_count": 14,
   "id": "2f84a6fa-726d-4395-9c1d-d743e6cb7274",
   "metadata": {},
   "outputs": [
    {
     "name": "stdout",
     "output_type": "stream",
     "text": [
      "mohan mohan@gmail.com 9675657657\n"
     ]
    }
   ],
   "source": [
    "pw1.student_details(\"mohan\" , \"mohan@gmail.com\" , 9675657657)"
   ]
  },
  {
   "cell_type": "code",
   "execution_count": 15,
   "id": "e21b63cc-fbd1-4147-b184-347bc17a97e9",
   "metadata": {},
   "outputs": [
    {
     "name": "stdout",
     "output_type": "stream",
     "text": [
      "['krish@gmail.com', 'sudh@gmail.com']\n"
     ]
    }
   ],
   "source": [
    "pw1.mentor_mail_id([\"krish@gmail.com\" , \"sudh@gmail.com\"])"
   ]
  },
  {
   "cell_type": "code",
   "execution_count": 16,
   "id": "b964530b-d86e-4dd5-a239-ac2dcd58d750",
   "metadata": {},
   "outputs": [
    {
     "name": "stdout",
     "output_type": "stream",
     "text": [
      "['sudh', 'krish']\n",
      "['krish@gmail.com', 'sudh@gmail.com']\n"
     ]
    }
   ],
   "source": [
    "pw1.class_name(\"data science masters\")"
   ]
  },
  {
   "cell_type": "code",
   "execution_count": 17,
   "id": "d2edacf3-91cb-44de-a8b6-b802e6e1442b",
   "metadata": {},
   "outputs": [
    {
     "name": "stdout",
     "output_type": "stream",
     "text": [
      "['krish@gmail.com', 'sudh@gmail.com']\n"
     ]
    }
   ],
   "source": [
    "pwskills1.mentor_mail_id([\"krish@gmail.com\" , \"sudh@gmail.com\"])"
   ]
  },
  {
   "cell_type": "code",
   "execution_count": null,
   "id": "6a9a4622-8602-4ff9-bf89-c9ebbbb37a8b",
   "metadata": {},
   "outputs": [],
   "source": []
  }
 ],
 "metadata": {
  "kernelspec": {
   "display_name": "Python 3 (ipykernel)",
   "language": "python",
   "name": "python3"
  },
  "language_info": {
   "codemirror_mode": {
    "name": "ipython",
    "version": 3
   },
   "file_extension": ".py",
   "mimetype": "text/x-python",
   "name": "python",
   "nbconvert_exporter": "python",
   "pygments_lexer": "ipython3",
   "version": "3.10.8"
  }
 },
 "nbformat": 4,
 "nbformat_minor": 5
}
