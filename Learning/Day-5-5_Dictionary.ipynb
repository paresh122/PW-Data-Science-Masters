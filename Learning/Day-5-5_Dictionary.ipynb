{
 "cells": [
  {
   "cell_type": "code",
   "execution_count": 1,
   "id": "e4d37a25-68dc-4893-a9de-440d85eb1a7c",
   "metadata": {},
   "outputs": [],
   "source": [
    "d = {}"
   ]
  },
  {
   "cell_type": "code",
   "execution_count": 2,
   "id": "6093f8c5-1902-473f-9457-f5f4c7d07f59",
   "metadata": {},
   "outputs": [
    {
     "data": {
      "text/plain": [
       "dict"
      ]
     },
     "execution_count": 2,
     "metadata": {},
     "output_type": "execute_result"
    }
   ],
   "source": [
    "type(d)"
   ]
  },
  {
   "cell_type": "code",
   "execution_count": 3,
   "id": "c94b17d2-c073-405b-92c7-82cdfbc8c575",
   "metadata": {},
   "outputs": [],
   "source": [
    "d1 = {\"name\" : \"sudh\" , \"emiil_id\" : \"ss@gmail.com\" , \"number\" :234324}"
   ]
  },
  {
   "cell_type": "code",
   "execution_count": 4,
   "id": "54360e2f-839d-4af6-83de-31e97369d317",
   "metadata": {},
   "outputs": [
    {
     "data": {
      "text/plain": [
       "dict"
      ]
     },
     "execution_count": 4,
     "metadata": {},
     "output_type": "execute_result"
    }
   ],
   "source": [
    "type(d1)"
   ]
  },
  {
   "cell_type": "code",
   "execution_count": 5,
   "id": "9cc3e3d1-7a61-476b-ae72-ccc5bb205ba5",
   "metadata": {},
   "outputs": [
    {
     "data": {
      "text/plain": [
       "{'name': 'sudh', 'emiil_id': 'ss@gmail.com', 'number': 234324}"
      ]
     },
     "execution_count": 5,
     "metadata": {},
     "output_type": "execute_result"
    }
   ],
   "source": [
    "d1"
   ]
  },
  {
   "cell_type": "code",
   "execution_count": 7,
   "id": "9ebd6ff3-1142-491a-b8ce-203118644fd1",
   "metadata": {},
   "outputs": [],
   "source": [
    "d2 = {\"name\" : \"sudh\" , \"name\" : \"sudhanshu\"}"
   ]
  },
  {
   "cell_type": "code",
   "execution_count": 8,
   "id": "62294f90-6b4f-43eb-ab60-d8d34984a9a2",
   "metadata": {},
   "outputs": [
    {
     "data": {
      "text/plain": [
       "{'name': 'sudhanshu'}"
      ]
     },
     "execution_count": 8,
     "metadata": {},
     "output_type": "execute_result"
    }
   ],
   "source": [
    "d2"
   ]
  },
  {
   "cell_type": "code",
   "execution_count": 9,
   "id": "ba02f421-8b5a-4d17-8161-6d2978bcbc98",
   "metadata": {},
   "outputs": [],
   "source": [
    "d3 = {234234 : \"abc\"}"
   ]
  },
  {
   "cell_type": "code",
   "execution_count": 10,
   "id": "58416be4-b2fb-4ca7-8e91-4306694f88fc",
   "metadata": {},
   "outputs": [
    {
     "data": {
      "text/plain": [
       "{234234: 'abc'}"
      ]
     },
     "execution_count": 10,
     "metadata": {},
     "output_type": "execute_result"
    }
   ],
   "source": [
    "d3"
   ]
  },
  {
   "cell_type": "code",
   "execution_count": 11,
   "id": "a6a3cca0-f8a1-46c2-8f61-ba54c928ae2c",
   "metadata": {},
   "outputs": [],
   "source": [
    "d4 = {234.45 : \"abc\"}"
   ]
  },
  {
   "cell_type": "code",
   "execution_count": 12,
   "id": "c0f574ed-a56d-46ab-bae6-c32756a7a9a2",
   "metadata": {},
   "outputs": [
    {
     "data": {
      "text/plain": [
       "{234.45: 'abc'}"
      ]
     },
     "execution_count": 12,
     "metadata": {},
     "output_type": "execute_result"
    }
   ],
   "source": [
    "d4"
   ]
  },
  {
   "cell_type": "code",
   "execution_count": 13,
   "id": "cbde0921-f3dc-41aa-86b7-45bd05353382",
   "metadata": {},
   "outputs": [],
   "source": [
    "d5 = {True : \"abc\"}"
   ]
  },
  {
   "cell_type": "code",
   "execution_count": 14,
   "id": "69898587-5796-4ded-a8de-0224bd98c1b1",
   "metadata": {},
   "outputs": [
    {
     "data": {
      "text/plain": [
       "{True: 'abc'}"
      ]
     },
     "execution_count": 14,
     "metadata": {},
     "output_type": "execute_result"
    }
   ],
   "source": [
    "d5"
   ]
  },
  {
   "cell_type": "code",
   "execution_count": 15,
   "id": "3a62712c-f609-4321-a5ef-025bc6fa434c",
   "metadata": {},
   "outputs": [
    {
     "ename": "SyntaxError",
     "evalue": "incomplete input (36680248.py, line 1)",
     "output_type": "error",
     "traceback": [
      "\u001b[0;36m  Cell \u001b[0;32mIn[15], line 1\u001b[0;36m\u001b[0m\n\u001b[0;31m    d6 = {# : \"abc\"}\u001b[0m\n\u001b[0m                    ^\u001b[0m\n\u001b[0;31mSyntaxError\u001b[0m\u001b[0;31m:\u001b[0m incomplete input\n"
     ]
    }
   ],
   "source": [
    "d6 = {# : \"abc\"}"
   ]
  },
  {
   "cell_type": "code",
   "execution_count": 16,
   "id": "1bc08c3d-008e-4b07-8f9e-0e997a29da66",
   "metadata": {},
   "outputs": [
    {
     "ename": "SyntaxError",
     "evalue": "invalid syntax (183635709.py, line 1)",
     "output_type": "error",
     "traceback": [
      "\u001b[0;36m  Cell \u001b[0;32mIn[16], line 1\u001b[0;36m\u001b[0m\n\u001b[0;31m    d7 = {@ : \"abc\"}\u001b[0m\n\u001b[0m          ^\u001b[0m\n\u001b[0;31mSyntaxError\u001b[0m\u001b[0;31m:\u001b[0m invalid syntax\n"
     ]
    }
   ],
   "source": [
    "d7 = {@ : \"abc\"} "
   ]
  },
  {
   "cell_type": "code",
   "execution_count": 17,
   "id": "befce4d7-cd45-4a95-ab90-4ce24802dd9d",
   "metadata": {},
   "outputs": [
    {
     "ename": "TypeError",
     "evalue": "unhashable type: 'list'",
     "output_type": "error",
     "traceback": [
      "\u001b[0;31m---------------------------------------------------------------------------\u001b[0m",
      "\u001b[0;31mTypeError\u001b[0m                                 Traceback (most recent call last)",
      "Cell \u001b[0;32mIn[17], line 1\u001b[0m\n\u001b[0;32m----> 1\u001b[0m d8 \u001b[38;5;241m=\u001b[39m {[\u001b[38;5;241m1\u001b[39m,\u001b[38;5;241m2\u001b[39m,\u001b[38;5;241m3\u001b[39m] :\u001b[38;5;124m\"\u001b[39m\u001b[38;5;124mabc\u001b[39m\u001b[38;5;124m\"\u001b[39m}\n",
      "\u001b[0;31mTypeError\u001b[0m: unhashable type: 'list'"
     ]
    }
   ],
   "source": [
    "d8 = {[1,2,3] :\"abc\"}"
   ]
  },
  {
   "cell_type": "code",
   "execution_count": 18,
   "id": "f27f8c4a-a794-433c-84c1-9df323ea589e",
   "metadata": {},
   "outputs": [],
   "source": [
    "d9 = {(1,2,3) : \"abc\"}"
   ]
  },
  {
   "cell_type": "code",
   "execution_count": 19,
   "id": "d4146528-fa01-4435-a05a-d48339c64ed3",
   "metadata": {},
   "outputs": [
    {
     "data": {
      "text/plain": [
       "{(1, 2, 3): 'abc'}"
      ]
     },
     "execution_count": 19,
     "metadata": {},
     "output_type": "execute_result"
    }
   ],
   "source": [
    "d9"
   ]
  },
  {
   "cell_type": "code",
   "execution_count": 20,
   "id": "7c5568a7-651b-46a6-8bd5-9af3f35c9a73",
   "metadata": {},
   "outputs": [
    {
     "ename": "TypeError",
     "evalue": "unhashable type: 'set'",
     "output_type": "error",
     "traceback": [
      "\u001b[0;31m---------------------------------------------------------------------------\u001b[0m",
      "\u001b[0;31mTypeError\u001b[0m                                 Traceback (most recent call last)",
      "Cell \u001b[0;32mIn[20], line 1\u001b[0m\n\u001b[0;32m----> 1\u001b[0m d10 \u001b[38;5;241m=\u001b[39m {{\u001b[38;5;241m1\u001b[39m,\u001b[38;5;241m2\u001b[39m,\u001b[38;5;241m3\u001b[39m} :\u001b[38;5;124m\"\u001b[39m\u001b[38;5;124mabc\u001b[39m\u001b[38;5;124m\"\u001b[39m} \n",
      "\u001b[0;31mTypeError\u001b[0m: unhashable type: 'set'"
     ]
    }
   ],
   "source": [
    "d10 = {{1,2,3} :\"abc\"} "
   ]
  },
  {
   "cell_type": "code",
   "execution_count": 21,
   "id": "ebd2fec5-f953-446e-9665-d1a955e20819",
   "metadata": {},
   "outputs": [
    {
     "ename": "TypeError",
     "evalue": "unhashable type: 'dict'",
     "output_type": "error",
     "traceback": [
      "\u001b[0;31m---------------------------------------------------------------------------\u001b[0m",
      "\u001b[0;31mTypeError\u001b[0m                                 Traceback (most recent call last)",
      "Cell \u001b[0;32mIn[21], line 1\u001b[0m\n\u001b[0;32m----> 1\u001b[0m d11 \u001b[38;5;241m=\u001b[39m {{\u001b[38;5;124m\"\u001b[39m\u001b[38;5;124mkey\u001b[39m\u001b[38;5;124m\"\u001b[39m:\u001b[38;5;241m234\u001b[39m} : \u001b[38;5;124m\"\u001b[39m\u001b[38;5;124mabc\u001b[39m\u001b[38;5;124m\"\u001b[39m}\n",
      "\u001b[0;31mTypeError\u001b[0m: unhashable type: 'dict'"
     ]
    }
   ],
   "source": [
    "d11 = {{\"key\":234} : \"abc\"}"
   ]
  },
  {
   "cell_type": "code",
   "execution_count": 22,
   "id": "298e14ef-657e-4e64-a7c8-9788e0df9251",
   "metadata": {},
   "outputs": [],
   "source": [
    "d12 = {\"course_name\" : [\"data science master\" , \"web dev\" ,\"java with dsa and system Design\"]}"
   ]
  },
  {
   "cell_type": "code",
   "execution_count": 23,
   "id": "4b27f8bc-5d8c-418f-acdf-890384d11624",
   "metadata": {},
   "outputs": [
    {
     "data": {
      "text/plain": [
       "{'course_name': ['data science master',\n",
       "  'web dev',\n",
       "  'java with dsa and system Design']}"
      ]
     },
     "execution_count": 23,
     "metadata": {},
     "output_type": "execute_result"
    }
   ],
   "source": [
    "d12"
   ]
  },
  {
   "cell_type": "code",
   "execution_count": 24,
   "id": "5729faa7-d79a-4085-84c4-8b0bb94c89d1",
   "metadata": {},
   "outputs": [],
   "source": [
    "d13 = {\"key\" : (1,2,3,4,5)}"
   ]
  },
  {
   "cell_type": "code",
   "execution_count": 25,
   "id": "4be9157b-f8e9-4f8f-96d3-599fe9c8b2fe",
   "metadata": {},
   "outputs": [],
   "source": [
    "d14 = {\"key\" :{1,2,3,4}}"
   ]
  },
  {
   "cell_type": "code",
   "execution_count": 26,
   "id": "252fa57f-4267-457a-9b22-de70fb5d6506",
   "metadata": {},
   "outputs": [],
   "source": [
    "d15 = {\"key\" : {\"name\" : \"sudhanshu\" , \"class\" : \"DSM\"}}"
   ]
  },
  {
   "cell_type": "code",
   "execution_count": 27,
   "id": "8de14c98-2ad4-4661-911b-93212c691e65",
   "metadata": {},
   "outputs": [
    {
     "data": {
      "text/plain": [
       "{'key': {'name': 'sudhanshu', 'class': 'DSM'}}"
      ]
     },
     "execution_count": 27,
     "metadata": {},
     "output_type": "execute_result"
    }
   ],
   "source": [
    "d15"
   ]
  },
  {
   "cell_type": "code",
   "execution_count": 30,
   "id": "2137aec2-fb68-45c3-bb71-7d8337cfe47f",
   "metadata": {},
   "outputs": [],
   "source": [
    "d16 = {\"batch_name\" :[\"data science masters\" , \"web dev\" , \"JDS\"] , \"start_date\": (28,14,21),\"mentor_name\" : {\"krish naik\", \"sudhanshu\" , \"hitesh\", \"anurag\" , \"navin\",\"hayder\"}}"
   ]
  },
  {
   "cell_type": "code",
   "execution_count": 31,
   "id": "835e84fd-992a-4806-801a-9d1fa4d2e1bf",
   "metadata": {},
   "outputs": [
    {
     "data": {
      "text/plain": [
       "{'batch_name': ['data science masters', 'web dev', 'JDS'],\n",
       " 'start_date': (28, 14, 21),\n",
       " 'mentor_name': {'anurag',\n",
       "  'hayder',\n",
       "  'hitesh',\n",
       "  'krish naik',\n",
       "  'navin',\n",
       "  'sudhanshu'}}"
      ]
     },
     "execution_count": 31,
     "metadata": {},
     "output_type": "execute_result"
    }
   ],
   "source": [
    "d16"
   ]
  },
  {
   "cell_type": "code",
   "execution_count": 32,
   "id": "baf3dce9-0dda-416a-8200-842666d777a6",
   "metadata": {},
   "outputs": [],
   "source": [
    "d16[\"timing\"] = (8 , 8 ,8)"
   ]
  },
  {
   "cell_type": "code",
   "execution_count": 33,
   "id": "29b85686-3dc4-4c2a-916e-7411b2bb1545",
   "metadata": {},
   "outputs": [
    {
     "data": {
      "text/plain": [
       "{'batch_name': ['data science masters', 'web dev', 'JDS'],\n",
       " 'start_date': (28, 14, 21),\n",
       " 'mentor_name': {'anurag',\n",
       "  'hayder',\n",
       "  'hitesh',\n",
       "  'krish naik',\n",
       "  'navin',\n",
       "  'sudhanshu'},\n",
       " 'timing': (8, 8, 8)}"
      ]
     },
     "execution_count": 33,
     "metadata": {},
     "output_type": "execute_result"
    }
   ],
   "source": [
    "d16"
   ]
  },
  {
   "cell_type": "code",
   "execution_count": 34,
   "id": "d5fb802b-c422-4211-a05a-33692577f2e5",
   "metadata": {},
   "outputs": [
    {
     "data": {
      "text/plain": [
       "['data science masters', 'web dev', 'JDS']"
      ]
     },
     "execution_count": 34,
     "metadata": {},
     "output_type": "execute_result"
    }
   ],
   "source": [
    "d16['batch_name']"
   ]
  },
  {
   "cell_type": "code",
   "execution_count": 36,
   "id": "ab27303e-2127-4821-9077-a1d9c01f3aa4",
   "metadata": {},
   "outputs": [
    {
     "data": {
      "text/plain": [
       "set"
      ]
     },
     "execution_count": 36,
     "metadata": {},
     "output_type": "execute_result"
    }
   ],
   "source": [
    "type(d16['mentor_name'])"
   ]
  },
  {
   "cell_type": "code",
   "execution_count": 37,
   "id": "141b9bef-44c2-421a-b185-d5cbbe56afbc",
   "metadata": {},
   "outputs": [
    {
     "ename": "KeyError",
     "evalue": "'key'",
     "output_type": "error",
     "traceback": [
      "\u001b[0;31m---------------------------------------------------------------------------\u001b[0m",
      "\u001b[0;31mKeyError\u001b[0m                                  Traceback (most recent call last)",
      "Cell \u001b[0;32mIn[37], line 1\u001b[0m\n\u001b[0;32m----> 1\u001b[0m \u001b[43md16\u001b[49m\u001b[43m[\u001b[49m\u001b[38;5;124;43m\"\u001b[39;49m\u001b[38;5;124;43mkey\u001b[39;49m\u001b[38;5;124;43m\"\u001b[39;49m\u001b[43m]\u001b[49m\n",
      "\u001b[0;31mKeyError\u001b[0m: 'key'"
     ]
    }
   ],
   "source": [
    "d16[\"key\"]"
   ]
  },
  {
   "cell_type": "code",
   "execution_count": 40,
   "id": "7e6c702a-cc0e-494f-b2bd-e4f5c6c6e612",
   "metadata": {},
   "outputs": [],
   "source": [
    "d16[\"name\"]  = \"sudhanshu\""
   ]
  },
  {
   "cell_type": "code",
   "execution_count": 41,
   "id": "f763481a-dc7b-4274-9acb-3280c8bd116f",
   "metadata": {},
   "outputs": [
    {
     "data": {
      "text/plain": [
       "{'batch_name': ['data science masters', 'web dev', 'JDS'],\n",
       " 'start_date': (28, 14, 21),\n",
       " 'mentor_name': {'anurag',\n",
       "  'hayder',\n",
       "  'hitesh',\n",
       "  'krish naik',\n",
       "  'navin',\n",
       "  'sudhanshu'},\n",
       " 'timing': (8, 8, 8),\n",
       " 'name': 'sudhanshu'}"
      ]
     },
     "execution_count": 41,
     "metadata": {},
     "output_type": "execute_result"
    }
   ],
   "source": [
    "d16"
   ]
  },
  {
   "cell_type": "code",
   "execution_count": 43,
   "id": "07aeead2-d0fa-4862-a843-96d6de25ae4c",
   "metadata": {},
   "outputs": [
    {
     "data": {
      "text/plain": [
       "'SUDHANSHU'"
      ]
     },
     "execution_count": 43,
     "metadata": {},
     "output_type": "execute_result"
    }
   ],
   "source": [
    "d16['name'].upper()"
   ]
  },
  {
   "cell_type": "code",
   "execution_count": 45,
   "id": "080301e6-c1fb-4f23-bfff-455d480cafeb",
   "metadata": {},
   "outputs": [
    {
     "data": {
      "text/plain": [
       "{'key': {'name': 'sudhanshu', 'class': 'DSM'}}"
      ]
     },
     "execution_count": 45,
     "metadata": {},
     "output_type": "execute_result"
    }
   ],
   "source": [
    "d15"
   ]
  },
  {
   "cell_type": "code",
   "execution_count": 46,
   "id": "1ebab336-c440-489e-8593-b2f430ac2c10",
   "metadata": {},
   "outputs": [
    {
     "data": {
      "text/plain": [
       "{'name': 'sudhanshu', 'class': 'DSM'}"
      ]
     },
     "execution_count": 46,
     "metadata": {},
     "output_type": "execute_result"
    }
   ],
   "source": [
    "d15['key']"
   ]
  },
  {
   "cell_type": "code",
   "execution_count": 47,
   "id": "e321904c-e094-47d4-9a8f-0e183d2f94ef",
   "metadata": {},
   "outputs": [
    {
     "data": {
      "text/plain": [
       "dict"
      ]
     },
     "execution_count": 47,
     "metadata": {},
     "output_type": "execute_result"
    }
   ],
   "source": [
    "type(d15['key'])"
   ]
  },
  {
   "cell_type": "code",
   "execution_count": 48,
   "id": "4707fb38-edaf-4015-931a-133efe641e34",
   "metadata": {},
   "outputs": [
    {
     "data": {
      "text/plain": [
       "'DSM'"
      ]
     },
     "execution_count": 48,
     "metadata": {},
     "output_type": "execute_result"
    }
   ],
   "source": [
    "d15['key']['class']"
   ]
  },
  {
   "cell_type": "code",
   "execution_count": 49,
   "id": "921ad7e8-0924-44d7-897e-c51896ef698f",
   "metadata": {},
   "outputs": [
    {
     "data": {
      "text/plain": [
       "{'key': {'name': 'sudhanshu', 'class': 'DSM'}}"
      ]
     },
     "execution_count": 49,
     "metadata": {},
     "output_type": "execute_result"
    }
   ],
   "source": [
    "d15"
   ]
  },
  {
   "cell_type": "code",
   "execution_count": 51,
   "id": "812864c8-a425-498d-88a6-aca96ca006c6",
   "metadata": {},
   "outputs": [],
   "source": [
    "d15[\"key1\"] = \"abc\""
   ]
  },
  {
   "cell_type": "code",
   "execution_count": 52,
   "id": "39e719d9-5dcf-4409-9c14-754827698171",
   "metadata": {},
   "outputs": [
    {
     "data": {
      "text/plain": [
       "{'key': {'name': 'sudhanshu', 'class': 'DSM'}, 'key1': 'abc'}"
      ]
     },
     "execution_count": 52,
     "metadata": {},
     "output_type": "execute_result"
    }
   ],
   "source": [
    "d15"
   ]
  },
  {
   "cell_type": "code",
   "execution_count": 53,
   "id": "1bd718b2-4f13-482c-86ae-1aef3cd76151",
   "metadata": {},
   "outputs": [],
   "source": [
    "del d15['key1']"
   ]
  },
  {
   "cell_type": "code",
   "execution_count": 54,
   "id": "c334b28a-79dc-4c67-a8f3-497c5ca2827a",
   "metadata": {},
   "outputs": [
    {
     "data": {
      "text/plain": [
       "{'key': {'name': 'sudhanshu', 'class': 'DSM'}}"
      ]
     },
     "execution_count": 54,
     "metadata": {},
     "output_type": "execute_result"
    }
   ],
   "source": [
    "d15"
   ]
  },
  {
   "cell_type": "code",
   "execution_count": 55,
   "id": "c507919c-5d86-48c7-95e1-02e2c960c86b",
   "metadata": {},
   "outputs": [],
   "source": [
    "d15.clear()"
   ]
  },
  {
   "cell_type": "code",
   "execution_count": 56,
   "id": "c732b69b-516a-4c45-8223-5216460de583",
   "metadata": {},
   "outputs": [
    {
     "data": {
      "text/plain": [
       "{}"
      ]
     },
     "execution_count": 56,
     "metadata": {},
     "output_type": "execute_result"
    }
   ],
   "source": [
    "d15"
   ]
  },
  {
   "cell_type": "code",
   "execution_count": 57,
   "id": "f2235d2a-8dc5-4e56-9bae-b07f616e819d",
   "metadata": {},
   "outputs": [
    {
     "data": {
      "text/plain": [
       "5"
      ]
     },
     "execution_count": 57,
     "metadata": {},
     "output_type": "execute_result"
    }
   ],
   "source": [
    "len(d16)"
   ]
  },
  {
   "cell_type": "code",
   "execution_count": 58,
   "id": "32c0c83d-aaa7-4b9a-920d-b4ee0a716ba7",
   "metadata": {},
   "outputs": [
    {
     "data": {
      "text/plain": [
       "{'batch_name': ['data science masters', 'web dev', 'JDS'],\n",
       " 'start_date': (28, 14, 21),\n",
       " 'mentor_name': {'anurag',\n",
       "  'hayder',\n",
       "  'hitesh',\n",
       "  'krish naik',\n",
       "  'navin',\n",
       "  'sudhanshu'},\n",
       " 'timing': (8, 8, 8),\n",
       " 'name': 'sudhanshu'}"
      ]
     },
     "execution_count": 58,
     "metadata": {},
     "output_type": "execute_result"
    }
   ],
   "source": [
    "d16"
   ]
  },
  {
   "cell_type": "code",
   "execution_count": 59,
   "id": "5d2fcf87-7440-46e9-9958-adc264cce686",
   "metadata": {},
   "outputs": [
    {
     "data": {
      "text/plain": [
       "dict_keys(['batch_name', 'start_date', 'mentor_name', 'timing', 'name'])"
      ]
     },
     "execution_count": 59,
     "metadata": {},
     "output_type": "execute_result"
    }
   ],
   "source": [
    "d16.keys()"
   ]
  },
  {
   "cell_type": "code",
   "execution_count": 60,
   "id": "5b16bf2a-ab7c-4d78-82f1-9e7a3fd69832",
   "metadata": {},
   "outputs": [
    {
     "data": {
      "text/plain": [
       "dict_values([['data science masters', 'web dev', 'JDS'], (28, 14, 21), {'anurag', 'sudhanshu', 'hayder', 'navin', 'krish naik', 'hitesh'}, (8, 8, 8), 'sudhanshu'])"
      ]
     },
     "execution_count": 60,
     "metadata": {},
     "output_type": "execute_result"
    }
   ],
   "source": [
    "d16.values()"
   ]
  },
  {
   "cell_type": "code",
   "execution_count": 61,
   "id": "d2fc5147-49ff-44cc-af6b-aaf149e3098c",
   "metadata": {},
   "outputs": [
    {
     "data": {
      "text/plain": [
       "[['data science masters', 'web dev', 'JDS'],\n",
       " (28, 14, 21),\n",
       " {'anurag', 'hayder', 'hitesh', 'krish naik', 'navin', 'sudhanshu'},\n",
       " (8, 8, 8),\n",
       " 'sudhanshu']"
      ]
     },
     "execution_count": 61,
     "metadata": {},
     "output_type": "execute_result"
    }
   ],
   "source": [
    "list(d16.values())"
   ]
  },
  {
   "cell_type": "code",
   "execution_count": 62,
   "id": "84ccc888-a7a8-40ea-9bc9-4e60b0c26408",
   "metadata": {},
   "outputs": [
    {
     "data": {
      "text/plain": [
       "['batch_name', 'start_date', 'mentor_name', 'timing', 'name']"
      ]
     },
     "execution_count": 62,
     "metadata": {},
     "output_type": "execute_result"
    }
   ],
   "source": [
    "list(d16.keys())"
   ]
  },
  {
   "cell_type": "code",
   "execution_count": 64,
   "id": "7bf7fc4a-b25c-4134-abfc-cdc8c91c643d",
   "metadata": {},
   "outputs": [
    {
     "data": {
      "text/plain": [
       "[('batch_name', ['data science masters', 'web dev', 'JDS']),\n",
       " ('start_date', (28, 14, 21)),\n",
       " ('mentor_name',\n",
       "  {'anurag', 'hayder', 'hitesh', 'krish naik', 'navin', 'sudhanshu'}),\n",
       " ('timing', (8, 8, 8)),\n",
       " ('name', 'sudhanshu')]"
      ]
     },
     "execution_count": 64,
     "metadata": {},
     "output_type": "execute_result"
    }
   ],
   "source": [
    "list(d16.items())"
   ]
  },
  {
   "cell_type": "code",
   "execution_count": 65,
   "id": "0b18d17c-a8d3-4e5d-ac4e-ebab7a38f816",
   "metadata": {},
   "outputs": [
    {
     "data": {
      "text/plain": [
       "{'batch_name': ['data science masters', 'web dev', 'JDS'],\n",
       " 'start_date': (28, 14, 21),\n",
       " 'mentor_name': {'anurag',\n",
       "  'hayder',\n",
       "  'hitesh',\n",
       "  'krish naik',\n",
       "  'navin',\n",
       "  'sudhanshu'},\n",
       " 'timing': (8, 8, 8),\n",
       " 'name': 'sudhanshu'}"
      ]
     },
     "execution_count": 65,
     "metadata": {},
     "output_type": "execute_result"
    }
   ],
   "source": [
    "d16"
   ]
  },
  {
   "cell_type": "code",
   "execution_count": 66,
   "id": "dae688e2-d88b-429c-8ded-4b320e949e45",
   "metadata": {},
   "outputs": [],
   "source": [
    "d17 = d16.copy()"
   ]
  },
  {
   "cell_type": "code",
   "execution_count": 67,
   "id": "45f38137-fdcb-45cb-84b8-385b74e7ffeb",
   "metadata": {},
   "outputs": [
    {
     "data": {
      "text/plain": [
       "{'batch_name': ['data science masters', 'web dev', 'JDS'],\n",
       " 'start_date': (28, 14, 21),\n",
       " 'mentor_name': {'anurag',\n",
       "  'hayder',\n",
       "  'hitesh',\n",
       "  'krish naik',\n",
       "  'navin',\n",
       "  'sudhanshu'},\n",
       " 'timing': (8, 8, 8),\n",
       " 'name': 'sudhanshu'}"
      ]
     },
     "execution_count": 67,
     "metadata": {},
     "output_type": "execute_result"
    }
   ],
   "source": [
    "d17"
   ]
  },
  {
   "cell_type": "code",
   "execution_count": 70,
   "id": "a515ff20-bfca-48c2-b434-c83f70b4a314",
   "metadata": {},
   "outputs": [],
   "source": [
    "del d16['name']"
   ]
  },
  {
   "cell_type": "code",
   "execution_count": 71,
   "id": "bdc63c30-f1da-4a91-bc9e-f2ca893e55c9",
   "metadata": {},
   "outputs": [
    {
     "data": {
      "text/plain": [
       "{'batch_name': ['data science masters', 'web dev', 'JDS'],\n",
       " 'start_date': (28, 14, 21),\n",
       " 'mentor_name': {'anurag',\n",
       "  'hayder',\n",
       "  'hitesh',\n",
       "  'krish naik',\n",
       "  'navin',\n",
       "  'sudhanshu'},\n",
       " 'timing': (8, 8, 8)}"
      ]
     },
     "execution_count": 71,
     "metadata": {},
     "output_type": "execute_result"
    }
   ],
   "source": [
    "d16"
   ]
  },
  {
   "cell_type": "code",
   "execution_count": 72,
   "id": "d19802a8-9f6d-4f08-a1aa-f5cce99777ca",
   "metadata": {},
   "outputs": [
    {
     "data": {
      "text/plain": [
       "{'batch_name': ['data science masters', 'web dev', 'JDS'],\n",
       " 'start_date': (28, 14, 21),\n",
       " 'mentor_name': {'anurag',\n",
       "  'hayder',\n",
       "  'hitesh',\n",
       "  'krish naik',\n",
       "  'navin',\n",
       "  'sudhanshu'},\n",
       " 'timing': (8, 8, 8),\n",
       " 'name': 'sudhanshu'}"
      ]
     },
     "execution_count": 72,
     "metadata": {},
     "output_type": "execute_result"
    }
   ],
   "source": [
    "d17"
   ]
  },
  {
   "cell_type": "code",
   "execution_count": 68,
   "id": "a1d97415-7d80-4495-8338-54bc17fec4bb",
   "metadata": {},
   "outputs": [],
   "source": [
    "d18 = d16"
   ]
  },
  {
   "cell_type": "code",
   "execution_count": 73,
   "id": "6f621697-0638-4c44-982f-6142ecec9fb6",
   "metadata": {},
   "outputs": [
    {
     "data": {
      "text/plain": [
       "{'batch_name': ['data science masters', 'web dev', 'JDS'],\n",
       " 'start_date': (28, 14, 21),\n",
       " 'mentor_name': {'anurag',\n",
       "  'hayder',\n",
       "  'hitesh',\n",
       "  'krish naik',\n",
       "  'navin',\n",
       "  'sudhanshu'},\n",
       " 'timing': (8, 8, 8)}"
      ]
     },
     "execution_count": 73,
     "metadata": {},
     "output_type": "execute_result"
    }
   ],
   "source": [
    "d18"
   ]
  },
  {
   "cell_type": "code",
   "execution_count": 74,
   "id": "0dd83fa8-c47b-47c0-8cf4-7e4aa88f80e3",
   "metadata": {},
   "outputs": [
    {
     "data": {
      "text/plain": [
       "{'batch_name': ['data science masters', 'web dev', 'JDS'],\n",
       " 'start_date': (28, 14, 21),\n",
       " 'mentor_name': {'anurag',\n",
       "  'hayder',\n",
       "  'hitesh',\n",
       "  'krish naik',\n",
       "  'navin',\n",
       "  'sudhanshu'},\n",
       " 'timing': (8, 8, 8)}"
      ]
     },
     "execution_count": 74,
     "metadata": {},
     "output_type": "execute_result"
    }
   ],
   "source": [
    "d16"
   ]
  },
  {
   "cell_type": "code",
   "execution_count": 75,
   "id": "5ef2ab57-4cce-4ba9-b847-47f0e520c09d",
   "metadata": {},
   "outputs": [
    {
     "ename": "TypeError",
     "evalue": "pop expected at least 1 argument, got 0",
     "output_type": "error",
     "traceback": [
      "\u001b[0;31m---------------------------------------------------------------------------\u001b[0m",
      "\u001b[0;31mTypeError\u001b[0m                                 Traceback (most recent call last)",
      "Cell \u001b[0;32mIn[75], line 1\u001b[0m\n\u001b[0;32m----> 1\u001b[0m \u001b[43md16\u001b[49m\u001b[38;5;241;43m.\u001b[39;49m\u001b[43mpop\u001b[49m\u001b[43m(\u001b[49m\u001b[43m)\u001b[49m\n",
      "\u001b[0;31mTypeError\u001b[0m: pop expected at least 1 argument, got 0"
     ]
    }
   ],
   "source": [
    "d16.pop()"
   ]
  },
  {
   "cell_type": "code",
   "execution_count": 76,
   "id": "63d46c51-53f4-41ce-8803-ef9434aab714",
   "metadata": {},
   "outputs": [
    {
     "data": {
      "text/plain": [
       "(8, 8, 8)"
      ]
     },
     "execution_count": 76,
     "metadata": {},
     "output_type": "execute_result"
    }
   ],
   "source": [
    "d16.pop('timing')"
   ]
  },
  {
   "cell_type": "code",
   "execution_count": 77,
   "id": "f8fe9a1c-fa43-485f-bd2e-b80c805e05e4",
   "metadata": {},
   "outputs": [
    {
     "data": {
      "text/plain": [
       "{'batch_name': ['data science masters', 'web dev', 'JDS'],\n",
       " 'start_date': (28, 14, 21),\n",
       " 'mentor_name': {'anurag',\n",
       "  'hayder',\n",
       "  'hitesh',\n",
       "  'krish naik',\n",
       "  'navin',\n",
       "  'sudhanshu'}}"
      ]
     },
     "execution_count": 77,
     "metadata": {},
     "output_type": "execute_result"
    }
   ],
   "source": [
    "d16"
   ]
  },
  {
   "cell_type": "code",
   "execution_count": 78,
   "id": "e2c4637d-ad39-4120-95ed-dc65e1b40a1c",
   "metadata": {},
   "outputs": [
    {
     "data": {
      "text/plain": [
       "{'anurag', 'hayder', 'hitesh', 'krish naik', 'navin', 'sudhanshu'}"
      ]
     },
     "execution_count": 78,
     "metadata": {},
     "output_type": "execute_result"
    }
   ],
   "source": [
    "d16.pop('mentor_name')"
   ]
  },
  {
   "cell_type": "code",
   "execution_count": 79,
   "id": "6fa660e1-4447-46f9-b131-74b3d5eed4c7",
   "metadata": {},
   "outputs": [
    {
     "data": {
      "text/plain": [
       "{'batch_name': ['data science masters', 'web dev', 'JDS'],\n",
       " 'start_date': (28, 14, 21)}"
      ]
     },
     "execution_count": 79,
     "metadata": {},
     "output_type": "execute_result"
    }
   ],
   "source": [
    "d16"
   ]
  },
  {
   "cell_type": "code",
   "execution_count": 80,
   "id": "627febc5-7595-48a2-9b3b-9f5c026c4e4c",
   "metadata": {},
   "outputs": [
    {
     "data": {
      "text/plain": [
       "{1: ('a', 'b', 'c'), 2: ('a', 'b', 'c'), 3: ('a', 'b', 'c')}"
      ]
     },
     "execution_count": 80,
     "metadata": {},
     "output_type": "execute_result"
    }
   ],
   "source": [
    "d.fromkeys((1,2,3) , ('a','b','c'))"
   ]
  },
  {
   "cell_type": "code",
   "execution_count": 81,
   "id": "9ff1a27b-674d-4147-8f11-d562480b7d4d",
   "metadata": {},
   "outputs": [],
   "source": [
    "d19 = {\"key1\" : \"value\" , \"key2\" : \"value2\"}\n",
    "d20 = {\"key3\" : \"value3\" , \"key4\" :\"value4\"}"
   ]
  },
  {
   "cell_type": "code",
   "execution_count": 82,
   "id": "93cd01a1-c9ee-45f5-8b5f-1ae7c353a49a",
   "metadata": {},
   "outputs": [
    {
     "data": {
      "text/plain": [
       "({'key1': 'value', 'key2': 'value2'}, {'key3': 'value3', 'key4': 'value4'})"
      ]
     },
     "execution_count": 82,
     "metadata": {},
     "output_type": "execute_result"
    }
   ],
   "source": [
    "(d19,d20)"
   ]
  },
  {
   "cell_type": "code",
   "execution_count": 83,
   "id": "f4b4bc9f-c75c-4ba4-9502-dbb51a4c213b",
   "metadata": {},
   "outputs": [],
   "source": [
    "d19.update(d20)"
   ]
  },
  {
   "cell_type": "code",
   "execution_count": 84,
   "id": "4acfa6eb-a378-41c8-9ebe-839119e77916",
   "metadata": {},
   "outputs": [
    {
     "data": {
      "text/plain": [
       "{'key1': 'value', 'key2': 'value2', 'key3': 'value3', 'key4': 'value4'}"
      ]
     },
     "execution_count": 84,
     "metadata": {},
     "output_type": "execute_result"
    }
   ],
   "source": [
    "d19"
   ]
  },
  {
   "cell_type": "code",
   "execution_count": 85,
   "id": "f9f8c7e5-fd82-47e2-92fe-ab1be1e21916",
   "metadata": {},
   "outputs": [
    {
     "data": {
      "text/plain": [
       "{'key3': 'value3', 'key4': 'value4'}"
      ]
     },
     "execution_count": 85,
     "metadata": {},
     "output_type": "execute_result"
    }
   ],
   "source": [
    "d20"
   ]
  },
  {
   "cell_type": "code",
   "execution_count": 86,
   "id": "606bbed3-8025-4205-ac93-8b02fd195484",
   "metadata": {},
   "outputs": [],
   "source": [
    "d20.update(d19)"
   ]
  },
  {
   "cell_type": "code",
   "execution_count": 87,
   "id": "f5ad9e0b-74ac-49c6-b5a4-8f3b33f35642",
   "metadata": {},
   "outputs": [
    {
     "data": {
      "text/plain": [
       "{'key3': 'value3', 'key4': 'value4', 'key1': 'value', 'key2': 'value2'}"
      ]
     },
     "execution_count": 87,
     "metadata": {},
     "output_type": "execute_result"
    }
   ],
   "source": [
    "d20"
   ]
  },
  {
   "cell_type": "code",
   "execution_count": 89,
   "id": "c1444366-3cdc-4eab-8d0b-17c72c57f262",
   "metadata": {},
   "outputs": [],
   "source": [
    "d20.get(\"sudh\")"
   ]
  },
  {
   "cell_type": "code",
   "execution_count": 90,
   "id": "4c391885-8935-4578-92ff-2238e4e93ec3",
   "metadata": {},
   "outputs": [
    {
     "data": {
      "text/plain": [
       "'value3'"
      ]
     },
     "execution_count": 90,
     "metadata": {},
     "output_type": "execute_result"
    }
   ],
   "source": [
    "d20.get(\"key3\")"
   ]
  },
  {
   "cell_type": "code",
   "execution_count": 91,
   "id": "5056dde6-b18b-4fea-8a9d-a804ab65e5f9",
   "metadata": {},
   "outputs": [
    {
     "data": {
      "text/plain": [
       "'value3'"
      ]
     },
     "execution_count": 91,
     "metadata": {},
     "output_type": "execute_result"
    }
   ],
   "source": [
    "d20[\"key3\"]"
   ]
  },
  {
   "cell_type": "code",
   "execution_count": 92,
   "id": "d03d4933-a2c4-49cc-b089-a825f481ff57",
   "metadata": {},
   "outputs": [
    {
     "ename": "KeyError",
     "evalue": "'sudh'",
     "output_type": "error",
     "traceback": [
      "\u001b[0;31m---------------------------------------------------------------------------\u001b[0m",
      "\u001b[0;31mKeyError\u001b[0m                                  Traceback (most recent call last)",
      "Cell \u001b[0;32mIn[92], line 1\u001b[0m\n\u001b[0;32m----> 1\u001b[0m \u001b[43md20\u001b[49m\u001b[43m[\u001b[49m\u001b[38;5;124;43m\"\u001b[39;49m\u001b[38;5;124;43msudh\u001b[39;49m\u001b[38;5;124;43m\"\u001b[39;49m\u001b[43m]\u001b[49m\n",
      "\u001b[0;31mKeyError\u001b[0m: 'sudh'"
     ]
    }
   ],
   "source": [
    "d20[\"sudh\"]"
   ]
  },
  {
   "cell_type": "markdown",
   "id": "f3cdefe5-89c2-497e-802f-69232ab3eb0d",
   "metadata": {},
   "source": [
    "Dictionary Comprehensions"
   ]
  },
  {
   "cell_type": "code",
   "execution_count": 94,
   "id": "cbec9e65-e344-427e-80b5-dd806acf0dbe",
   "metadata": {},
   "outputs": [
    {
     "data": {
      "text/plain": [
       "{1: 1, 2: 4, 3: 9, 4: 16, 5: 25, 6: 36, 7: 49, 8: 64, 9: 81, 10: 100}"
      ]
     },
     "execution_count": 94,
     "metadata": {},
     "output_type": "execute_result"
    }
   ],
   "source": [
    "{i : i**2 for i in range(1,11)}"
   ]
  },
  {
   "cell_type": "code",
   "execution_count": 93,
   "id": "5e69a7a4-9f4f-4e4a-bd4e-6f9fdf2a4a60",
   "metadata": {},
   "outputs": [
    {
     "data": {
      "text/plain": [
       "[1, 2, 3, 4, 5, 6, 7, 8, 9, 10]"
      ]
     },
     "execution_count": 93,
     "metadata": {},
     "output_type": "execute_result"
    }
   ],
   "source": [
    "list(range(1,11))"
   ]
  },
  {
   "cell_type": "code",
   "execution_count": 95,
   "id": "089afbd0-e19e-477a-b490-995b2438aa00",
   "metadata": {},
   "outputs": [
    {
     "data": {
      "text/plain": [
       "{1: 11, 2: 12, 3: 13, 4: 14, 5: 15, 6: 16, 7: 17, 8: 18, 9: 19, 10: 20}"
      ]
     },
     "execution_count": 95,
     "metadata": {},
     "output_type": "execute_result"
    }
   ],
   "source": [
    "{i : i+10 for i in range(1,11)}"
   ]
  },
  {
   "cell_type": "code",
   "execution_count": 99,
   "id": "8bdee747-00d5-410d-8a38-736d394ac022",
   "metadata": {},
   "outputs": [],
   "source": [
    "import math\n",
    "d21 = {i :math.log10(i) for i in range(1,11)}"
   ]
  },
  {
   "cell_type": "code",
   "execution_count": 97,
   "id": "ba2271ac-5c70-4553-abef-08dfdee630e5",
   "metadata": {},
   "outputs": [
    {
     "data": {
      "text/plain": [
       "{'batch_name': ['data science masters', 'web dev', 'JDS'],\n",
       " 'start_date': (28, 14, 21)}"
      ]
     },
     "execution_count": 97,
     "metadata": {},
     "output_type": "execute_result"
    }
   ],
   "source": [
    "d16"
   ]
  },
  {
   "cell_type": "code",
   "execution_count": 98,
   "id": "742fb622-6b82-4e1d-aa3e-974c7cdce39e",
   "metadata": {},
   "outputs": [
    {
     "data": {
      "text/plain": [
       "True"
      ]
     },
     "execution_count": 98,
     "metadata": {},
     "output_type": "execute_result"
    }
   ],
   "source": [
    "'batch_name' in d16"
   ]
  },
  {
   "cell_type": "code",
   "execution_count": 100,
   "id": "5f4efd76-ec46-41c9-a114-ca2ffa7474ed",
   "metadata": {},
   "outputs": [
    {
     "data": {
      "text/plain": [
       "{1: 0.0,\n",
       " 2: 0.3010299956639812,\n",
       " 3: 0.47712125471966244,\n",
       " 4: 0.6020599913279624,\n",
       " 5: 0.6989700043360189,\n",
       " 6: 0.7781512503836436,\n",
       " 7: 0.8450980400142568,\n",
       " 8: 0.9030899869919435,\n",
       " 9: 0.9542425094393249,\n",
       " 10: 1.0}"
      ]
     },
     "execution_count": 100,
     "metadata": {},
     "output_type": "execute_result"
    }
   ],
   "source": [
    "d21"
   ]
  },
  {
   "cell_type": "code",
   "execution_count": 101,
   "id": "2c0a27b7-3882-4223-ac6f-33f711c4b590",
   "metadata": {},
   "outputs": [
    {
     "data": {
      "text/plain": [
       "dict_keys([1, 2, 3, 4, 5, 6, 7, 8, 9, 10])"
      ]
     },
     "execution_count": 101,
     "metadata": {},
     "output_type": "execute_result"
    }
   ],
   "source": [
    "d21.keys()"
   ]
  },
  {
   "cell_type": "code",
   "execution_count": 102,
   "id": "dfcd9147-c0b0-4f4b-a8aa-fcf8e853bf34",
   "metadata": {},
   "outputs": [
    {
     "name": "stdout",
     "output_type": "stream",
     "text": [
      "0.3010299956639812\n",
      "0.6020599913279624\n",
      "0.7781512503836436\n",
      "0.9030899869919435\n",
      "1.0\n"
     ]
    }
   ],
   "source": [
    "for i in d21.keys():\n",
    "    if i % 2 == 0 :\n",
    "        print(d21[i])\n",
    "        "
   ]
  },
  {
   "cell_type": "code",
   "execution_count": null,
   "id": "537b736b-4b27-4103-8365-db042814c943",
   "metadata": {},
   "outputs": [],
   "source": []
  }
 ],
 "metadata": {
  "kernelspec": {
   "display_name": "Python 3 (ipykernel)",
   "language": "python",
   "name": "python3"
  },
  "language_info": {
   "codemirror_mode": {
    "name": "ipython",
    "version": 3
   },
   "file_extension": ".py",
   "mimetype": "text/x-python",
   "name": "python",
   "nbconvert_exporter": "python",
   "pygments_lexer": "ipython3",
   "version": "3.10.8"
  }
 },
 "nbformat": 4,
 "nbformat_minor": 5
}
