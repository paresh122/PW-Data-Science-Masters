{
 "cells": [
  {
   "cell_type": "code",
   "execution_count": 2,
   "id": "e287e709-5c0e-4e81-aad6-e29559ac0b33",
   "metadata": {},
   "outputs": [
    {
     "name": "stdout",
     "output_type": "stream",
     "text": [
      "this is my print stamt\n"
     ]
    }
   ],
   "source": [
    "print(\"this is my print stamt\")"
   ]
  },
  {
   "cell_type": "code",
   "execution_count": 1,
   "id": "5cc7ab69-4e65-4493-8870-66182dddcdba",
   "metadata": {},
   "outputs": [],
   "source": [
    "import logging"
   ]
  },
  {
   "cell_type": "code",
   "execution_count": 4,
   "id": "a1ea1d80-f688-47c4-a3fa-5bcebeae5bb9",
   "metadata": {},
   "outputs": [],
   "source": [
    "logging.basicConfig(filename = \"test.log\" , level = logging.INFO)"
   ]
  },
  {
   "cell_type": "code",
   "execution_count": 5,
   "id": "fa03c76c-b133-4593-8d4d-2c1b4c860c0d",
   "metadata": {},
   "outputs": [],
   "source": [
    "logging.info(\"this is my line of execution \")"
   ]
  },
  {
   "cell_type": "code",
   "execution_count": 6,
   "id": "f69b8fd8-41ee-4926-ad87-c7d0099d3a3f",
   "metadata": {},
   "outputs": [],
   "source": [
    "logging.error(\"this is my error\")"
   ]
  },
  {
   "cell_type": "code",
   "execution_count": 7,
   "id": "21d6837a-fc55-4849-a259-09943c65d23d",
   "metadata": {},
   "outputs": [],
   "source": [
    "logging.critical(\"this is my critical\")"
   ]
  },
  {
   "cell_type": "code",
   "execution_count": 8,
   "id": "6a5103a1-1250-4be7-8258-6f65929887b8",
   "metadata": {},
   "outputs": [],
   "source": [
    "logging.warning(\"this is my warning \")"
   ]
  },
  {
   "cell_type": "code",
   "execution_count": 9,
   "id": "68497c3e-f6d1-45bd-815d-2c882712f40f",
   "metadata": {},
   "outputs": [],
   "source": [
    "logging.debug(\"this is my info related to debug\")"
   ]
  },
  {
   "cell_type": "code",
   "execution_count": 10,
   "id": "66e1562f-fdc9-4224-b573-df940677568b",
   "metadata": {},
   "outputs": [
    {
     "ename": "AttributeError",
     "evalue": "module 'logging' has no attribute 'noset'",
     "output_type": "error",
     "traceback": [
      "\u001b[0;31m---------------------------------------------------------------------------\u001b[0m",
      "\u001b[0;31mAttributeError\u001b[0m                            Traceback (most recent call last)",
      "Cell \u001b[0;32mIn[10], line 1\u001b[0m\n\u001b[0;32m----> 1\u001b[0m \u001b[43mlogging\u001b[49m\u001b[38;5;241;43m.\u001b[39;49m\u001b[43mnoset\u001b[49m(\u001b[38;5;124m\"\u001b[39m\u001b[38;5;124mthis is my noset related log\u001b[39m\u001b[38;5;124m\"\u001b[39m)\n",
      "\u001b[0;31mAttributeError\u001b[0m: module 'logging' has no attribute 'noset'"
     ]
    }
   ],
   "source": [
    "logging.noset(\"this is my noset related log\")"
   ]
  },
  {
   "cell_type": "code",
   "execution_count": 11,
   "id": "e20fb467-1717-49ec-9192-e95a323a2299",
   "metadata": {},
   "outputs": [],
   "source": [
    "logging.shutdown()"
   ]
  },
  {
   "cell_type": "code",
   "execution_count": null,
   "id": "3cebb41e-c649-4288-a69c-0bf249a5c57a",
   "metadata": {},
   "outputs": [],
   "source": [
    "1. NOSET\n",
    "2. DEBUG\n",
    "3. INFO\n",
    "4. WARNING\n",
    "5. ERROR\n",
    "6. CRITICAL"
   ]
  },
  {
   "cell_type": "code",
   "execution_count": 2,
   "id": "e892f778-c0ef-4f7a-8082-1178a70b33ff",
   "metadata": {},
   "outputs": [],
   "source": [
    "logging.basicConfig(filename = \"test1.log\" , level = logging.DEBUG ,format = '%(asctime)s %(message)s'  )"
   ]
  },
  {
   "cell_type": "code",
   "execution_count": 3,
   "id": "29fa8446-d82d-4830-9a91-25861acdf64d",
   "metadata": {},
   "outputs": [],
   "source": [
    "logging.info(\"this is my info log\")"
   ]
  },
  {
   "cell_type": "code",
   "execution_count": 4,
   "id": "d1cd63d8-01fb-4caf-aed7-69ed4afd3324",
   "metadata": {},
   "outputs": [],
   "source": [
    "logging.debug(\"this is my debug log\")"
   ]
  },
  {
   "cell_type": "code",
   "execution_count": 5,
   "id": "498c5cff-a437-4fa2-83a1-2739d29d2049",
   "metadata": {},
   "outputs": [],
   "source": [
    "logging.warning(\"this is my warning \")"
   ]
  },
  {
   "cell_type": "code",
   "execution_count": 6,
   "id": "85c20c00-ef99-454d-9a90-91e1ed4bd5d9",
   "metadata": {},
   "outputs": [],
   "source": [
    "logging.shutdown()"
   ]
  },
  {
   "cell_type": "code",
   "execution_count": 2,
   "id": "08abf808-30f3-4287-9994-cd1c23d57164",
   "metadata": {},
   "outputs": [],
   "source": [
    "logging.basicConfig(filename = \"test3.log\" , level = logging.DEBUG, format = '%(asctime)s %(name)s %(levelname)s  %(message)s')"
   ]
  },
  {
   "cell_type": "code",
   "execution_count": 3,
   "id": "188a6dd8-a104-4735-89f1-956b55df493b",
   "metadata": {},
   "outputs": [],
   "source": [
    "logging.info(\"this is my info log\")"
   ]
  },
  {
   "cell_type": "code",
   "execution_count": 5,
   "id": "8484508d-308d-4ba4-8487-262432f064d8",
   "metadata": {},
   "outputs": [],
   "source": [
    "l = [1,2,3,4,[4,5,6] , \"sudh\" ,\"kumar\"]"
   ]
  },
  {
   "cell_type": "code",
   "execution_count": 11,
   "id": "10dabf58-02e5-4a88-9d87-b46e3036b83b",
   "metadata": {},
   "outputs": [],
   "source": [
    "l1_int = []\n",
    "l2_str = []\n",
    "for i in l : \n",
    "    logging.info(\"this is the start of my first for loop {}\".format(l))\n",
    "    logging.info(\"this is the value of i am logging {}\".format(i))\n",
    "    if type(i) == list:\n",
    "        for j in i :\n",
    "            logging.info(\"logggin my j {j} and i is {i}\".format(i = i ,j = j))\n",
    "            if type(j) == int :\n",
    "                l1_int.append(j)\n",
    "    elif type(i) == int :\n",
    "        l1_int.append(i)\n",
    "        \n",
    "    else :\n",
    "        if type(i) == str:\n",
    "            l2_str.append(i)\n",
    "logging.info(\"this is my final result  with all int {l1} ,with all str{l2}\".format(l1 =l1_int ,l2 =l2_str ))\n",
    "        "
   ]
  },
  {
   "cell_type": "code",
   "execution_count": 7,
   "id": "eecc58b7-6129-42cb-8e42-9f91dccec38e",
   "metadata": {},
   "outputs": [
    {
     "data": {
      "text/plain": [
       "[1, 2, 3, 4, 4, 5, 6]"
      ]
     },
     "execution_count": 7,
     "metadata": {},
     "output_type": "execute_result"
    }
   ],
   "source": [
    "l1_int"
   ]
  },
  {
   "cell_type": "code",
   "execution_count": 8,
   "id": "dedfefa1-40c8-4dcc-b6cf-945162cc751b",
   "metadata": {},
   "outputs": [
    {
     "data": {
      "text/plain": [
       "['sudh', 'kumar']"
      ]
     },
     "execution_count": 8,
     "metadata": {},
     "output_type": "execute_result"
    }
   ],
   "source": [
    "l2_str"
   ]
  },
  {
   "cell_type": "code",
   "execution_count": null,
   "id": "8d9a5597-e529-4e0f-9fea-ec50f83c8e46",
   "metadata": {},
   "outputs": [],
   "source": []
  }
 ],
 "metadata": {
  "kernelspec": {
   "display_name": "Python 3 (ipykernel)",
   "language": "python",
   "name": "python3"
  },
  "language_info": {
   "codemirror_mode": {
    "name": "ipython",
    "version": 3
   },
   "file_extension": ".py",
   "mimetype": "text/x-python",
   "name": "python",
   "nbconvert_exporter": "python",
   "pygments_lexer": "ipython3",
   "version": "3.10.8"
  }
 },
 "nbformat": 4,
 "nbformat_minor": 5
}
