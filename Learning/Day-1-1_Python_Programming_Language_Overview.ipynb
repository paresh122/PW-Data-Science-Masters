{
  "cells": [
    {
      "cell_type": "markdown",
      "metadata": {
        "id": "pQEGDvx_F1lx"
      },
      "source": []
    },
    {
      "cell_type": "code",
      "execution_count": null,
      "metadata": {
        "id": "6YwZa7TvEMTC",
        "outputId": "7080fff2-88ee-49b8-bc56-80b995cbd28a"
      },
      "outputs": [
        {
          "data": {
            "text/plain": [
              "'C:\\\\Users\\\\win10\\\\jupyter\\\\Complete Python Module-20210227T092441Z-001\\\\Complete Python Module\\\\1.Python Overview'"
            ]
          },
          "execution_count": 1,
          "metadata": {},
          "output_type": "execute_result"
        }
      ],
      "source": [
        "pwd()"
      ]
    },
    {
      "cell_type": "markdown",
      "metadata": {
        "id": "zxEi6ABoGVx1"
      },
      "source": [
        "# A Recent Study About Programming\n",
        "\n",
        "### Programming 'language': Brain scans reveal coding uses same regions as speech - [Article Link](https://medicalxpress.com/news/2020-06-language-brain-scans-reveal-coding.html)\n",
        "\n",
        "This proves that Programming is nothing but a language that you learn to speak to communicate with the computer. And Python serves best here because of its easy to learn and read syntax. "
      ]
    },
    {
      "cell_type": "markdown",
      "metadata": {
        "id": "iLIEkHepBIdB"
      },
      "source": [
        "## 1.1 Introduction\n",
        "\n"
      ]
    },
    {
      "cell_type": "markdown",
      "metadata": {
        "id": "UkjHTnA54OAw"
      },
      "source": [
        "* Python is an-  \n",
        "> * interpreted, \n",
        "> * object-oriented, \n",
        "> * high-level programming language with dynamic semantics. \n",
        "\n",
        "* It was created by **[Guido van Rossum](https://en.wikipedia.org/wiki/Guido_van_Rossum)** and first released in the year **1991**.\n",
        "\n",
        "* It has the following features that makes it very attractive for Rapid Application Development, as well as for use as a scripting or glue language to connect existing components together - \n",
        "> * high-level built in data structures, \n",
        "> * dynamic typing\n",
        "> * dynamic binding\n",
        "\n",
        "* Python's simple, easy to learn syntax emphasizes on code readability with the use of whitespaces and therefore reduces the cost of program maintenance.\n",
        "\n",
        "* Python supports modules and packages, which encourages program modularity and code reuse. \n",
        "\n",
        "* The Python interpreter and the extensive standard library are available in source or binary form without charge for all major platforms, and can be freely distributed.\n",
        "\n",
        "* Python is a great general-purpose programming language on its own, but with the help of a few popular libraries (numpy, scipy, matplotlib) it becomes a powerful environment for scientific computing.\n",
        "\n",
        "---"
      ]
    },
    {
      "cell_type": "markdown",
      "metadata": {
        "id": "lKy1EFls4OA6"
      },
      "source": [
        "## 1.2 Python Version\n",
        "\n"
      ]
    },
    {
      "cell_type": "markdown",
      "metadata": {
        "id": "X7tHl0nzFwjW"
      },
      "source": [
        "### 1.2.1 Python 2\n",
        "* Published in late 2000, Python 2 signalled a more transparent and inclusive language development process than earlier versions of Python with the implementation of PEP (Python Enhancement Proposal), a technical specification that either provides information to Python community members or describes a new feature of the language.\n",
        "* Additionally, Python 2 included many more programmatic features including a cycle-detecting garbage collector to automate memory management, increased Unicode support to standardize characters, and list comprehensions to create a list based on existing lists. As Python 2 continued to develop, more features were added, including unifying Python’s types and classes into one hierarchy in Python version 2.2.\n",
        "\n"
      ]
    },
    {
      "cell_type": "markdown",
      "metadata": {
        "id": "mUKjMuUxF3mw"
      },
      "source": [
        "\n",
        "### 1.2.2 Python 3\n",
        "* Python 3 is regarded as the future of Python and is the version of the language that is currently in development. A major overhaul, Python 3 was released in late 2008 to address and amend intrinsic design flaws of previous versions of the language. The focus of Python 3 development was to clean up the codebase and remove redundancy, making it clear that there was only one way to perform a given task.\n",
        "* Major modifications to Python 3.0 included changing the print statement into a built-in function, improve the way integers are divided, and providing more Unicode support.\n",
        "* At first, Python 3 was slowly adopted due to the language not being backwards compatible with Python 2, requiring people to make a decision as to which version of the language to use. Additionally, many package libraries were only available for Python 2, but as the development team behind Python 3 has reiterated that there is an end of life for Python 2 support, more libraries have been ported to Python 3. The increased adoption of Python 3 can be shown by the number of Python packages that now provide Python 3 support, which at the time of writing includes 339 of the 360 most popular Python packages.\n",
        "\n"
      ]
    },
    {
      "cell_type": "markdown",
      "metadata": {
        "id": "zLShgYcsF8ff"
      },
      "source": [
        "### 1.2.3 Python 2.7\n",
        "* Following the 2008 release of Python 3.0, Python 2.7 was published on July 3, 2010 and planned as the last of the 2.x releases. The intention behind Python 2.7 was to make it easier for Python 2.x users to port features over to Python 3 by providing some measure of compatibility between the two. This compatibility support included enhanced modules for version 2.7 like unittest to support test automation, argparse for parsing command-line options, and more convenient classes in collections.\n",
        "* Because of Python 2.7’s unique position as a version in between the earlier iterations of Python 2 and Python 3.0, it has persisted as a very popular choice for programmers due to its compatibility with many robust libraries. When we talk about Python 2 today, we are typically referring to the Python 2.7 release as that is the most frequently used version.\n",
        "* Python 2.7, however, is considered to be a legacy language and its continued development, which today mostly consists of bug fixes, will cease completely in 2020.\n",
        "\n"
      ]
    },
    {
      "cell_type": "markdown",
      "metadata": {
        "id": "-JkwhDKjF-Fi"
      },
      "source": [
        "### 1.2.4 Key Differences\n",
        "* While Python 2.7 and Python 3 share many similar capabilities, they should not be thought of as entirely interchangeable. Though you can write good code and useful programs in either version, it is worth understanding that there will be some considerable differences in code syntax and handling.\n",
        "\n"
      ]
    },
    {
      "cell_type": "markdown",
      "metadata": {
        "id": "3EZQhzqjcDU3"
      },
      "source": [
        "## 1.3 Why to use Python? \n",
        "\n",
        "Among numerous languages available in the market why should you choose python? This is the first question that arises in the mind of new users. \n",
        "\n",
        "Following are the som of the reasons why people select python-\n",
        "\n",
        "\n",
        "* **Quality of software**:\n",
        "Python was meant for readability. Its reusable and maintainable as compared to other languages. Its easier to understand. It supports all the modern features like OOPs and functional programming. \n",
        "\n",
        "* **Productivity of Developers**:\n",
        "The same program which is written in other high-level languages like c++ or java can be written in one-third or one-fifth line of codes. That means debugging can be easy and it will be less prone to error which in turn increases the productivity of the developers.\n",
        "\n",
        "* **Portability**:\n",
        "Mostly it’s platform-independent. It can run on any platform or OS with minor or no change at all which makes it a highly portable language. Now you can use MircoPython to interact with hardware as well. It can be used on most of the edge devices.\n",
        "\n",
        "* **Supporting Libraries**:\n",
        "Python already has a lot of inbuilt libraries that come with the standard python package which you download from its <a href=\"https://www.python.org/\"  target=\"_blank\">official site</a>. With these libraries, you can build lots of basic applications or day to day automation tasks like copying data in bulk from one place to another. Apart from this, there’s a huge list of third-party libraries like Numpy, Matplotlib, Scikit Learn, etc. \n",
        "\n",
        "* **Fun to use**:\n",
        "Its simplicity and availability of lots of supporting libraries plus huge open source community support make development in python a breeze. That’s why its widely preferred by hobbyists as well.\n",
        "\n",
        "\n",
        "\n",
        "\n"
      ]
    },
    {
      "cell_type": "markdown",
      "metadata": {
        "id": "PNq5XFNWR4dy"
      },
      "source": [
        "## 1.4 What can be done with Python?\n",
        "* **System Programming**\n",
        "* **Graphical User Interface**\n",
        "* **Web Scrapping**\n",
        "* **Managing Database**\n",
        "* **Fast Prototyping**\n",
        "* **Numeric / Scientific Programming**\n",
        "* **Game development**\n",
        "* **Image Processing**\n",
        "* **Robotics**\n",
        "* **Automation**\n",
        "* **Data science**\n",
        "* **Data Mining**\n"
      ]
    },
    {
      "cell_type": "markdown",
      "metadata": {
        "id": "vrNAsTpTXUsR"
      },
      "source": [
        "## 1.5 Zen of Python -\n",
        "By importing this it displays the basic design philosophies of python"
      ]
    },
    {
      "cell_type": "code",
      "execution_count": null,
      "metadata": {
        "colab": {
          "base_uri": "https://localhost:8080/",
          "height": 386
        },
        "id": "bZ_UaRhbhCUE",
        "outputId": "6f8bf11f-2989-4541-f5a0-112ae5dd828d"
      },
      "outputs": [
        {
          "name": "stdout",
          "output_type": "stream",
          "text": [
            "The Zen of Python, by Tim Peters\n",
            "\n",
            "Beautiful is better than ugly.\n",
            "Explicit is better than implicit.\n",
            "Simple is better than complex.\n",
            "Complex is better than complicated.\n",
            "Flat is better than nested.\n",
            "Sparse is better than dense.\n",
            "Readability counts.\n",
            "Special cases aren't special enough to break the rules.\n",
            "Although practicality beats purity.\n",
            "Errors should never pass silently.\n",
            "Unless explicitly silenced.\n",
            "In the face of ambiguity, refuse the temptation to guess.\n",
            "There should be one-- and preferably only one --obvious way to do it.\n",
            "Although that way may not be obvious at first unless you're Dutch.\n",
            "Now is better than never.\n",
            "Although never is often better than *right* now.\n",
            "If the implementation is hard to explain, it's a bad idea.\n",
            "If the implementation is easy to explain, it may be a good idea.\n",
            "Namespaces are one honking great idea -- let's do more of those!\n"
          ]
        }
      ],
      "source": [
        "import this"
      ]
    }
  ],
  "metadata": {
    "colab": {
      "provenance": []
    },
    "kernelspec": {
      "display_name": "Python 3",
      "language": "python",
      "name": "python3"
    },
    "language_info": {
      "codemirror_mode": {
        "name": "ipython",
        "version": 3
      },
      "file_extension": ".py",
      "mimetype": "text/x-python",
      "name": "python",
      "nbconvert_exporter": "python",
      "pygments_lexer": "ipython3",
      "version": "3.8.5"
    }
  },
  "nbformat": 4,
  "nbformat_minor": 0
}