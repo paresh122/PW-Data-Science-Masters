{
 "cells": [
  {
   "cell_type": "code",
   "execution_count": 2,
   "id": "fce910c6-629d-411f-abad-ef2393ac287c",
   "metadata": {},
   "outputs": [],
   "source": [
    "class pwskills:\n",
    "    def __init__(self, name , email):\n",
    "        \n",
    "        self.name = name\n",
    "        self.email = email\n",
    "    \n",
    "    def student_details(self):\n",
    "        print(self.name , self.email)"
   ]
  },
  {
   "cell_type": "code",
   "execution_count": 3,
   "id": "e08e53a3-49cd-4ef4-a9b8-8e2e78f4b184",
   "metadata": {},
   "outputs": [],
   "source": [
    "pw = pwskills(\"sudh\" , \"sudh@gmail.com\")"
   ]
  },
  {
   "cell_type": "code",
   "execution_count": 4,
   "id": "1aac620d-600c-44ff-88ad-0309df0f147b",
   "metadata": {},
   "outputs": [
    {
     "data": {
      "text/plain": [
       "'sudh'"
      ]
     },
     "execution_count": 4,
     "metadata": {},
     "output_type": "execute_result"
    }
   ],
   "source": [
    "pw.name"
   ]
  },
  {
   "cell_type": "code",
   "execution_count": 5,
   "id": "529b9e7d-1a97-430f-944f-2ee697d5d0c5",
   "metadata": {},
   "outputs": [
    {
     "data": {
      "text/plain": [
       "'sudh@gmail.com'"
      ]
     },
     "execution_count": 5,
     "metadata": {},
     "output_type": "execute_result"
    }
   ],
   "source": [
    "pw.email"
   ]
  },
  {
   "cell_type": "code",
   "execution_count": 6,
   "id": "6b5ae164-3611-44b4-94de-d8c7c9fb716e",
   "metadata": {},
   "outputs": [
    {
     "name": "stdout",
     "output_type": "stream",
     "text": [
      "sudh sudh@gmail.com\n"
     ]
    }
   ],
   "source": [
    "pw.student_details()"
   ]
  },
  {
   "cell_type": "code",
   "execution_count": 12,
   "id": "84d77df2-77d5-4764-9f64-4592fd238465",
   "metadata": {},
   "outputs": [],
   "source": [
    "class pwskills1:\n",
    "    def __init__(self, name , email):\n",
    "        \n",
    "        self.name = name\n",
    "        self.email = email\n",
    "    \n",
    "    @classmethod\n",
    "    def details(cls , name1 , email1):\n",
    "        return cls(name1 , email1)\n",
    "    \n",
    "    def student_details(self):\n",
    "        print(self.name , self.email)"
   ]
  },
  {
   "cell_type": "code",
   "execution_count": 13,
   "id": "e2be452a-5468-46f4-b52d-f1d2582f0848",
   "metadata": {},
   "outputs": [],
   "source": [
    "pw1 = pwskills1.details(\"mohan\" , \"mohan@gamil.com\")"
   ]
  },
  {
   "cell_type": "code",
   "execution_count": 14,
   "id": "7a0d2dfb-ea71-4d23-a91e-ef83aa258b32",
   "metadata": {},
   "outputs": [
    {
     "data": {
      "text/plain": [
       "'mohan'"
      ]
     },
     "execution_count": 14,
     "metadata": {},
     "output_type": "execute_result"
    }
   ],
   "source": [
    "pw1.name"
   ]
  },
  {
   "cell_type": "code",
   "execution_count": 15,
   "id": "43dc7559-f61f-4b25-a814-89d284a386af",
   "metadata": {},
   "outputs": [
    {
     "data": {
      "text/plain": [
       "'mohan@gamil.com'"
      ]
     },
     "execution_count": 15,
     "metadata": {},
     "output_type": "execute_result"
    }
   ],
   "source": [
    "pw1.email"
   ]
  },
  {
   "cell_type": "code",
   "execution_count": 16,
   "id": "a68de874-8a18-4974-a888-d8d5cf059ca7",
   "metadata": {},
   "outputs": [
    {
     "name": "stdout",
     "output_type": "stream",
     "text": [
      "mohan mohan@gamil.com\n"
     ]
    }
   ],
   "source": [
    "pw1.student_details()"
   ]
  },
  {
   "cell_type": "code",
   "execution_count": 24,
   "id": "feace3fc-6cc7-4745-9a92-d500bd64ed3a",
   "metadata": {},
   "outputs": [],
   "source": [
    "class pwskills2:\n",
    "    \n",
    "    mobile_number = 9134534535\n",
    "    \n",
    "    def __init__(self, name , email):\n",
    "        \n",
    "        self.name = name\n",
    "        self.email = email\n",
    "    \n",
    "    @classmethod\n",
    "    def change_number(cls, mobile):\n",
    "        pwskills2.mobile_number = mobile\n",
    "    \n",
    "    @classmethod\n",
    "    def details(cls , name1 , email1):\n",
    "        return cls(name1 , email1)\n",
    "    \n",
    "    def student_details(self):\n",
    "        print(self.name , self.email,pwskills2.mobile_number)"
   ]
  },
  {
   "cell_type": "code",
   "execution_count": 28,
   "id": "f04f3140-ccc3-4eb6-8de9-63a690425086",
   "metadata": {},
   "outputs": [],
   "source": [
    "pw2_obj = pwskills2(\"sohil\" , \"sohil@gmail.com\")"
   ]
  },
  {
   "cell_type": "code",
   "execution_count": 30,
   "id": "082a3976-f45c-4af5-8708-29a0e52d9cd4",
   "metadata": {},
   "outputs": [
    {
     "data": {
      "text/plain": [
       "<__main__.pwskills2 at 0x7f24a557b670>"
      ]
     },
     "execution_count": 30,
     "metadata": {},
     "output_type": "execute_result"
    }
   ],
   "source": [
    "pw2_obj.details(\"sudh\" , \"sudh@gmail.com\")"
   ]
  },
  {
   "cell_type": "code",
   "execution_count": 31,
   "id": "26ac28f2-8341-411c-9a2f-71791911511d",
   "metadata": {},
   "outputs": [
    {
     "data": {
      "text/plain": [
       "'sohil'"
      ]
     },
     "execution_count": 31,
     "metadata": {},
     "output_type": "execute_result"
    }
   ],
   "source": [
    "pw2_obj.name"
   ]
  },
  {
   "cell_type": "code",
   "execution_count": 32,
   "id": "6910edfa-3d5c-4c13-bbff-22f3e142a87c",
   "metadata": {},
   "outputs": [],
   "source": [
    "pw2_obj.change_number(534553534)"
   ]
  },
  {
   "cell_type": "code",
   "execution_count": 33,
   "id": "c6b8dab3-b0e2-4dec-9a21-9d01432bb847",
   "metadata": {},
   "outputs": [
    {
     "data": {
      "text/plain": [
       "534553534"
      ]
     },
     "execution_count": 33,
     "metadata": {},
     "output_type": "execute_result"
    }
   ],
   "source": [
    "pw2_obj.mobile_number"
   ]
  },
  {
   "cell_type": "code",
   "execution_count": 25,
   "id": "83fc972b-21f4-4295-9559-679c3099e459",
   "metadata": {},
   "outputs": [
    {
     "data": {
      "text/plain": [
       "9134534535"
      ]
     },
     "execution_count": 25,
     "metadata": {},
     "output_type": "execute_result"
    }
   ],
   "source": [
    "pwskills2.mobile_number"
   ]
  },
  {
   "cell_type": "code",
   "execution_count": 26,
   "id": "be33a901-650b-486b-b413-2bc1136af73d",
   "metadata": {},
   "outputs": [],
   "source": [
    "pwskills2.change_number(9233345344)"
   ]
  },
  {
   "cell_type": "code",
   "execution_count": 27,
   "id": "94b99907-e2b5-4a1c-8e40-6d9ffe10ed28",
   "metadata": {},
   "outputs": [
    {
     "data": {
      "text/plain": [
       "9233345344"
      ]
     },
     "execution_count": 27,
     "metadata": {},
     "output_type": "execute_result"
    }
   ],
   "source": [
    "pwskills2.mobile_number"
   ]
  },
  {
   "cell_type": "code",
   "execution_count": 18,
   "id": "ff4a5649-92a6-4963-b6d5-8a5b6e23af0a",
   "metadata": {},
   "outputs": [
    {
     "data": {
      "text/plain": [
       "9134534535"
      ]
     },
     "execution_count": 18,
     "metadata": {},
     "output_type": "execute_result"
    }
   ],
   "source": [
    "pwskills2.mobile_number"
   ]
  },
  {
   "cell_type": "code",
   "execution_count": 20,
   "id": "0714817d-c76c-49df-9f68-2e4bc5f47024",
   "metadata": {},
   "outputs": [],
   "source": [
    "pw2 = pwskills2.details(\"sohan\" , \"sohan@gmail.com\")"
   ]
  },
  {
   "cell_type": "code",
   "execution_count": 21,
   "id": "f440a2ab-3021-4703-a5b7-3e0e9a366522",
   "metadata": {},
   "outputs": [
    {
     "name": "stdout",
     "output_type": "stream",
     "text": [
      "sohan sohan@gmail.com 9134534535\n"
     ]
    }
   ],
   "source": [
    "pw2.student_details()"
   ]
  },
  {
   "cell_type": "code",
   "execution_count": 22,
   "id": "61eb5861-41e5-437a-9147-99d2ae8a4de7",
   "metadata": {},
   "outputs": [],
   "source": [
    "pw2_obj = pwskills2(\"rohan\" , \"rohan@gmail.com\")"
   ]
  },
  {
   "cell_type": "code",
   "execution_count": 23,
   "id": "ca77130f-1dea-40d2-9e38-f4dc30054e56",
   "metadata": {},
   "outputs": [
    {
     "name": "stdout",
     "output_type": "stream",
     "text": [
      "rohan rohan@gmail.com 9134534535\n"
     ]
    }
   ],
   "source": [
    "pw2_obj.student_details()"
   ]
  },
  {
   "cell_type": "code",
   "execution_count": 34,
   "id": "7602f385-122e-4a55-a659-98b2d2905893",
   "metadata": {},
   "outputs": [],
   "source": [
    "class pwskills3:\n",
    "    \n",
    "    mobile_number = 9134534535\n",
    "    \n",
    "    def __init__(self, name , email):\n",
    "        \n",
    "        self.name = name\n",
    "        self.email = email\n",
    "    \n",
    "    @classmethod\n",
    "    def change_number(cls, mobile):\n",
    "        pwskills2.mobile_number = mobile\n",
    "    \n",
    "    @classmethod\n",
    "    def details(cls , name1 , email1):\n",
    "        return cls(name1 , email1)\n",
    "    \n",
    "    def student_details(self):\n",
    "        print(self.name , self.email,pwskills2.mobile_number)"
   ]
  },
  {
   "cell_type": "code",
   "execution_count": 35,
   "id": "2b2bf255-aa6c-4628-9ad3-3db7fc6eddd2",
   "metadata": {},
   "outputs": [],
   "source": [
    "def course_details(cls ,course_name ):\n",
    "    print(\"course details\" , course_name)"
   ]
  },
  {
   "cell_type": "code",
   "execution_count": 36,
   "id": "d31b7e72-b966-42fb-891f-34e8092485c5",
   "metadata": {},
   "outputs": [],
   "source": [
    "pwskills3.course_details = classmethod(course_details)"
   ]
  },
  {
   "cell_type": "code",
   "execution_count": 37,
   "id": "1756cee2-89b1-4e5e-afa0-c760126d5e88",
   "metadata": {},
   "outputs": [
    {
     "name": "stdout",
     "output_type": "stream",
     "text": [
      "course details data science masters\n"
     ]
    }
   ],
   "source": [
    "pwskills3.course_details(\"data science masters\")"
   ]
  },
  {
   "cell_type": "code",
   "execution_count": 38,
   "id": "f7923667-ab35-4a46-8be1-474a1745f180",
   "metadata": {},
   "outputs": [],
   "source": [
    "pw3 = pwskills3(\"sudh\" , \"sudh@gmail.com\")"
   ]
  },
  {
   "cell_type": "code",
   "execution_count": 39,
   "id": "a9f7ee83-d2ca-429d-8d6a-8425ec565b50",
   "metadata": {},
   "outputs": [
    {
     "name": "stdout",
     "output_type": "stream",
     "text": [
      "course details web dev\n"
     ]
    }
   ],
   "source": [
    "pw3.course_details(\"web dev\")"
   ]
  },
  {
   "cell_type": "code",
   "execution_count": 40,
   "id": "c53d7e2d-39fe-438c-8706-4e44c6489c6a",
   "metadata": {},
   "outputs": [],
   "source": [
    "class pwskills4:\n",
    "    \n",
    "    mobile_number = 9134534535\n",
    "    \n",
    "    def __init__(self, name , email):\n",
    "        \n",
    "        self.name = name\n",
    "        self.email = email\n",
    "    \n",
    "    @classmethod\n",
    "    def change_number(cls, mobile):\n",
    "        pwskills2.mobile_number = mobile\n",
    "    \n",
    "    @classmethod\n",
    "    def details(cls , name1 , email1):\n",
    "        return cls(name1 , email1)\n",
    "    \n",
    "    def student_details(self):\n",
    "        print(self.name , self.email,pwskills2.mobile_number)"
   ]
  },
  {
   "cell_type": "code",
   "execution_count": 41,
   "id": "e3928652-ca7c-4acd-96c5-4bf926aa5ced",
   "metadata": {},
   "outputs": [],
   "source": [
    "del pwskills4.change_number"
   ]
  },
  {
   "cell_type": "code",
   "execution_count": 42,
   "id": "58fedaf3-b311-45f2-a1d6-8b038fe195ca",
   "metadata": {},
   "outputs": [
    {
     "ename": "AttributeError",
     "evalue": "type object 'pwskills4' has no attribute 'change_number'",
     "output_type": "error",
     "traceback": [
      "\u001b[0;31m---------------------------------------------------------------------------\u001b[0m",
      "\u001b[0;31mAttributeError\u001b[0m                            Traceback (most recent call last)",
      "Cell \u001b[0;32mIn[42], line 1\u001b[0m\n\u001b[0;32m----> 1\u001b[0m \u001b[43mpwskills4\u001b[49m\u001b[38;5;241;43m.\u001b[39;49m\u001b[43mchange_number\u001b[49m(\u001b[38;5;241m2432535345\u001b[39m)\n",
      "\u001b[0;31mAttributeError\u001b[0m: type object 'pwskills4' has no attribute 'change_number'"
     ]
    }
   ],
   "source": [
    "pwskills4.change_number(2432535345)"
   ]
  },
  {
   "cell_type": "code",
   "execution_count": 43,
   "id": "5a2401dd-a7cd-411d-bcd3-6953a3d4cd3c",
   "metadata": {},
   "outputs": [],
   "source": [
    "delattr(pwskills4 , \"details\")"
   ]
  },
  {
   "cell_type": "code",
   "execution_count": 44,
   "id": "b34c6800-ed8c-4b4d-8f6f-91ed21c2c327",
   "metadata": {},
   "outputs": [
    {
     "data": {
      "text/plain": [
       "9134534535"
      ]
     },
     "execution_count": 44,
     "metadata": {},
     "output_type": "execute_result"
    }
   ],
   "source": [
    "pwskills4.mobile_number"
   ]
  },
  {
   "cell_type": "code",
   "execution_count": 45,
   "id": "09ec00ae-4e1a-4ff9-91af-f192bcd10145",
   "metadata": {},
   "outputs": [],
   "source": [
    "delattr(pwskills4 , \"mobile_number\")"
   ]
  },
  {
   "cell_type": "code",
   "execution_count": 46,
   "id": "5a561241-7631-4e1f-83af-78f766411037",
   "metadata": {},
   "outputs": [
    {
     "ename": "AttributeError",
     "evalue": "type object 'pwskills4' has no attribute 'mobile_number'",
     "output_type": "error",
     "traceback": [
      "\u001b[0;31m---------------------------------------------------------------------------\u001b[0m",
      "\u001b[0;31mAttributeError\u001b[0m                            Traceback (most recent call last)",
      "Cell \u001b[0;32mIn[46], line 1\u001b[0m\n\u001b[0;32m----> 1\u001b[0m \u001b[43mpwskills4\u001b[49m\u001b[38;5;241;43m.\u001b[39;49m\u001b[43mmobile_number\u001b[49m\n",
      "\u001b[0;31mAttributeError\u001b[0m: type object 'pwskills4' has no attribute 'mobile_number'"
     ]
    }
   ],
   "source": [
    "pwskills4.mobile_number"
   ]
  },
  {
   "cell_type": "code",
   "execution_count": 47,
   "id": "314d4855-1ba5-43c2-bf21-d9d61353128d",
   "metadata": {},
   "outputs": [],
   "source": [
    "delattr(pwskills4,\"student_details\")"
   ]
  },
  {
   "cell_type": "code",
   "execution_count": 48,
   "id": "a88256f5-e304-44dd-965b-3a36179a04bc",
   "metadata": {},
   "outputs": [
    {
     "data": {
      "text/plain": [
       "__main__.pwskills4"
      ]
     },
     "execution_count": 48,
     "metadata": {},
     "output_type": "execute_result"
    }
   ],
   "source": [
    "pwskills4"
   ]
  },
  {
   "cell_type": "code",
   "execution_count": null,
   "id": "082b768c-c7f9-494b-82cf-f2ea8c0ead1c",
   "metadata": {},
   "outputs": [],
   "source": []
  }
 ],
 "metadata": {
  "kernelspec": {
   "display_name": "Python 3 (ipykernel)",
   "language": "python",
   "name": "python3"
  },
  "language_info": {
   "codemirror_mode": {
    "name": "ipython",
    "version": 3
   },
   "file_extension": ".py",
   "mimetype": "text/x-python",
   "name": "python",
   "nbconvert_exporter": "python",
   "pygments_lexer": "ipython3",
   "version": "3.10.8"
  }
 },
 "nbformat": 4,
 "nbformat_minor": 5
}
