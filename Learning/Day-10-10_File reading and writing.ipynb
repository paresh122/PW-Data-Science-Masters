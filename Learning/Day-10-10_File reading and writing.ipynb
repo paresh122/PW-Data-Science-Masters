{
 "cells": [
  {
   "cell_type": "code",
   "execution_count": 1,
   "id": "4c731d33-02a6-45e4-b5f1-2adb0c53c3c1",
   "metadata": {},
   "outputs": [],
   "source": [
    "data = {\n",
    "    \"name\" : \"sudh\",\n",
    "    \"mail_id\" : \"sudh@gmail.com\",\n",
    "    \"phone_number\" : 91345435,\n",
    "    \"subject\" :[\"data science\" , \"big data\" , \"data analytics\"]\n",
    "}"
   ]
  },
  {
   "cell_type": "code",
   "execution_count": 2,
   "id": "c671620c-8665-4c27-93fa-c229be5b6ce2",
   "metadata": {},
   "outputs": [],
   "source": [
    "import json"
   ]
  },
  {
   "cell_type": "code",
   "execution_count": 3,
   "id": "22a65eb0-a267-4f69-8163-7662d36a095f",
   "metadata": {},
   "outputs": [],
   "source": [
    "with open(\"test1.json\", \"w\") as f :\n",
    "    json.dump(data,f)"
   ]
  },
  {
   "cell_type": "code",
   "execution_count": 4,
   "id": "711b9bd0-ef68-446e-bcd2-5e3bb7696151",
   "metadata": {},
   "outputs": [],
   "source": [
    "with open(\"test1.json\" , 'r') as f :\n",
    "    data1 = json.load(f)"
   ]
  },
  {
   "cell_type": "code",
   "execution_count": null,
   "id": "b221f7cb-39be-4155-947d-2dffea50c113",
   "metadata": {},
   "outputs": [],
   "source": []
  },
  {
   "cell_type": "code",
   "execution_count": 5,
   "id": "8719897b-64ce-49bc-9135-0539431cc038",
   "metadata": {},
   "outputs": [
    {
     "data": {
      "text/plain": [
       "{'name': 'sudh',\n",
       " 'mail_id': 'sudh@gmail.com',\n",
       " 'phone_number': 91345435,\n",
       " 'subject': ['data science', 'big data', 'data analytics']}"
      ]
     },
     "execution_count": 5,
     "metadata": {},
     "output_type": "execute_result"
    }
   ],
   "source": [
    "data1"
   ]
  },
  {
   "cell_type": "code",
   "execution_count": 7,
   "id": "e64d8186-aa3e-4b42-968d-1c361bf35c34",
   "metadata": {},
   "outputs": [
    {
     "data": {
      "text/plain": [
       "'big data'"
      ]
     },
     "execution_count": 7,
     "metadata": {},
     "output_type": "execute_result"
    }
   ],
   "source": [
    "data1['subject'][1]"
   ]
  },
  {
   "cell_type": "code",
   "execution_count": 8,
   "id": "6de347d8-dcae-4413-8a45-32d68ef2a4b5",
   "metadata": {},
   "outputs": [],
   "source": [
    "data = [[\"name\" , \"email_id\" , \"number\"],\n",
    "       [\"sudh\" , \"sudh@gmail.com\" , 92342342],\n",
    "        [\"krish\" , \"krish@gmail.com\" , 9324324242]\n",
    "       ]"
   ]
  },
  {
   "cell_type": "code",
   "execution_count": 11,
   "id": "2f079ead-a416-42e4-b84d-1852f07ea92f",
   "metadata": {},
   "outputs": [],
   "source": [
    "import csv"
   ]
  },
  {
   "cell_type": "code",
   "execution_count": 10,
   "id": "3f5c031e-f539-4dfd-87e1-43e6ae8b96ca",
   "metadata": {},
   "outputs": [],
   "source": [
    "with open(\"test3.csv\" , 'w') as f :\n",
    "    w = csv.writer(f)\n",
    "    for i in data:\n",
    "        w.writerow(i)"
   ]
  },
  {
   "cell_type": "code",
   "execution_count": 12,
   "id": "fbdd9bdf-f2a8-401a-b823-76d5c2eb006d",
   "metadata": {},
   "outputs": [
    {
     "name": "stdout",
     "output_type": "stream",
     "text": [
      "['name', 'email_id', 'number']\n",
      "['sudh', 'sudh@gmail.com', '92342342']\n",
      "['krish', 'krish@gmail.com', '9324324242']\n"
     ]
    }
   ],
   "source": [
    "with open(\"test3.csv\" , 'r') as f :\n",
    "    read = csv.reader(f)\n",
    "    for i in read:\n",
    "        print(i)\n",
    "    "
   ]
  },
  {
   "cell_type": "code",
   "execution_count": 13,
   "id": "51f558b6-23a2-4b7f-aa5e-3673ac1cee23",
   "metadata": {},
   "outputs": [],
   "source": [
    "with open(\"test4.bin\", 'wb') as f :\n",
    "    f.write(b\"\\x01\\x02\\x03\")"
   ]
  },
  {
   "cell_type": "code",
   "execution_count": 14,
   "id": "5a7467ff-c347-47f5-93ec-a6ef3b9e2f59",
   "metadata": {},
   "outputs": [
    {
     "name": "stdout",
     "output_type": "stream",
     "text": [
      "b'\\x01\\x02\\x03'\n"
     ]
    }
   ],
   "source": [
    "with open(\"test4.bin\" , \"rb\") as f :\n",
    "    print(f.read())"
   ]
  },
  {
   "cell_type": "code",
   "execution_count": null,
   "id": "110a4f9b-0729-4d27-ac99-dcd885024d5d",
   "metadata": {},
   "outputs": [],
   "source": []
  }
 ],
 "metadata": {
  "kernelspec": {
   "display_name": "Python 3 (ipykernel)",
   "language": "python",
   "name": "python3"
  },
  "language_info": {
   "codemirror_mode": {
    "name": "ipython",
    "version": 3
   },
   "file_extension": ".py",
   "mimetype": "text/x-python",
   "name": "python",
   "nbconvert_exporter": "python",
   "pygments_lexer": "ipython3",
   "version": "3.10.8"
  }
 },
 "nbformat": 4,
 "nbformat_minor": 5
}
