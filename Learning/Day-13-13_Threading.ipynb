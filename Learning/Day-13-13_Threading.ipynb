{
 "cells": [
  {
   "cell_type": "code",
   "execution_count": 1,
   "id": "b4ecae69-5d26-4cdb-a429-c8aeb34177aa",
   "metadata": {},
   "outputs": [],
   "source": [
    "import threading"
   ]
  },
  {
   "cell_type": "code",
   "execution_count": 3,
   "id": "4283c596-f016-4a10-b94a-34422b3d58e5",
   "metadata": {},
   "outputs": [],
   "source": [
    "def test(id) :\n",
    "    print(\"this is my test id %d \" % id)"
   ]
  },
  {
   "cell_type": "code",
   "execution_count": 4,
   "id": "9611fa11-27e4-4dba-9c01-d63cc07f2d98",
   "metadata": {},
   "outputs": [
    {
     "name": "stdout",
     "output_type": "stream",
     "text": [
      "this is my test id 10 \n"
     ]
    }
   ],
   "source": [
    "test(10)"
   ]
  },
  {
   "cell_type": "code",
   "execution_count": 5,
   "id": "7dedc236-37d8-4576-8a0f-39f7673e090d",
   "metadata": {},
   "outputs": [
    {
     "name": "stdout",
     "output_type": "stream",
     "text": [
      "this is my test id 1 \n"
     ]
    }
   ],
   "source": [
    "test(1)"
   ]
  },
  {
   "cell_type": "code",
   "execution_count": 6,
   "id": "3b42e993-d06e-4f29-86a0-406506819914",
   "metadata": {},
   "outputs": [
    {
     "name": "stdout",
     "output_type": "stream",
     "text": [
      "this is my test id 3 \n"
     ]
    }
   ],
   "source": [
    "test(3)"
   ]
  },
  {
   "cell_type": "code",
   "execution_count": 7,
   "id": "9f03a356-cbfa-47e1-9dd6-84fc1ff27391",
   "metadata": {},
   "outputs": [],
   "source": [
    "thred = [threading.Thread(target=test , args = (i,)) for i in [10 , 1 ,3]]"
   ]
  },
  {
   "cell_type": "code",
   "execution_count": 8,
   "id": "ee217cab-543c-46d5-a4d8-e5fa71d36548",
   "metadata": {},
   "outputs": [
    {
     "data": {
      "text/plain": [
       "[<Thread(Thread-5 (test), initial)>,\n",
       " <Thread(Thread-6 (test), initial)>,\n",
       " <Thread(Thread-7 (test), initial)>]"
      ]
     },
     "execution_count": 8,
     "metadata": {},
     "output_type": "execute_result"
    }
   ],
   "source": [
    "thred"
   ]
  },
  {
   "cell_type": "code",
   "execution_count": 9,
   "id": "2252fe69-9935-42de-9708-88f2427d8376",
   "metadata": {},
   "outputs": [
    {
     "name": "stdout",
     "output_type": "stream",
     "text": [
      "this is my test id 10 \n",
      "this is my test id 1 \n",
      "this is my test id 3 \n"
     ]
    }
   ],
   "source": [
    "for t in thred:\n",
    "    t.start()\n",
    "    "
   ]
  },
  {
   "cell_type": "code",
   "execution_count": 10,
   "id": "05f2d3e3-f3d6-465f-b661-6484fe940533",
   "metadata": {},
   "outputs": [],
   "source": [
    "import urllib.request\n",
    "\n",
    "def file_download(url , filename):\n",
    "    urllib.request.urlretrieve(url , filename)"
   ]
  },
  {
   "cell_type": "code",
   "execution_count": 11,
   "id": "b50c9c89-b15a-4924-9c9f-2b33b9d02fbc",
   "metadata": {},
   "outputs": [],
   "source": [
    "file_download('https://raw.githubusercontent.com/itsfoss/text-files/master/agatha.txt' , \"test1.txt\")"
   ]
  },
  {
   "cell_type": "code",
   "execution_count": 12,
   "id": "870f948f-3b57-402f-b78f-b1bfc7bc45c5",
   "metadata": {},
   "outputs": [],
   "source": [
    "url_list = ['https://raw.githubusercontent.com/itsfoss/text-files/master/agatha.txt' , 'https://raw.githubusercontent.com/itsfoss/text-files/master/sherlock.txt' ,'https://raw.githubusercontent.com/itsfoss/text-files/master/sample_log_file.txt' ]"
   ]
  },
  {
   "cell_type": "code",
   "execution_count": 13,
   "id": "6aefd344-9e2f-4269-94b0-d6fc21829b5f",
   "metadata": {},
   "outputs": [
    {
     "data": {
      "text/plain": [
       "['https://raw.githubusercontent.com/itsfoss/text-files/master/agatha.txt',\n",
       " 'https://raw.githubusercontent.com/itsfoss/text-files/master/sherlock.txt',\n",
       " 'https://raw.githubusercontent.com/itsfoss/text-files/master/sample_log_file.txt']"
      ]
     },
     "execution_count": 13,
     "metadata": {},
     "output_type": "execute_result"
    }
   ],
   "source": [
    "url_list"
   ]
  },
  {
   "cell_type": "code",
   "execution_count": 14,
   "id": "213fc619-6707-41a2-936c-ee0f813c0783",
   "metadata": {},
   "outputs": [],
   "source": [
    "data_file_list = ['data1.txt', 'data2.txt','data3.txt']"
   ]
  },
  {
   "cell_type": "code",
   "execution_count": 15,
   "id": "843d099b-9beb-4b9e-a081-b7895a380688",
   "metadata": {},
   "outputs": [
    {
     "data": {
      "text/plain": [
       "['data1.txt', 'data2.txt', 'data3.txt']"
      ]
     },
     "execution_count": 15,
     "metadata": {},
     "output_type": "execute_result"
    }
   ],
   "source": [
    "data_file_list"
   ]
  },
  {
   "cell_type": "code",
   "execution_count": 20,
   "id": "fe12ba00-2a12-4dd2-9581-72542a14fa62",
   "metadata": {},
   "outputs": [],
   "source": [
    "thread1 = [threading.Thread(target=file_download , args=(url_list[i],data_file_list[i])) for i in range(len(url_list))]"
   ]
  },
  {
   "cell_type": "code",
   "execution_count": 21,
   "id": "1b680f19-07c5-4984-b26d-e1cd52860515",
   "metadata": {},
   "outputs": [],
   "source": [
    "for t in thread1:\n",
    "    t.start()"
   ]
  },
  {
   "cell_type": "code",
   "execution_count": 22,
   "id": "ca61b997-82f0-406c-b119-48518712c376",
   "metadata": {},
   "outputs": [
    {
     "data": {
      "text/plain": [
       "[<Thread(Thread-11 (file_download), stopped 139788252325440)>,\n",
       " <Thread(Thread-12 (file_download), stopped 139787897927232)>,\n",
       " <Thread(Thread-13 (file_download), stopped 139787889534528)>]"
      ]
     },
     "execution_count": 22,
     "metadata": {},
     "output_type": "execute_result"
    }
   ],
   "source": [
    "thread1"
   ]
  },
  {
   "cell_type": "code",
   "execution_count": 23,
   "id": "41a60ae3-a334-4554-94fe-13c8a4cf72bc",
   "metadata": {},
   "outputs": [],
   "source": [
    "import time"
   ]
  },
  {
   "cell_type": "code",
   "execution_count": 34,
   "id": "961368a8-38a9-4bd9-9549-b80f299a55d8",
   "metadata": {},
   "outputs": [],
   "source": [
    "def test2(x) : \n",
    "    for i in range(10) : \n",
    "        print(\" test1 print the value of x %d and print the value of i %d \" %(x,i))\n",
    "        time.sleep(1)"
   ]
  },
  {
   "cell_type": "code",
   "execution_count": 35,
   "id": "8d7a81cc-78a5-4f62-9aa9-877b7a0c3c6f",
   "metadata": {},
   "outputs": [],
   "source": [
    "thread2 = [threading.Thread(target=test2 , args=(i,)) for i in [100 , 10,20,5]]"
   ]
  },
  {
   "cell_type": "code",
   "execution_count": 36,
   "id": "5593f868-bde7-4889-a331-53b88a82a81e",
   "metadata": {},
   "outputs": [
    {
     "name": "stdout",
     "output_type": "stream",
     "text": [
      " test1 print the value of x 100 and print the value of i 0 \n",
      " test1 print the value of x 10 and print the value of i 0 \n",
      " test1 print the value of x 20 and print the value of i 0 \n",
      " test1 print the value of x 5 and print the value of i 0 \n",
      " test1 print the value of x 100 and print the value of i 1 \n",
      " test1 print the value of x 10 and print the value of i 1 \n",
      " test1 print the value of x 20 and print the value of i 1 \n",
      " test1 print the value of x 5 and print the value of i 1 \n",
      " test1 print the value of x 100 and print the value of i 2 \n",
      " test1 print the value of x 10 and print the value of i 2 \n",
      " test1 print the value of x 20 and print the value of i 2 \n",
      " test1 print the value of x 5 and print the value of i 2 \n",
      " test1 print the value of x 100 and print the value of i 3  test1 print the value of x 20 and print the value of i 3 \n",
      " test1 print the value of x 10 and print the value of i 3 \n",
      "\n",
      " test1 print the value of x 5 and print the value of i 3 \n",
      " test1 print the value of x 20 and print the value of i 4  test1 print the value of x 10 and print the value of i 4 \n",
      " test1 print the value of x 100 and print the value of i 4 \n",
      "\n",
      " test1 print the value of x 5 and print the value of i 4 \n",
      " test1 print the value of x 10 and print the value of i 5  test1 print the value of x 20 and print the value of i 5 \n",
      "\n",
      " test1 print the value of x 5 and print the value of i 5 \n",
      " test1 print the value of x 100 and print the value of i 5 \n",
      " test1 print the value of x 20 and print the value of i 6  test1 print the value of x 10 and print the value of i 6 \n",
      " test1 print the value of x 5 and print the value of i 6 \n",
      " test1 print the value of x 100 and print the value of i 6 \n",
      "\n",
      " test1 print the value of x 10 and print the value of i 7  test1 print the value of x 5 and print the value of i 7 \n",
      "\n",
      " test1 print the value of x 100 and print the value of i 7 \n",
      " test1 print the value of x 20 and print the value of i 7 \n",
      " test1 print the value of x 5 and print the value of i 8  test1 print the value of x 10 and print the value of i 8 \n",
      " test1 print the value of x 100 and print the value of i 8 \n",
      " test1 print the value of x 20 and print the value of i 8 \n",
      "\n",
      " test1 print the value of x 10 and print the value of i 9  test1 print the value of x 5 and print the value of i 9 \n",
      " test1 print the value of x 20 and print the value of i 9 \n",
      " test1 print the value of x 100 and print the value of i 9 \n",
      "\n"
     ]
    }
   ],
   "source": [
    "for t in thread2:\n",
    "    t.start()"
   ]
  },
  {
   "cell_type": "code",
   "execution_count": 28,
   "id": "9290b75f-729e-4b8a-b996-83e6da5b38a5",
   "metadata": {},
   "outputs": [
    {
     "name": "stdout",
     "output_type": "stream",
     "text": [
      " test1 print the value of x 10 and print the value of i 0 \n",
      " test1 print the value of x 10 and print the value of i 1 \n",
      " test1 print the value of x 10 and print the value of i 2 \n",
      " test1 print the value of x 10 and print the value of i 3 \n",
      " test1 print the value of x 10 and print the value of i 4 \n",
      " test1 print the value of x 10 and print the value of i 5 \n",
      " test1 print the value of x 10 and print the value of i 6 \n",
      " test1 print the value of x 10 and print the value of i 7 \n",
      " test1 print the value of x 10 and print the value of i 8 \n",
      " test1 print the value of x 10 and print the value of i 9 \n"
     ]
    }
   ],
   "source": [
    "test2(10)"
   ]
  },
  {
   "cell_type": "code",
   "execution_count": 26,
   "id": "8f7ff2bc-721d-4fe4-beae-9a558ea264cc",
   "metadata": {},
   "outputs": [
    {
     "name": "stdout",
     "output_type": "stream",
     "text": [
      " test1 print the value of x 2 and print the value of i 0 \n",
      " test1 print the value of x 2 and print the value of i 1 \n",
      " test1 print the value of x 2 and print the value of i 2 \n",
      " test1 print the value of x 2 and print the value of i 3 \n",
      " test1 print the value of x 2 and print the value of i 4 \n",
      " test1 print the value of x 2 and print the value of i 5 \n",
      " test1 print the value of x 2 and print the value of i 6 \n",
      " test1 print the value of x 2 and print the value of i 7 \n",
      " test1 print the value of x 2 and print the value of i 8 \n",
      " test1 print the value of x 2 and print the value of i 9 \n"
     ]
    }
   ],
   "source": [
    "test2(2)"
   ]
  },
  {
   "cell_type": "code",
   "execution_count": 44,
   "id": "2ed7e4f3-0047-4efe-a101-03da53d1223d",
   "metadata": {},
   "outputs": [
    {
     "name": "stdout",
     "output_type": "stream",
     "text": [
      "value of x 1 and value of shareed_var 1 \n",
      "value of x 2 and value of shareed_var 2 \n",
      "value of x 3 and value of shareed_var 3 \n",
      "value of x 4 and value of shareed_var 4 \n",
      "value of x 4 and value of shareed_var 5 \n",
      "value of x 5 and value of shareed_var 6 \n"
     ]
    }
   ],
   "source": [
    "shared_var = 0 \n",
    "lock_var = threading.Lock()\n",
    "def test4(x) : \n",
    "    global shared_var\n",
    "    with lock_var : \n",
    "        shared_var = shared_var + 1\n",
    "        print(\"value of x %d and value of shareed_var %d \" %(x, shared_var))\n",
    "        time.sleep(1)\n",
    " \n",
    "thread5  = [threading.Thread(target=test4 , args = (i,)) for i in [1,2,3,4,4,5]]\n",
    "for t in thread5 : \n",
    "    t.start()"
   ]
  },
  {
   "cell_type": "code",
   "execution_count": 40,
   "id": "97375da3-3557-4df7-a8ff-02f23b9db143",
   "metadata": {},
   "outputs": [
    {
     "name": "stdout",
     "output_type": "stream",
     "text": [
      "value of x 1 and value of shareed_var 3 \n"
     ]
    }
   ],
   "source": [
    "test3(1)"
   ]
  },
  {
   "cell_type": "code",
   "execution_count": 41,
   "id": "95c2b055-5164-41ec-a889-167906b88762",
   "metadata": {},
   "outputs": [
    {
     "name": "stdout",
     "output_type": "stream",
     "text": [
      "value of x 2 and value of shareed_var 4 \n"
     ]
    }
   ],
   "source": [
    "test3(2)"
   ]
  },
  {
   "cell_type": "code",
   "execution_count": null,
   "id": "d6655ebd-7ecc-4665-8299-3db592ccdf8b",
   "metadata": {},
   "outputs": [],
   "source": []
  }
 ],
 "metadata": {
  "kernelspec": {
   "display_name": "Python 3 (ipykernel)",
   "language": "python",
   "name": "python3"
  },
  "language_info": {
   "codemirror_mode": {
    "name": "ipython",
    "version": 3
   },
   "file_extension": ".py",
   "mimetype": "text/x-python",
   "name": "python",
   "nbconvert_exporter": "python",
   "pygments_lexer": "ipython3",
   "version": "3.10.8"
  }
 },
 "nbformat": 4,
 "nbformat_minor": 5
}
