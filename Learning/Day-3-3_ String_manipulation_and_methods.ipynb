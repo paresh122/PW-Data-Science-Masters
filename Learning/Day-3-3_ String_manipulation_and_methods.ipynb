{
  "cells": [
    {
      "cell_type": "markdown",
      "metadata": {
        "id": "pQEGDvx_F1lx"
      },
      "source": []
    },
    {
      "cell_type": "markdown",
      "metadata": {
        "id": "GmQ84_psIPYf"
      },
      "source": [
        "## 6.2.1 String manipulation\n",
        "\n",
        "Strings are used to record the text information such as name. In Python, Strings act as “Sequence” which means Python tracks every element in the String as a sequence. This is one of the important features of the Python language.\n",
        "\n",
        "For example, Python understands the string \"hello' to be a sequence of letters in a specific order which means the indexing technique to grab particular letters (like first letter or the last letter).\n",
        "\n",
        "As we now know string contains set of characters, let's check how can we manipulate and take subset of string, how can we access charcters out of string and do some manipulation on strings.\n",
        "\n",
        "Subset of string can be access by using slice operator [] or [:](String index starts with 0 and -1 at the end). Lets look at the example."
      ]
    },
    {
      "cell_type": "code",
      "execution_count": null,
      "metadata": {
        "id": "nu22uHdXIPYi",
        "outputId": "bc2852d7-f2a8-4601-da16-19f306012eb3"
      },
      "outputs": [
        {
          "data": {
            "text/plain": [
              "'hello'"
            ]
          },
          "execution_count": 23,
          "metadata": {
            "tags": []
          },
          "output_type": "execute_result"
        }
      ],
      "source": [
        "# Single word\n",
        "'hello'"
      ]
    },
    {
      "cell_type": "code",
      "execution_count": null,
      "metadata": {
        "id": "leb1X3iFIPYo",
        "outputId": "4ca47851-1ac2-4fb0-e635-cdbc52c249e4"
      },
      "outputs": [
        {
          "data": {
            "text/plain": [
              "'This is also a string'"
            ]
          },
          "execution_count": 24,
          "metadata": {
            "tags": []
          },
          "output_type": "execute_result"
        }
      ],
      "source": [
        "# Entire phrase \n",
        "'This is also a string'"
      ]
    },
    {
      "cell_type": "code",
      "execution_count": null,
      "metadata": {
        "id": "211xZyZ7IPYt",
        "outputId": "323ab2d5-80cc-4947-eda3-efb9951821a9"
      },
      "outputs": [
        {
          "data": {
            "text/plain": [
              "'String built with double quotes'"
            ]
          },
          "execution_count": 25,
          "metadata": {
            "tags": []
          },
          "output_type": "execute_result"
        }
      ],
      "source": [
        "# We can also use double quote\n",
        "\"String built with double quotes\""
      ]
    },
    {
      "cell_type": "code",
      "execution_count": null,
      "metadata": {
        "id": "5VOuOpqJIPYx",
        "outputId": "c9809b9c-46d5-46ca-d580-018d18aa2b8e"
      },
      "outputs": [
        {
          "ename": "SyntaxError",
          "evalue": "invalid syntax (<ipython-input-26-3b26cff97c4c>, line 2)",
          "output_type": "error",
          "traceback": [
            "\u001b[1;36m  File \u001b[1;32m\"<ipython-input-26-3b26cff97c4c>\"\u001b[1;36m, line \u001b[1;32m2\u001b[0m\n\u001b[1;33m    ' I'm using single quotes, but will create an error'\u001b[0m\n\u001b[1;37m        ^\u001b[0m\n\u001b[1;31mSyntaxError\u001b[0m\u001b[1;31m:\u001b[0m invalid syntax\n"
          ]
        }
      ],
      "source": [
        "# Be careful with quotes!\n",
        "' I'm using single quotes, but will create an error'"
      ]
    },
    {
      "cell_type": "markdown",
      "metadata": {
        "id": "ZD6wgLU0IPY1"
      },
      "source": [
        "The above code results in an error as the text “I’m” stops the string. Here, a combination of single quotes and double quotes can be used to get the complete statement."
      ]
    },
    {
      "cell_type": "code",
      "execution_count": null,
      "metadata": {
        "id": "uevwG-drIPY2",
        "outputId": "b821b39c-fb82-4cef-e0b2-5d880c0fa4d1"
      },
      "outputs": [
        {
          "data": {
            "text/plain": [
              "\"Now I'm ready to use the single quotes inside a string!\""
            ]
          },
          "execution_count": 27,
          "metadata": {
            "tags": []
          },
          "output_type": "execute_result"
        }
      ],
      "source": [
        "\"Now I'm ready to use the single quotes inside a string!\""
      ]
    },
    {
      "cell_type": "markdown",
      "metadata": {
        "id": "VWlWwBEQIPY6"
      },
      "source": [
        "We can automatically display the output strings using Jupyter notebook with just a string in a cell. But,the correct way to display strings in your output is by using a print function."
      ]
    },
    {
      "cell_type": "code",
      "execution_count": null,
      "metadata": {
        "id": "qK6YZjiEIPY6",
        "outputId": "6f79ee81-5cef-4b20-c508-675b3eed2c8e"
      },
      "outputs": [
        {
          "data": {
            "text/plain": [
              "'iNeuron'"
            ]
          },
          "execution_count": 29,
          "metadata": {
            "tags": []
          },
          "output_type": "execute_result"
        }
      ],
      "source": [
        "\"iNeuron\""
      ]
    },
    {
      "cell_type": "markdown",
      "metadata": {
        "id": "qqnRAvoGIPY_"
      },
      "source": [
        "## 6.2.2 <font color='red'>Python 3 Alert!</font>\n",
        "\n",
        "Note that, In Python 3, print is a function and not a statement. So you would print statements like this:\n",
        "print('Hello World')\n",
        "\n",
        "If you want to use this functionality in Python2, you can import form the __future__ module. \n",
        "\n",
        "**Caution: After importing this; you won't be able to choose the print statement method anymore. So pick the right one whichever  you prefer depending on your Python installation and continue on with it.**"
      ]
    },
    {
      "cell_type": "code",
      "execution_count": null,
      "metadata": {
        "id": "C1Atigp5IPZA",
        "outputId": "6e27f561-25f2-4f5b-ae8d-d7d6291fdb2d"
      },
      "outputs": [
        {
          "name": "stdout",
          "output_type": "stream",
          "text": [
            "Hello World\n"
          ]
        }
      ],
      "source": [
        "# To use print function from Python 3 in Python 2\n",
        "from __future__ import print_function\n",
        "\n",
        "print('Hello World')"
      ]
    },
    {
      "cell_type": "code",
      "execution_count": null,
      "metadata": {
        "id": "j-F3A2lSIPZE",
        "outputId": "5b6af9c4-30f4-43af-c72c-fa5adeb7340f"
      },
      "outputs": [
        {
          "name": "stdout",
          "output_type": "stream",
          "text": [
            "iNeuron\n"
          ]
        }
      ],
      "source": [
        "string = \"iNeuron\"\n",
        "\n",
        "print(string)"
      ]
    },
    {
      "cell_type": "markdown",
      "metadata": {
        "id": "HgZGtD9XqSPg"
      },
      "source": [
        "## 6.2.3 String operations"
      ]
    },
    {
      "cell_type": "markdown",
      "metadata": {
        "id": "ApQ1Re_7IPZH"
      },
      "source": [
        "### Accessing element from string\n",
        "\n",
        "We know strings are a sequence, which means Python can use indexes to call all the sequence parts. Let's learn how String Indexing works.\n",
        "\n",
        "•\tWe use brackets `[]` after an object to call its index. \n",
        "\n",
        "•\tWe should also note that indexing `starts at 0` for Python.\n",
        "\n",
        "Now, Let's create a new object called s and the walk through a few examples of indexing."
      ]
    },
    {
      "cell_type": "code",
      "execution_count": null,
      "metadata": {
        "id": "QuURXOLBIPZJ",
        "outputId": "40640ae5-7de9-43bb-fb73-1f81ba2c5caf"
      },
      "outputs": [
        {
          "name": "stdout",
          "output_type": "stream",
          "text": [
            "i\n"
          ]
        }
      ],
      "source": [
        "# Fetch first character of a string\n",
        "print(string[0])"
      ]
    },
    {
      "cell_type": "code",
      "execution_count": null,
      "metadata": {
        "id": "uhD259smIPZM",
        "outputId": "d753f4b2-ffd6-49db-cda0-2dc02a743e2b"
      },
      "outputs": [
        {
          "name": "stdout",
          "output_type": "stream",
          "text": [
            "n\n"
          ]
        }
      ],
      "source": [
        "# Fetch last element of a string\n",
        "print(string[-1])"
      ]
    },
    {
      "cell_type": "code",
      "execution_count": null,
      "metadata": {
        "id": "uvz27720IPZQ",
        "outputId": "5face795-3a16-42d0-86b7-d2955f6fb3e9"
      },
      "outputs": [
        {
          "name": "stdout",
          "output_type": "stream",
          "text": [
            "r\n"
          ]
        }
      ],
      "source": [
        "# Fetch nth element of a string\n",
        "print(string[4])"
      ]
    },
    {
      "cell_type": "code",
      "execution_count": null,
      "metadata": {
        "id": "yp6MOIRfIPZT",
        "outputId": "576565a9-fe6f-4430-a206-1acc879edaeb"
      },
      "outputs": [
        {
          "ename": "SyntaxError",
          "evalue": "invalid syntax (<ipython-input-76-7fb3b9347dc6>, line 1)",
          "output_type": "error",
          "traceback": [
            "\u001b[1;36m  File \u001b[1;32m\"<ipython-input-76-7fb3b9347dc6>\"\u001b[1;36m, line \u001b[1;32m1\u001b[0m\n\u001b[1;33m    If length exceeds, then it will give index out of range as we are finding index\u001b[0m\n\u001b[1;37m            ^\u001b[0m\n\u001b[1;31mSyntaxError\u001b[0m\u001b[1;31m:\u001b[0m invalid syntax\n"
          ]
        }
      ],
      "source": [
        "If length exceeds, then it will give index out of range as we are finding index\n",
        "print(string[9])"
      ]
    },
    {
      "cell_type": "markdown",
      "metadata": {
        "id": "rQPx5VGAIPZX"
      },
      "source": [
        "We can use a : to perform *slicing* which grabs everything up to a designated point. For example:"
      ]
    },
    {
      "cell_type": "code",
      "execution_count": null,
      "metadata": {
        "id": "Fs_1damEIPZY",
        "outputId": "411b4f4e-5b21-4b57-ad75-c227f38b3361"
      },
      "outputs": [
        {
          "name": "stdout",
          "output_type": "stream",
          "text": [
            "Neuron\n"
          ]
        }
      ],
      "source": [
        "# This slice operation will help us to fetch substring from a string.\n",
        "# [ Index given before colon will be starting index and index given after colon will be ending index and \n",
        "# it is not considered to print]\n",
        "#  And if no index is given it will consider till end of string index\n",
        "print(string[1:])"
      ]
    },
    {
      "cell_type": "code",
      "execution_count": null,
      "metadata": {
        "id": "bCMHesQmIPZb",
        "outputId": "92c26ea2-20b6-4004-a79c-124a10a424f6"
      },
      "outputs": [
        {
          "name": "stdout",
          "output_type": "stream",
          "text": [
            "Ne\n"
          ]
        }
      ],
      "source": [
        "# This will give character starting from index 1 and ending index 2 (Last will not consider for slice operation)\n",
        "print(string[1:3])"
      ]
    },
    {
      "cell_type": "markdown",
      "metadata": {
        "id": "fFK0JyRuIPZf"
      },
      "source": [
        "Note the above slicing. Here we're telling Python to grab everything from 1 up to 3. It doesn't include the 3rd index. You'll notice this a lot in Python, where statements and are usually in the context of \"up to, but not including\"."
      ]
    },
    {
      "cell_type": "code",
      "execution_count": null,
      "metadata": {
        "id": "JrT3DuvcIPZg",
        "outputId": "f83b2844-7c0f-4e2a-c32f-5b9df835b890"
      },
      "outputs": [
        {
          "name": "stdout",
          "output_type": "stream",
          "text": [
            "iNeu\n"
          ]
        }
      ],
      "source": [
        "# It will give all the characters but not the last three characeters\n",
        "print(string[:-3])"
      ]
    },
    {
      "cell_type": "code",
      "execution_count": null,
      "metadata": {
        "id": "I3JBrSw2IPZj",
        "outputId": "3fac6ab8-a2c2-47d2-c981-14a98eef4a23"
      },
      "outputs": [
        {
          "name": "stdout",
          "output_type": "stream",
          "text": [
            "euron\n"
          ]
        }
      ],
      "source": [
        "# It will give all the characters but not the first two characeters\n",
        "print(string[2:])"
      ]
    },
    {
      "cell_type": "code",
      "execution_count": null,
      "metadata": {
        "id": "yguYVTGUIPZo",
        "outputId": "a095c41c-e863-43f5-f501-099406f38172"
      },
      "outputs": [
        {
          "name": "stdout",
          "output_type": "stream",
          "text": [
            "on\n"
          ]
        }
      ],
      "source": [
        "#It will give the last two char\n",
        "print(string[-2:])"
      ]
    },
    {
      "cell_type": "markdown",
      "metadata": {
        "id": "-vSAhVeUIPZr"
      },
      "source": [
        "Index and slice notation is used to grab elements of a sequenec by a specified step size (where in 1 is the default size). For instance we can use two colons in a row and then a number specifying the frequency to grab elements. For example:"
      ]
    },
    {
      "cell_type": "code",
      "execution_count": null,
      "metadata": {
        "id": "7-ryqhPdIPZs",
        "outputId": "497cc012-3285-4de9-c548-1bc2fb8ddf95"
      },
      "outputs": [
        {
          "data": {
            "text/plain": [
              "'Hello world'"
            ]
          },
          "execution_count": 38,
          "metadata": {
            "tags": []
          },
          "output_type": "execute_result"
        }
      ],
      "source": [
        "# Grab everything, but go in steps size of 1\n",
        "s = \"Hello world\"\n",
        "s[::1]"
      ]
    },
    {
      "cell_type": "code",
      "execution_count": null,
      "metadata": {
        "id": "DYqRkteXIPZv",
        "outputId": "91e8f73e-69a9-466a-b5b1-acae881b5f34"
      },
      "outputs": [
        {
          "data": {
            "text/plain": [
              "'Hlowrd'"
            ]
          },
          "execution_count": 32,
          "metadata": {
            "tags": []
          },
          "output_type": "execute_result"
        }
      ],
      "source": [
        "# Grab everything, but go in step sizes of 2\n",
        "s[::2]"
      ]
    },
    {
      "cell_type": "code",
      "execution_count": null,
      "metadata": {
        "id": "DOfS6oaBIPZy",
        "outputId": "51bd3048-5683-4040-cdc6-f1a377819dcb"
      },
      "outputs": [
        {
          "data": {
            "text/plain": [
              "'dlrow olleH'"
            ]
          },
          "execution_count": 33,
          "metadata": {
            "tags": []
          },
          "output_type": "execute_result"
        }
      ],
      "source": [
        "# We can use this to print a string backwards\n",
        "s[::-1]"
      ]
    },
    {
      "cell_type": "markdown",
      "metadata": {
        "id": "bDJyxUb8IPZ1"
      },
      "source": [
        "Immutability is one the finest string property whichh is created once and the elements within it cannot be changed or replaced. For example:"
      ]
    },
    {
      "cell_type": "code",
      "execution_count": null,
      "metadata": {
        "id": "bIyuW0kqIPZ2",
        "outputId": "6781edd4-f4b5-41a9-9e64-4c9b9688480d"
      },
      "outputs": [
        {
          "ename": "TypeError",
          "evalue": "'str' object does not support item assignment",
          "output_type": "error",
          "traceback": [
            "\u001b[1;31m---------------------------------------------------------------------------\u001b[0m",
            "\u001b[1;31mTypeError\u001b[0m                                 Traceback (most recent call last)",
            "\u001b[1;32m<ipython-input-40-976942677f11>\u001b[0m in \u001b[0;36m<module>\u001b[1;34m\u001b[0m\n\u001b[0;32m      1\u001b[0m \u001b[1;31m# Let's try to change the first letter to 'x'\u001b[0m\u001b[1;33m\u001b[0m\u001b[1;33m\u001b[0m\u001b[1;33m\u001b[0m\u001b[0m\n\u001b[1;32m----> 2\u001b[1;33m \u001b[0ms\u001b[0m\u001b[1;33m[\u001b[0m\u001b[1;36m0\u001b[0m\u001b[1;33m]\u001b[0m \u001b[1;33m=\u001b[0m \u001b[1;34m'x'\u001b[0m\u001b[1;33m\u001b[0m\u001b[1;33m\u001b[0m\u001b[0m\n\u001b[0m",
            "\u001b[1;31mTypeError\u001b[0m: 'str' object does not support item assignment"
          ]
        }
      ],
      "source": [
        "# Let's try to change the first letter to 'x'\n",
        "s[0] = 'x'"
      ]
    },
    {
      "cell_type": "markdown",
      "metadata": {
        "id": "uqxtJ1KvIPZ6"
      },
      "source": [
        "Notice how the error tells us directly what we can't do, change the item assignment!\n",
        "\n",
        "Something we can do is concatenate strings!"
      ]
    },
    {
      "cell_type": "code",
      "execution_count": null,
      "metadata": {
        "id": "U9Xk_DEKIPZ6",
        "outputId": "706db462-9230-412d-a9c1-df9ba2489b20"
      },
      "outputs": [
        {
          "data": {
            "text/plain": [
              "'Hello world concatenate me!'"
            ]
          },
          "execution_count": 39,
          "metadata": {
            "tags": []
          },
          "output_type": "execute_result"
        }
      ],
      "source": [
        "# We can reassign s completely though!\n",
        "s = s+ \" concatenate me!\"\n",
        "s"
      ]
    },
    {
      "cell_type": "code",
      "execution_count": null,
      "metadata": {
        "id": "lIISYlP1IPaC",
        "outputId": "e4f0be70-82d5-4bbe-cbd4-c9faa442aeec"
      },
      "outputs": [
        {
          "name": "stdout",
          "output_type": "stream",
          "text": [
            "iNeuron Company \n"
          ]
        }
      ],
      "source": [
        "# String can be concatenate using + sign operator\n",
        "print(string + \" Company \")"
      ]
    },
    {
      "cell_type": "code",
      "execution_count": null,
      "metadata": {
        "id": "vTZErt_nIPaH",
        "outputId": "acf4dadc-31ed-49fd-cb13-12e36c4aca8b"
      },
      "outputs": [
        {
          "name": "stdout",
          "output_type": "stream",
          "text": [
            " Hello  World \n"
          ]
        }
      ],
      "source": [
        "print(\" Hello \" + \" World \")"
      ]
    },
    {
      "cell_type": "code",
      "execution_count": null,
      "metadata": {
        "id": "IH_lfQdBIPaL",
        "outputId": "8772647b-5da7-4fe7-c0d5-6977bf1ce75d"
      },
      "outputs": [
        {
          "name": "stdout",
          "output_type": "stream",
          "text": [
            "iNeuroniNeuron\n"
          ]
        }
      ],
      "source": [
        "# Print string two times using * operator\n",
        "#We can use the multiplication symbol to create repetition!\n",
        "print(string * 2)"
      ]
    },
    {
      "cell_type": "markdown",
      "metadata": {
        "id": "tsN0K4AwIPaO"
      },
      "source": [
        "### String length"
      ]
    },
    {
      "cell_type": "code",
      "execution_count": null,
      "metadata": {
        "id": "HK6baJGEIPaO",
        "outputId": "243d9f1a-ca0b-44ae-fb3e-f987b32a79ed"
      },
      "outputs": [
        {
          "data": {
            "text/plain": [
              "7"
            ]
          },
          "execution_count": 88,
          "metadata": {
            "tags": []
          },
          "output_type": "execute_result"
        }
      ],
      "source": [
        "# To fing lengt                                   h of a string, we can use len\n",
        "len(string)"
      ]
    },
    {
      "cell_type": "markdown",
      "metadata": {
        "id": "ZqhJEO0TIPaR"
      },
      "source": [
        "Find character/word in a string"
      ]
    },
    {
      "cell_type": "code",
      "execution_count": null,
      "metadata": {
        "id": "3OmJMfhgIPaS",
        "outputId": "11317948-874b-496a-a264-6185f6b9f740"
      },
      "outputs": [
        {
          "data": {
            "text/plain": [
              "6"
            ]
          },
          "execution_count": 92,
          "metadata": {
            "tags": []
          },
          "output_type": "execute_result"
        }
      ],
      "source": [
        "# To find a character in a string, use find and it will give index of that character\n",
        "string.find(\"n\")"
      ]
    },
    {
      "cell_type": "code",
      "execution_count": null,
      "metadata": {
        "id": "36EgVChwIPaV",
        "outputId": "5f387be5-c269-4e91-d2a1-6d4e0364135e"
      },
      "outputs": [
        {
          "data": {
            "text/plain": [
              "-1"
            ]
          },
          "execution_count": 96,
          "metadata": {
            "tags": []
          },
          "output_type": "execute_result"
        }
      ],
      "source": [
        "# If it is not able to find character , it will give index as a -1\n",
        "string.find('x')"
      ]
    },
    {
      "cell_type": "markdown",
      "metadata": {
        "id": "OicGwvW3IPaZ"
      },
      "source": [
        "### Count characters in a string"
      ]
    },
    {
      "cell_type": "code",
      "execution_count": null,
      "metadata": {
        "id": "qCsQ_9AlIPaa",
        "outputId": "52b5cdba-5b23-406c-ea4b-0f1d99fa7d73"
      },
      "outputs": [
        {
          "name": "stdout",
          "output_type": "stream",
          "text": [
            "0\n"
          ]
        }
      ],
      "source": [
        "# To count no. of characters in a string, can use count method\n",
        "print(string.count(' '))"
      ]
    },
    {
      "cell_type": "code",
      "execution_count": null,
      "metadata": {
        "id": "Hx5OdWkJIPac",
        "outputId": "63044f1f-bb69-475f-c776-69f68826d670"
      },
      "outputs": [
        {
          "name": "stdout",
          "output_type": "stream",
          "text": [
            "1\n"
          ]
        }
      ],
      "source": [
        "print(string.count('n'))"
      ]
    },
    {
      "cell_type": "markdown",
      "metadata": {
        "id": "iewJpsdfIPaf"
      },
      "source": [
        "### String split operation"
      ]
    },
    {
      "cell_type": "code",
      "execution_count": null,
      "metadata": {
        "id": "00IeefncIPag",
        "outputId": "547295f7-7cf3-4bc3-bcf7-fd0cafab7ff4"
      },
      "outputs": [
        {
          "name": "stdout",
          "output_type": "stream",
          "text": [
            "['iNeuron']\n"
          ]
        }
      ],
      "source": [
        "# To split string at certain space/character, will return list of strings after splitting\n",
        "print(string.split(' '))"
      ]
    },
    {
      "cell_type": "code",
      "execution_count": null,
      "metadata": {
        "id": "YApyjsGRIPai",
        "outputId": "f43d90e2-4496-4b58-a83a-6c6b338d5798"
      },
      "outputs": [
        {
          "data": {
            "text/plain": [
              "['iNe', 'ron']"
            ]
          },
          "execution_count": 111,
          "metadata": {
            "tags": []
          },
          "output_type": "execute_result"
        }
      ],
      "source": [
        "string.split('u')"
      ]
    },
    {
      "cell_type": "markdown",
      "metadata": {
        "id": "npBnzB13IPal"
      },
      "source": [
        "### Change strings to upper & lower case"
      ]
    },
    {
      "cell_type": "code",
      "execution_count": null,
      "metadata": {
        "id": "5NSNQDFAIPam",
        "outputId": "ebb79fb0-f300-4fd0-d51c-fac527e2d247"
      },
      "outputs": [
        {
          "name": "stdout",
          "output_type": "stream",
          "text": [
            "INEURON\n"
          ]
        }
      ],
      "source": [
        "# Changes to upper case\n",
        "print(string.upper())"
      ]
    },
    {
      "cell_type": "code",
      "execution_count": null,
      "metadata": {
        "id": "gllAj31EIPap",
        "outputId": "2cd3a5a1-03d0-4c8b-d3a6-93fac56f7e00"
      },
      "outputs": [
        {
          "name": "stdout",
          "output_type": "stream",
          "text": [
            "ineuron\n"
          ]
        }
      ],
      "source": [
        "# Changes to lower case\n",
        "print(string.lower())"
      ]
    },
    {
      "cell_type": "code",
      "execution_count": null,
      "metadata": {
        "id": "qorxK_ndIPar",
        "outputId": "3433e48a-3967-450b-c47a-2df57e1cc5cd"
      },
      "outputs": [
        {
          "name": "stdout",
          "output_type": "stream",
          "text": [
            "InEURON\n"
          ]
        }
      ],
      "source": [
        "# Swap case from lower to upper & upper to lower\n",
        "print(string.swapcase())"
      ]
    },
    {
      "cell_type": "code",
      "execution_count": null,
      "metadata": {
        "id": "r_MPgkr9IPav",
        "outputId": "8f4ddf6d-7037-414b-a4db-9222d25649e8"
      },
      "outputs": [
        {
          "name": "stdout",
          "output_type": "stream",
          "text": [
            "Ineuron\n"
          ]
        }
      ],
      "source": [
        "print(string.title())"
      ]
    },
    {
      "cell_type": "code",
      "execution_count": null,
      "metadata": {
        "id": "pFItmYsQIPax",
        "outputId": "52429456-c2ff-4f99-bc9a-ebd7a57fc704"
      },
      "outputs": [
        {
          "name": "stdout",
          "output_type": "stream",
          "text": [
            "Ineuron\n"
          ]
        }
      ],
      "source": [
        "print(string.capitalize())"
      ]
    },
    {
      "cell_type": "markdown",
      "metadata": {
        "id": "mHg958LzIPa1"
      },
      "source": [
        "### Reverse string"
      ]
    },
    {
      "cell_type": "code",
      "execution_count": null,
      "metadata": {
        "id": "G9n4MnxrIPa1",
        "outputId": "80ace252-814b-4298-eaee-6a2f86a99ac4"
      },
      "outputs": [
        {
          "name": "stdout",
          "output_type": "stream",
          "text": [
            "n o r u e N i\n"
          ]
        }
      ],
      "source": [
        "# Can use reversed for reversing string\n",
        "print(' '.join(reversed(string)))"
      ]
    },
    {
      "cell_type": "code",
      "execution_count": null,
      "metadata": {
        "id": "SAYA8gC0IPa6",
        "outputId": "f13a264f-599b-4f10-a348-a6e5bf1c1101"
      },
      "outputs": [
        {
          "name": "stdout",
          "output_type": "stream",
          "text": [
            "norueNi\n"
          ]
        }
      ],
      "source": [
        "# We can do reverse of a string by extended slice functionality [::1], so here the third one is the optional step size \n",
        "# through which we are reversing by using step size as -1\n",
        "print(string[::-1])"
      ]
    },
    {
      "cell_type": "markdown",
      "metadata": {
        "id": "LSusYSErIPa-"
      },
      "source": [
        "### Removing characters from the end of the string"
      ]
    },
    {
      "cell_type": "code",
      "execution_count": null,
      "metadata": {
        "id": "kJLmQ_-MIPa-"
      },
      "outputs": [],
      "source": [
        "string_a =\" ineuron \""
      ]
    },
    {
      "cell_type": "code",
      "execution_count": null,
      "metadata": {
        "id": "6-Ed1fXWIPbB",
        "outputId": "cfa83d65-ad36-44d5-e539-50ddfbe3ef01"
      },
      "outputs": [
        {
          "data": {
            "text/plain": [
              "' ineuron '"
            ]
          },
          "execution_count": 131,
          "metadata": {
            "tags": []
          },
          "output_type": "execute_result"
        }
      ],
      "source": [
        "string_a"
      ]
    },
    {
      "cell_type": "code",
      "execution_count": null,
      "metadata": {
        "id": "XWELixvcIPbF",
        "outputId": "bc8eaa05-6770-46db-a9b6-43153f301cf5"
      },
      "outputs": [
        {
          "data": {
            "text/plain": [
              "'ineuron'"
            ]
          },
          "execution_count": 135,
          "metadata": {
            "tags": []
          },
          "output_type": "execute_result"
        }
      ],
      "source": [
        "# Strip will remove white space from both end of the strings\n",
        "string_a.strip(\" \")"
      ]
    },
    {
      "cell_type": "code",
      "execution_count": null,
      "metadata": {
        "id": "0CjhpR1VIPbJ",
        "outputId": "3047184d-f5de-45c5-be64-a61934fe3883"
      },
      "outputs": [
        {
          "data": {
            "text/plain": [
              "'ineuron '"
            ]
          },
          "execution_count": 138,
          "metadata": {
            "tags": []
          },
          "output_type": "execute_result"
        }
      ],
      "source": [
        "# removes leading character from a string\n",
        "string_a.lstrip(\" \")"
      ]
    },
    {
      "cell_type": "code",
      "execution_count": null,
      "metadata": {
        "id": "pz2oObXoIPbN",
        "outputId": "5c8194a6-f66e-4a0f-d155-ad4025518009"
      },
      "outputs": [
        {
          "data": {
            "text/plain": [
              "' ineuron'"
            ]
          },
          "execution_count": 139,
          "metadata": {
            "tags": []
          },
          "output_type": "execute_result"
        }
      ],
      "source": [
        "# removes trailing character from a string\n",
        "string_a.rstrip(\" \")"
      ]
    },
    {
      "cell_type": "markdown",
      "metadata": {
        "id": "vir8vehZIPbP"
      },
      "source": [
        "### Join operation in string"
      ]
    },
    {
      "cell_type": "code",
      "execution_count": null,
      "metadata": {
        "id": "2ddxvnrNIPbQ",
        "outputId": "1df1ae3f-7749-4968-c46a-e6d230a4b852"
      },
      "outputs": [
        {
          "data": {
            "text/plain": [
              "'W e l c o m e   t o   i n e u r o n'"
            ]
          },
          "execution_count": 140,
          "metadata": {
            "tags": []
          },
          "output_type": "execute_result"
        }
      ],
      "source": [
        "\" \".join(\"Welcome to ineuron\")"
      ]
    },
    {
      "cell_type": "markdown",
      "metadata": {
        "id": "QB2Y-lerIPbT"
      },
      "source": [
        "### Replace string"
      ]
    },
    {
      "cell_type": "code",
      "execution_count": null,
      "metadata": {
        "id": "96c1J8W2IPbT",
        "outputId": "366b1bb2-59a8-4d81-aabd-038bbbe46c46"
      },
      "outputs": [
        {
          "data": {
            "text/plain": [
              "'greetings from ineuron'"
            ]
          },
          "execution_count": 1,
          "metadata": {
            "tags": []
          },
          "output_type": "execute_result"
        }
      ],
      "source": [
        "string_n = \"greetings to ineuron\"\n",
        "string_n.replace(\"to\",\"from\")"
      ]
    },
    {
      "cell_type": "markdown",
      "metadata": {
        "id": "cKTvi4T0IPbY"
      },
      "source": [
        "### Formatting\n",
        "\n",
        "The `center()` method allows you to place your string 'centered' between a provided string with a certain length. "
      ]
    },
    {
      "cell_type": "code",
      "execution_count": null,
      "metadata": {
        "id": "dn8AAp_iIPbZ",
        "outputId": "09dc8ef9-515c-4613-b1d3-e7937a892c87"
      },
      "outputs": [
        {
          "data": {
            "text/plain": [
              "'zzzzzziNeuronzzzzzzz'"
            ]
          },
          "execution_count": 41,
          "metadata": {
            "tags": []
          },
          "output_type": "execute_result"
        }
      ],
      "source": [
        "string.center(20,'z')"
      ]
    },
    {
      "cell_type": "markdown",
      "metadata": {
        "id": "sh9H5ZRUIPbc"
      },
      "source": [
        "`expandtabs()` will expand tab notations \\t into spaces. Let's see an example to understand the concept."
      ]
    },
    {
      "cell_type": "code",
      "execution_count": null,
      "metadata": {
        "id": "06B3L89zIPbc",
        "outputId": "7adedd68-843f-4d6a-f297-c8d039aee7be"
      },
      "outputs": [
        {
          "data": {
            "text/plain": [
              "'hello   hi'"
            ]
          },
          "execution_count": 42,
          "metadata": {
            "tags": []
          },
          "output_type": "execute_result"
        }
      ],
      "source": [
        "'hello\\thi'.expandtabs()"
      ]
    },
    {
      "cell_type": "markdown",
      "metadata": {
        "id": "gcJ_CDW9IPbi"
      },
      "source": [
        "### Checking string case"
      ]
    },
    {
      "cell_type": "code",
      "execution_count": null,
      "metadata": {
        "id": "spKw1bXpIPbj",
        "outputId": "b44c0d16-95b9-4c31-c5ea-a8cbbf352fe9"
      },
      "outputs": [
        {
          "data": {
            "text/plain": [
              "False"
            ]
          },
          "execution_count": 141,
          "metadata": {
            "tags": []
          },
          "output_type": "execute_result"
        }
      ],
      "source": [
        "# Check if string are in upper case\n",
        "string.isupper()"
      ]
    },
    {
      "cell_type": "code",
      "execution_count": null,
      "metadata": {
        "id": "4-6qzkgZIPbo",
        "outputId": "5a5993dc-bbfd-493e-d7a9-bddf13631dcd"
      },
      "outputs": [
        {
          "data": {
            "text/plain": [
              "False"
            ]
          },
          "execution_count": 142,
          "metadata": {
            "tags": []
          },
          "output_type": "execute_result"
        }
      ],
      "source": [
        "# Check if string are in lower case\n",
        "string.islower()"
      ]
    },
    {
      "cell_type": "code",
      "execution_count": null,
      "metadata": {
        "id": "1DDkb2hoIPbs",
        "outputId": "026bcb0c-2923-40fa-96b6-d92f654863dc"
      },
      "outputs": [
        {
          "data": {
            "text/plain": [
              "False"
            ]
          },
          "execution_count": 144,
          "metadata": {
            "tags": []
          },
          "output_type": "execute_result"
        }
      ],
      "source": [
        "# Check if string contains space\n",
        "string.isspace()"
      ]
    },
    {
      "cell_type": "code",
      "execution_count": null,
      "metadata": {
        "id": "H8xB3rFGIPbw",
        "outputId": "bcc801f3-3b83-4b8d-d77e-5886d25be34a"
      },
      "outputs": [
        {
          "data": {
            "text/plain": [
              "False"
            ]
          },
          "execution_count": 147,
          "metadata": {
            "tags": []
          },
          "output_type": "execute_result"
        }
      ],
      "source": [
        "# Check if string contains digit\n",
        "string.isdigit() "
      ]
    },
    {
      "cell_type": "code",
      "execution_count": null,
      "metadata": {
        "id": "ScUB3y6DIPb1",
        "outputId": "8646b97c-b976-40ab-91be-a11dec147127"
      },
      "outputs": [
        {
          "data": {
            "text/plain": [
              "True"
            ]
          },
          "execution_count": 148,
          "metadata": {
            "tags": []
          },
          "output_type": "execute_result"
        }
      ],
      "source": [
        "# Check if string endswith character n\n",
        "string.endswith('n') "
      ]
    },
    {
      "cell_type": "code",
      "execution_count": null,
      "metadata": {
        "id": "76QmoszoIPb3",
        "outputId": "887b9c28-d7f0-4460-d5a0-732467f01eec"
      },
      "outputs": [
        {
          "data": {
            "text/plain": [
              "True"
            ]
          },
          "execution_count": 150,
          "metadata": {
            "tags": []
          },
          "output_type": "execute_result"
        }
      ],
      "source": [
        "# Check if string startswith character n\n",
        "string.startswith('i') "
      ]
    },
    {
      "cell_type": "code",
      "execution_count": null,
      "metadata": {
        "id": "o0xbXuYbIPb5",
        "outputId": "7a53049a-82a5-4182-d7fc-ea6c836f8de6"
      },
      "outputs": [
        {
          "data": {
            "text/plain": [
              "True"
            ]
          },
          "execution_count": 2,
          "metadata": {
            "tags": []
          },
          "output_type": "execute_result"
        }
      ],
      "source": [
        "#check if all char in string are alphanumeric\n",
        "a = \"abcd1234\"\n",
        "a.isalnum() "
      ]
    },
    {
      "cell_type": "code",
      "execution_count": null,
      "metadata": {
        "id": "fNkFU3GnIPb9",
        "outputId": "73d15813-0456-4120-ee1b-d1a3d52a0622"
      },
      "outputs": [
        {
          "data": {
            "text/plain": [
              "True"
            ]
          },
          "execution_count": 3,
          "metadata": {
            "tags": []
          },
          "output_type": "execute_result"
        }
      ],
      "source": [
        "#test if string contains title words\n",
        "a=\"Abcdef\"\n",
        "a.istitle() "
      ]
    },
    {
      "cell_type": "markdown",
      "metadata": {
        "id": "9k61R3OwIPcA"
      },
      "source": [
        "### Iterate through a string"
      ]
    },
    {
      "cell_type": "code",
      "execution_count": null,
      "metadata": {
        "id": "865K-5QsIPcA",
        "outputId": "3e73ae20-1183-4416-bc19-83f04540847b"
      },
      "outputs": [
        {
          "name": "stdout",
          "output_type": "stream",
          "text": [
            "22 letters found\n"
          ]
        }
      ],
      "source": [
        "# Iterating through a string and count letters in a string\n",
        "count = 0\n",
        "for ch in 'Greetings from iNeuron':\n",
        "    count += 1\n",
        "print(count,'letters found')"
      ]
    },
    {
      "cell_type": "code",
      "execution_count": null,
      "metadata": {
        "id": "OjsFH5UPIPcD",
        "outputId": "8d05701b-b4b5-40c7-ba18-89171545a361"
      },
      "outputs": [
        {
          "data": {
            "text/plain": [
              "22"
            ]
          },
          "execution_count": 4,
          "metadata": {
            "tags": []
          },
          "output_type": "execute_result"
        }
      ],
      "source": [
        "# Same operation can be done using len\n",
        "len(\"Greetings from iNeuron\")"
      ]
    },
    {
      "cell_type": "code",
      "execution_count": null,
      "metadata": {
        "id": "C2o_I6CrIPcF",
        "outputId": "13302c29-2aa2-4ea3-9fd6-3121018eeea1"
      },
      "outputs": [
        {
          "name": "stdout",
          "output_type": "stream",
          "text": [
            "i\n",
            "N\n",
            "e\n",
            "u\n",
            "r\n",
            "o\n",
            "n\n"
          ]
        }
      ],
      "source": [
        "# Using range() to iterating through a string\n",
        "string = \"iNeuron\"\n",
        "for ch in range(len(string)):\n",
        "   print(string[ch])"
      ]
    },
    {
      "cell_type": "code",
      "execution_count": null,
      "metadata": {
        "id": "-q1NkXceIPcI",
        "outputId": "e21a9ce1-c265-4f75-8696-b6a243be0b23"
      },
      "outputs": [
        {
          "name": "stdout",
          "output_type": "stream",
          "text": [
            "n\n",
            "o\n",
            "r\n",
            "u\n",
            "e\n",
            "N\n",
            "i\n"
          ]
        }
      ],
      "source": [
        "# We can use index to iterate string reverse direction\n",
        "string = \"iNeuron\"\n",
        "ch = len(string) - 1\n",
        "while ch >= 0:\n",
        "   print(string[ch])\n",
        "   ch -= 1"
      ]
    },
    {
      "cell_type": "code",
      "execution_count": null,
      "metadata": {
        "id": "DRCjSK8tIPcL",
        "outputId": "d1f63ace-f119-4f2f-ef6e-7546a1b1b315"
      },
      "outputs": [
        {
          "name": "stdout",
          "output_type": "stream",
          "text": [
            "i is a vowel\n",
            "n is not a vowel\n",
            "e is a vowel\n",
            "u is a vowel\n",
            "r is not a vowel\n",
            "o is a vowel\n",
            "n is not a vowel\n"
          ]
        }
      ],
      "source": [
        "Name = \"ineuron\"\n",
        "vowels = \"AaEeIiOoUu\"\n",
        "for ch in Name:\n",
        "    if ch in vowels:\n",
        "        print(\"{} is a vowel\".format(ch))\n",
        "    else:\n",
        "        print(\"{} is not a vowel\".format(ch))"
      ]
    },
    {
      "cell_type": "code",
      "execution_count": null,
      "metadata": {
        "id": "mxrgQ-USIPcN",
        "outputId": "35b13761-32d2-4cda-efcd-88775ab7ec0d"
      },
      "outputs": [
        {
          "name": "stdout",
          "output_type": "stream",
          "text": [
            "Yes string is palindrome\n"
          ]
        }
      ],
      "source": [
        "''' We will see famous palindrome program. String is called palindrom if we reverse the string then\n",
        "    original and reversed string are same or not.\n",
        "    function to check string is  \n",
        "    palindrome or not  \n",
        "'''\n",
        "def palindrome_check(str): \n",
        "  \n",
        "    # looping from 0 to len(str)/2  \n",
        "    for i in range(0, int(len(str)/2)):  \n",
        "        if str[i] != str[len(str)-i-1]: \n",
        "            return False\n",
        "    return True\n",
        "\n",
        "    # Or for reversing we can use str == str[::-1] also.\n",
        "  \n",
        "s = \"malayalam\"\n",
        "res = palindrome_check(s) \n",
        "  \n",
        "if (res): \n",
        "    print(\"Yes string is palindrome\") \n",
        "else: \n",
        "    print(\"No string is not palindrome\")"
      ]
    }
  ],
  "metadata": {
    "colab": {
      "collapsed_sections": [
        "LSusYSErIPa-",
        "vir8vehZIPbP"
      ],
      "provenance": []
    },
    "kernelspec": {
      "display_name": "Python 3",
      "language": "python",
      "name": "python3"
    },
    "language_info": {
      "codemirror_mode": {
        "name": "ipython",
        "version": 3
      },
      "file_extension": ".py",
      "mimetype": "text/x-python",
      "name": "python",
      "nbconvert_exporter": "python",
      "pygments_lexer": "ipython3",
      "version": "3.8.5"
    }
  },
  "nbformat": 4,
  "nbformat_minor": 0
}