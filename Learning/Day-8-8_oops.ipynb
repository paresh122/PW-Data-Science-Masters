{
 "cells": [
  {
   "cell_type": "markdown",
   "id": "a52a0032-2da0-4eca-a234-9f72c780fc49",
   "metadata": {},
   "source": [
    "\"Oops\" stands for Object-Oriented Programming System"
   ]
  },
  {
   "cell_type": "code",
   "execution_count": 1,
   "id": "4e1d9ea2-9cd4-472d-a1c2-5c763334d982",
   "metadata": {},
   "outputs": [],
   "source": [
    "a= 1"
   ]
  },
  {
   "cell_type": "code",
   "execution_count": 2,
   "id": "10864483-fdee-4790-8caf-54e5fa32d0e2",
   "metadata": {},
   "outputs": [
    {
     "name": "stdout",
     "output_type": "stream",
     "text": [
      "<class 'int'>\n"
     ]
    }
   ],
   "source": [
    "print(type(a))"
   ]
  },
  {
   "cell_type": "code",
   "execution_count": 3,
   "id": "97f7fc1a-9f08-4761-b2b3-778706dcaadd",
   "metadata": {},
   "outputs": [
    {
     "name": "stdout",
     "output_type": "stream",
     "text": [
      "<class 'str'>\n"
     ]
    }
   ],
   "source": [
    "print(type(\"pwskills\"))"
   ]
  },
  {
   "cell_type": "code",
   "execution_count": 5,
   "id": "d1d30468-6a87-4e70-ba0d-9c1192ba5565",
   "metadata": {},
   "outputs": [],
   "source": [
    "class test:\n",
    "    pass\n",
    "    "
   ]
  },
  {
   "cell_type": "code",
   "execution_count": 6,
   "id": "e0df25d7-7b4e-40bf-9993-5db5c5b5a953",
   "metadata": {},
   "outputs": [],
   "source": [
    "a = test()"
   ]
  },
  {
   "cell_type": "code",
   "execution_count": 9,
   "id": "f8b23ac6-6749-4e79-8f87-0c68ceabbb5d",
   "metadata": {},
   "outputs": [
    {
     "name": "stdout",
     "output_type": "stream",
     "text": [
      "<class '__main__.test'>\n"
     ]
    }
   ],
   "source": [
    "print(type(a))"
   ]
  },
  {
   "cell_type": "code",
   "execution_count": 13,
   "id": "288f5741-3a63-4f02-abee-cc684180a279",
   "metadata": {},
   "outputs": [],
   "source": [
    "class pwskills:\n",
    "    \n",
    "    def welcome_msg(self):\n",
    "        print(\"welcome to pwskills\")"
   ]
  },
  {
   "cell_type": "code",
   "execution_count": 14,
   "id": "563bf795-b761-438b-8b0c-f2fd5d97ba96",
   "metadata": {},
   "outputs": [],
   "source": [
    "rohan = pwskills()"
   ]
  },
  {
   "cell_type": "code",
   "execution_count": 15,
   "id": "a2fc2f97-ff9f-46de-af3b-59b7dd8199e7",
   "metadata": {},
   "outputs": [
    {
     "name": "stdout",
     "output_type": "stream",
     "text": [
      "welcome to pwskills\n"
     ]
    }
   ],
   "source": [
    "rohan.welcome_msg()"
   ]
  },
  {
   "cell_type": "code",
   "execution_count": 16,
   "id": "da0d4d91-700e-48ef-82c6-a16dd68f1a32",
   "metadata": {},
   "outputs": [],
   "source": [
    "sohan = pwskills()"
   ]
  },
  {
   "cell_type": "code",
   "execution_count": 17,
   "id": "67b55714-d922-47e2-8ceb-a71bfa1c7247",
   "metadata": {},
   "outputs": [
    {
     "name": "stdout",
     "output_type": "stream",
     "text": [
      "welcome to pwskills\n"
     ]
    }
   ],
   "source": [
    "sohan.welcome_msg()"
   ]
  },
  {
   "cell_type": "code",
   "execution_count": 18,
   "id": "c697ea71-a91d-4544-b837-d6ebaf96b28e",
   "metadata": {},
   "outputs": [],
   "source": [
    "a = 1 "
   ]
  },
  {
   "cell_type": "code",
   "execution_count": 19,
   "id": "7dea4172-c4c0-4a6e-a3eb-12adbe594b8d",
   "metadata": {},
   "outputs": [],
   "source": [
    "b = 2"
   ]
  },
  {
   "cell_type": "code",
   "execution_count": 20,
   "id": "8f04514c-8747-4762-9046-e59428ad3942",
   "metadata": {},
   "outputs": [
    {
     "data": {
      "text/plain": [
       "1"
      ]
     },
     "execution_count": 20,
     "metadata": {},
     "output_type": "execute_result"
    }
   ],
   "source": [
    "a "
   ]
  },
  {
   "cell_type": "code",
   "execution_count": 21,
   "id": "33f8fc37-0c11-48c7-9690-ee93f7e8394d",
   "metadata": {},
   "outputs": [
    {
     "data": {
      "text/plain": [
       "2"
      ]
     },
     "execution_count": 21,
     "metadata": {},
     "output_type": "execute_result"
    }
   ],
   "source": [
    "b"
   ]
  },
  {
   "cell_type": "code",
   "execution_count": 23,
   "id": "dfd34ab6-ad2d-419a-a2d0-01ef522c33de",
   "metadata": {},
   "outputs": [],
   "source": [
    "class pwskills1:\n",
    "    \n",
    "    def __init__(self ,phone_number , email_id, student_id ):\n",
    "        \n",
    "        self.phone_number = phone_number\n",
    "        self.email_id = email_id\n",
    "        self.student_id = student_id\n",
    "        \n",
    "    \n",
    "    def return_student_detials(self):\n",
    "        return self.phone_number, self.email_id , self.student_id\n",
    "        \n"
   ]
  },
  {
   "cell_type": "code",
   "execution_count": 30,
   "id": "60639256-0a1e-49c6-8401-dd893774386a",
   "metadata": {},
   "outputs": [],
   "source": [
    "sohan = pwskills1(999679869 , \"sohan@gmail.com\" , 102)"
   ]
  },
  {
   "cell_type": "code",
   "execution_count": 31,
   "id": "31dcb04d-f1a9-4ad0-b4eb-f0a9318c0084",
   "metadata": {},
   "outputs": [
    {
     "data": {
      "text/plain": [
       "999679869"
      ]
     },
     "execution_count": 31,
     "metadata": {},
     "output_type": "execute_result"
    }
   ],
   "source": [
    "sohan.phone_number"
   ]
  },
  {
   "cell_type": "code",
   "execution_count": 32,
   "id": "d00d919b-5e7d-4eac-8c5f-b33a49bac7aa",
   "metadata": {},
   "outputs": [
    {
     "data": {
      "text/plain": [
       "(999679869, 'sohan@gmail.com', 102)"
      ]
     },
     "execution_count": 32,
     "metadata": {},
     "output_type": "execute_result"
    }
   ],
   "source": [
    "sohan.return_student_detials()"
   ]
  },
  {
   "cell_type": "code",
   "execution_count": null,
   "id": "445acd8f-1600-49b1-86a3-ae1e1e47fb9b",
   "metadata": {},
   "outputs": [],
   "source": []
  },
  {
   "cell_type": "code",
   "execution_count": null,
   "id": "8b390f1c-215d-4129-9c62-307887b5a9d3",
   "metadata": {},
   "outputs": [],
   "source": []
  },
  {
   "cell_type": "code",
   "execution_count": null,
   "id": "d59661e5-f593-4649-8488-85e41ab3851f",
   "metadata": {},
   "outputs": [],
   "source": []
  },
  {
   "cell_type": "code",
   "execution_count": 25,
   "id": "62bd0500-9ce4-4e38-9752-1906aa35419c",
   "metadata": {},
   "outputs": [],
   "source": [
    "rohan = pwskills1(95435665, \"rohan@gmail.com\" , 101)"
   ]
  },
  {
   "cell_type": "code",
   "execution_count": 26,
   "id": "427bb866-93c8-461b-80ce-03adf81b9bae",
   "metadata": {},
   "outputs": [
    {
     "data": {
      "text/plain": [
       "95435665"
      ]
     },
     "execution_count": 26,
     "metadata": {},
     "output_type": "execute_result"
    }
   ],
   "source": [
    "rohan.phone_number"
   ]
  },
  {
   "cell_type": "code",
   "execution_count": 27,
   "id": "3a24f76a-7854-463e-816d-b9301aeefed1",
   "metadata": {},
   "outputs": [
    {
     "data": {
      "text/plain": [
       "'rohan@gmail.com'"
      ]
     },
     "execution_count": 27,
     "metadata": {},
     "output_type": "execute_result"
    }
   ],
   "source": [
    "rohan.email_id"
   ]
  },
  {
   "cell_type": "code",
   "execution_count": 28,
   "id": "045f181e-7184-4e11-b15b-ab4a1700ea2d",
   "metadata": {},
   "outputs": [
    {
     "data": {
      "text/plain": [
       "101"
      ]
     },
     "execution_count": 28,
     "metadata": {},
     "output_type": "execute_result"
    }
   ],
   "source": [
    "rohan.student_id"
   ]
  },
  {
   "cell_type": "code",
   "execution_count": 29,
   "id": "994b1323-0643-45ef-bc0c-8f6dd7d3e9a6",
   "metadata": {},
   "outputs": [
    {
     "data": {
      "text/plain": [
       "(95435665, 'rohan@gmail.com', 101)"
      ]
     },
     "execution_count": 29,
     "metadata": {},
     "output_type": "execute_result"
    }
   ],
   "source": [
    "rohan.return_student_detials()"
   ]
  },
  {
   "cell_type": "code",
   "execution_count": 33,
   "id": "30daf6bd-4b27-4c61-a38d-6f1e22be94fe",
   "metadata": {},
   "outputs": [],
   "source": [
    "class pwskills2:\n",
    "    \n",
    "    def __init__(sudh ,phone_number , email_id, student_id ):\n",
    "        \n",
    "        sudh.phone_number = phone_number\n",
    "        sudh.email_id = email_id\n",
    "        sudh.student_id = student_id\n",
    "        \n",
    "    \n",
    "    def return_student_detials(sudh):\n",
    "        return sudh.phone_number, sudh.email_id , sudh.student_id"
   ]
  },
  {
   "cell_type": "code",
   "execution_count": 34,
   "id": "864b9c7a-dbf7-48ee-be6b-1c488fd3753c",
   "metadata": {},
   "outputs": [],
   "source": [
    "mohan = pwskills2(99699579567, \"mohan@gmail.com\" , 234)"
   ]
  },
  {
   "cell_type": "code",
   "execution_count": 35,
   "id": "748125ab-8f28-4e68-b6b7-2ba5b0a61db3",
   "metadata": {},
   "outputs": [
    {
     "data": {
      "text/plain": [
       "99699579567"
      ]
     },
     "execution_count": 35,
     "metadata": {},
     "output_type": "execute_result"
    }
   ],
   "source": [
    "mohan.phone_number"
   ]
  },
  {
   "cell_type": "code",
   "execution_count": 36,
   "id": "ccebf48d-cc13-492a-bcdc-f145a938dc27",
   "metadata": {},
   "outputs": [
    {
     "data": {
      "text/plain": [
       "(99699579567, 'mohan@gmail.com', 234)"
      ]
     },
     "execution_count": 36,
     "metadata": {},
     "output_type": "execute_result"
    }
   ],
   "source": [
    "mohan.return_student_detials()"
   ]
  },
  {
   "cell_type": "code",
   "execution_count": 45,
   "id": "54e3f14b-fd9b-4257-bc6c-c496d3be0ce3",
   "metadata": {},
   "outputs": [],
   "source": [
    "class pwskills3:\n",
    "    \n",
    "    def __init__(sudh ,phone_number , email_id, student_id ):\n",
    "        \n",
    "        sudh.phone_number1 = phone_number\n",
    "        sudh.email_id = email_id\n",
    "        sudh.student_id = student_id\n",
    "        \n",
    "    \n",
    "    def return_student_detials(sudh):\n",
    "        return sudh.phone_number1, sudh.email_id , sudh.student_id"
   ]
  },
  {
   "cell_type": "code",
   "execution_count": 46,
   "id": "57755fd7-f0c6-492d-9b04-4ead901ca7d5",
   "metadata": {},
   "outputs": [],
   "source": [
    "rohan = pwskills3(999735,\"rohan@gmail.com\" , 123)"
   ]
  },
  {
   "cell_type": "code",
   "execution_count": 47,
   "id": "891262b7-bf86-4ac7-aa89-a97c5b802d63",
   "metadata": {},
   "outputs": [
    {
     "data": {
      "text/plain": [
       "999735"
      ]
     },
     "execution_count": 47,
     "metadata": {},
     "output_type": "execute_result"
    }
   ],
   "source": [
    "rohan.phone_number1"
   ]
  },
  {
   "cell_type": "code",
   "execution_count": 48,
   "id": "9591bc00-e840-4500-abd7-14ba31140bb5",
   "metadata": {},
   "outputs": [
    {
     "data": {
      "text/plain": [
       "(999735, 'rohan@gmail.com', 123)"
      ]
     },
     "execution_count": 48,
     "metadata": {},
     "output_type": "execute_result"
    }
   ],
   "source": [
    "rohan.return_student_detials()"
   ]
  },
  {
   "cell_type": "code",
   "execution_count": null,
   "id": "475b6927-9584-442a-8860-379392477ea1",
   "metadata": {},
   "outputs": [],
   "source": []
  }
 ],
 "metadata": {
  "kernelspec": {
   "display_name": "Python 3 (ipykernel)",
   "language": "python",
   "name": "python3"
  },
  "language_info": {
   "codemirror_mode": {
    "name": "ipython",
    "version": 3
   },
   "file_extension": ".py",
   "mimetype": "text/x-python",
   "name": "python",
   "nbconvert_exporter": "python",
   "pygments_lexer": "ipython3",
   "version": "3.10.8"
  }
 },
 "nbformat": 4,
 "nbformat_minor": 5
}
