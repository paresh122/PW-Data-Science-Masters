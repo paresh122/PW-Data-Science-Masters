{
 "cells": [
  {
   "cell_type": "markdown",
   "id": "64a10c56-8c07-4e02-aa7d-ed14fb90336d",
   "metadata": {},
   "source": [
    "## Measure Of Central Tendency "
   ]
  },
  {
   "cell_type": "code",
   "execution_count": 1,
   "id": "f136bf0c-845c-4797-b3aa-2bdf57b6e57a",
   "metadata": {},
   "outputs": [],
   "source": [
    "## Mean (Average)\n",
    "age=[12,13,14,21,24]"
   ]
  },
  {
   "cell_type": "code",
   "execution_count": 2,
   "id": "34bc5fcb-6407-4799-8e82-c5eb92bc2c2d",
   "metadata": {},
   "outputs": [
    {
     "data": {
      "text/plain": [
       "16.8"
      ]
     },
     "execution_count": 2,
     "metadata": {},
     "output_type": "execute_result"
    }
   ],
   "source": [
    "(12+13+14+21+24)/5"
   ]
  },
  {
   "cell_type": "code",
   "execution_count": 3,
   "id": "507bc408-7dc6-4090-9f35-9887c4abae46",
   "metadata": {},
   "outputs": [
    {
     "data": {
      "text/plain": [
       "16.8"
      ]
     },
     "execution_count": 3,
     "metadata": {},
     "output_type": "execute_result"
    }
   ],
   "source": [
    "import numpy as np\n",
    "np.mean(age)"
   ]
  },
  {
   "cell_type": "code",
   "execution_count": 4,
   "id": "018445da-5f4f-4cf5-b5f5-d64a787df92f",
   "metadata": {},
   "outputs": [],
   "source": [
    "weights=[45,34,55,76,45,35,89,98,75]"
   ]
  },
  {
   "cell_type": "code",
   "execution_count": 5,
   "id": "37a8c294-30bb-4024-8c5a-ee466dd07c23",
   "metadata": {},
   "outputs": [
    {
     "data": {
      "text/plain": [
       "61.333333333333336"
      ]
     },
     "execution_count": 5,
     "metadata": {},
     "output_type": "execute_result"
    }
   ],
   "source": [
    "np.mean(weights)"
   ]
  },
  {
   "cell_type": "code",
   "execution_count": 6,
   "id": "d5a3254f-ad19-4c32-aaef-a9b5f9dcf7dc",
   "metadata": {},
   "outputs": [],
   "source": [
    "weights=[45,34,55,76,45,35,89,98,75,1000]"
   ]
  },
  {
   "cell_type": "code",
   "execution_count": 7,
   "id": "786c635c-2f37-44ea-9496-3efe22d159b8",
   "metadata": {},
   "outputs": [
    {
     "data": {
      "text/plain": [
       "155.2"
      ]
     },
     "execution_count": 7,
     "metadata": {},
     "output_type": "execute_result"
    }
   ],
   "source": [
    "np.mean(weights)"
   ]
  },
  {
   "cell_type": "code",
   "execution_count": 8,
   "id": "13b10268-491d-4e2a-a4cb-b8c588ae9ece",
   "metadata": {},
   "outputs": [],
   "source": [
    "## Median"
   ]
  },
  {
   "cell_type": "code",
   "execution_count": 9,
   "id": "efcec086-914c-458f-878a-37426c41c650",
   "metadata": {},
   "outputs": [
    {
     "data": {
      "text/plain": [
       "65.0"
      ]
     },
     "execution_count": 9,
     "metadata": {},
     "output_type": "execute_result"
    }
   ],
   "source": [
    "np.median(weights)"
   ]
  },
  {
   "cell_type": "code",
   "execution_count": 10,
   "id": "cfa9e59f-fb81-4b14-b769-f467d1e183d7",
   "metadata": {},
   "outputs": [],
   "source": [
    "## mode"
   ]
  },
  {
   "cell_type": "code",
   "execution_count": 11,
   "id": "5611411c-6e38-48ed-8799-05c9777197ca",
   "metadata": {},
   "outputs": [],
   "source": [
    "from scipy import stats"
   ]
  },
  {
   "cell_type": "code",
   "execution_count": 12,
   "id": "6327a799-b3dc-4044-a897-a4d7b89e59b8",
   "metadata": {},
   "outputs": [
    {
     "name": "stderr",
     "output_type": "stream",
     "text": [
      "/tmp/ipykernel_128/4197893964.py:1: FutureWarning: Unlike other reduction functions (e.g. `skew`, `kurtosis`), the default behavior of `mode` typically preserves the axis it acts along. In SciPy 1.11.0, this behavior will change: the default value of `keepdims` will become False, the `axis` over which the statistic is taken will be eliminated, and the value None will no longer be accepted. Set `keepdims` to True or False to avoid this warning.\n",
      "  stats.mode(weights)\n"
     ]
    },
    {
     "data": {
      "text/plain": [
       "ModeResult(mode=array([45]), count=array([2]))"
      ]
     },
     "execution_count": 12,
     "metadata": {},
     "output_type": "execute_result"
    }
   ],
   "source": [
    "stats.mode(weights)"
   ]
  },
  {
   "cell_type": "code",
   "execution_count": null,
   "id": "2fb136ce-b2a0-45fc-aa6f-9d729546a4a6",
   "metadata": {},
   "outputs": [],
   "source": []
  }
 ],
 "metadata": {
  "kernelspec": {
   "display_name": "Python 3 (ipykernel)",
   "language": "python",
   "name": "python3"
  },
  "language_info": {
   "codemirror_mode": {
    "name": "ipython",
    "version": 3
   },
   "file_extension": ".py",
   "mimetype": "text/x-python",
   "name": "python",
   "nbconvert_exporter": "python",
   "pygments_lexer": "ipython3",
   "version": "3.10.8"
  }
 },
 "nbformat": 4,
 "nbformat_minor": 5
}
