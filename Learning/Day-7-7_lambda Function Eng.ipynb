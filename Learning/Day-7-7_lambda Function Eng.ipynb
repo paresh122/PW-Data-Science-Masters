{
 "cells": [
  {
   "cell_type": "code",
   "execution_count": 1,
   "id": "3286809f-37f5-41b5-98e5-f7ec53e91e24",
   "metadata": {},
   "outputs": [],
   "source": [
    "n = 3 \n",
    "p = 2"
   ]
  },
  {
   "cell_type": "code",
   "execution_count": 2,
   "id": "294dc779-49ee-4852-93df-5e0ef1cb4f8c",
   "metadata": {},
   "outputs": [],
   "source": [
    "def test(n,p):\n",
    "    return n**p"
   ]
  },
  {
   "cell_type": "code",
   "execution_count": 3,
   "id": "26fc4c90-2fcf-4d72-996f-f8ca7c3dca6b",
   "metadata": {},
   "outputs": [
    {
     "data": {
      "text/plain": [
       "9"
      ]
     },
     "execution_count": 3,
     "metadata": {},
     "output_type": "execute_result"
    }
   ],
   "source": [
    "test(3,2)"
   ]
  },
  {
   "cell_type": "code",
   "execution_count": 4,
   "id": "6c04dd5a-dc3d-4b2d-96a3-a9bb36c96e90",
   "metadata": {},
   "outputs": [
    {
     "data": {
      "text/plain": [
       "6561"
      ]
     },
     "execution_count": 4,
     "metadata": {},
     "output_type": "execute_result"
    }
   ],
   "source": [
    "test(9,4)"
   ]
  },
  {
   "cell_type": "code",
   "execution_count": 6,
   "id": "10d6fe59-d00b-4ef9-abcd-17c989367f00",
   "metadata": {},
   "outputs": [],
   "source": [
    "a = lambda n,p : n**p"
   ]
  },
  {
   "cell_type": "code",
   "execution_count": 7,
   "id": "6ef4fd8f-ad84-4aa9-981d-c8ba56fff5eb",
   "metadata": {},
   "outputs": [
    {
     "data": {
      "text/plain": [
       "9"
      ]
     },
     "execution_count": 7,
     "metadata": {},
     "output_type": "execute_result"
    }
   ],
   "source": [
    "a(3,2)"
   ]
  },
  {
   "cell_type": "code",
   "execution_count": 8,
   "id": "c11c59b8-df0e-48ad-8641-77b22eba1e71",
   "metadata": {},
   "outputs": [
    {
     "data": {
      "text/plain": [
       "6561"
      ]
     },
     "execution_count": 8,
     "metadata": {},
     "output_type": "execute_result"
    }
   ],
   "source": [
    "a(9,4)"
   ]
  },
  {
   "cell_type": "code",
   "execution_count": 9,
   "id": "d2884988-b8fa-4623-8104-ef453ed77bb7",
   "metadata": {},
   "outputs": [],
   "source": [
    "add = lambda x,y : x+y"
   ]
  },
  {
   "cell_type": "code",
   "execution_count": 10,
   "id": "2627c9f8-2788-4845-b498-9e50f78cdfa2",
   "metadata": {},
   "outputs": [
    {
     "data": {
      "text/plain": [
       "268"
      ]
     },
     "execution_count": 10,
     "metadata": {},
     "output_type": "execute_result"
    }
   ],
   "source": [
    "add(234,34)"
   ]
  },
  {
   "cell_type": "code",
   "execution_count": 11,
   "id": "52a5114e-85de-42a9-9e18-481a6ae83562",
   "metadata": {},
   "outputs": [],
   "source": [
    "c_to_f = lambda c : (9/5)*c+32"
   ]
  },
  {
   "cell_type": "code",
   "execution_count": 12,
   "id": "c6fca98f-2fc5-4d36-971e-3c8351e54542",
   "metadata": {},
   "outputs": [
    {
     "data": {
      "text/plain": [
       "93.2"
      ]
     },
     "execution_count": 12,
     "metadata": {},
     "output_type": "execute_result"
    }
   ],
   "source": [
    "c_to_f(34)"
   ]
  },
  {
   "cell_type": "code",
   "execution_count": 13,
   "id": "34909804-4994-4156-af97-cc0a119e415c",
   "metadata": {},
   "outputs": [],
   "source": [
    "max_two = lambda x,y : x if x> y else y"
   ]
  },
  {
   "cell_type": "code",
   "execution_count": 14,
   "id": "225d4d12-cbfc-4089-9e2a-ac5215102234",
   "metadata": {},
   "outputs": [
    {
     "data": {
      "text/plain": [
       "56"
      ]
     },
     "execution_count": 14,
     "metadata": {},
     "output_type": "execute_result"
    }
   ],
   "source": [
    "max_two(4,56)"
   ]
  },
  {
   "cell_type": "code",
   "execution_count": 15,
   "id": "feafa8c9-4458-4306-9d3c-b50fde75601c",
   "metadata": {},
   "outputs": [],
   "source": [
    "s = \"pwskills\""
   ]
  },
  {
   "cell_type": "code",
   "execution_count": 16,
   "id": "35f5e50e-a521-4eab-9b13-a31f57dcd339",
   "metadata": {},
   "outputs": [],
   "source": [
    "len_st = lambda s : len(s)"
   ]
  },
  {
   "cell_type": "code",
   "execution_count": 17,
   "id": "0c3daf87-f9fe-45c2-8c0a-523a7425b6c1",
   "metadata": {},
   "outputs": [
    {
     "data": {
      "text/plain": [
       "8"
      ]
     },
     "execution_count": 17,
     "metadata": {},
     "output_type": "execute_result"
    }
   ],
   "source": [
    "len_st(s)"
   ]
  },
  {
   "cell_type": "code",
   "execution_count": null,
   "id": "35673773-ff49-456e-9adb-62b0c88c22bd",
   "metadata": {},
   "outputs": [],
   "source": []
  }
 ],
 "metadata": {
  "kernelspec": {
   "display_name": "Python 3 (ipykernel)",
   "language": "python",
   "name": "python3"
  },
  "language_info": {
   "codemirror_mode": {
    "name": "ipython",
    "version": 3
   },
   "file_extension": ".py",
   "mimetype": "text/x-python",
   "name": "python",
   "nbconvert_exporter": "python",
   "pygments_lexer": "ipython3",
   "version": "3.10.8"
  }
 },
 "nbformat": 4,
 "nbformat_minor": 5
}
