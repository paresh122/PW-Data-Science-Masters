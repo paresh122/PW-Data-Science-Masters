{
 "cells": [
  {
   "attachments": {},
   "cell_type": "markdown",
   "metadata": {},
   "source": [
    "<a id=\"0\"></a>\n",
    "\n",
    "# <p style=\"padding:10px;background-color:#87CEEB ;margin:10;color:#000000;font-family:newtimeroman;font-size:100%;text-align:center;border-radius: 10px 10px ;overflow:hidden;font-weight:50\">Assignment  31: Statistics Basic 2 - Paresh Patil</p>"
   ]
  },
  {
   "attachments": {},
   "cell_type": "markdown",
   "metadata": {},
   "source": [
    "<a id=\"1\"></a>\n",
    "\n",
    "# <p style=\"padding:10px;background-color:#87CEEB ;margin:10;color:#000000;font-family:newtimeroman;font-size:100%;text-align:center;border-radius: 10px 10px ;overflow:hidden;font-weight:50\">Question 1</p>"
   ]
  },
  {
   "attachments": {},
   "cell_type": "markdown",
   "metadata": {},
   "source": [
    "## Question 1 : What are the three measures of central tendency?\n",
    "---"
   ]
  },
  {
   "attachments": {},
   "cell_type": "markdown",
   "metadata": {},
   "source": [
    "## Answer :"
   ]
  },
  {
   "attachments": {},
   "cell_type": "markdown",
   "metadata": {},
   "source": [
    "### The three measures of central tendency are:\n",
    "\n",
    "1. Mean: The mean is the sum of all values in a dataset divided by the total number of values. It represents the average value of a dataset.\n",
    "\n",
    "2. Median: The median is the middle value of a dataset when the values are arranged in ascending order. If there are an even number of values, the median is the average of the two middle values.\n",
    "\n",
    "3. Mode: The mode is the value that occurs most frequently in a dataset. If there are multiple values with the same highest frequency, the dataset is said to have multiple modes."
   ]
  },
  {
   "attachments": {},
   "cell_type": "markdown",
   "metadata": {},
   "source": [
    "<a id=\"1\"></a>\n",
    "\n",
    "# <p style=\"padding:10px;background-color:#87CEEB ;margin:10;color:#000000;font-family:newtimeroman;font-size:100%;text-align:center;border-radius: 10px 10px ;overflow:hidden;font-weight:50\">Question 2</p>"
   ]
  },
  {
   "attachments": {},
   "cell_type": "markdown",
   "metadata": {},
   "source": [
    "## Question 2 : What is the difference between the mean, median, and mode? How are they used to measure the central tendency of a dataset?\n",
    "---"
   ]
  },
  {
   "attachments": {},
   "cell_type": "markdown",
   "metadata": {},
   "source": [
    "## Answer :"
   ]
  },
  {
   "attachments": {},
   "cell_type": "markdown",
   "metadata": {},
   "source": [
    "### Below is Comparison between mean, median, mode along with their use :\n",
    "\n",
    "| Measure of Central Tendency | Calculation | Sensitivity to Extreme Values | Usefulness | How they are used to measure central tendency |\n",
    "| --- | --- | --- | --- | --- |\n",
    "| Mean | Sum of all values / Total number of values | Sensitive | When the data is normally distributed or symmetrical | It represents the arithmetic average of the dataset |\n",
    "| Median | Middle value when data is ordered from lowest to highest or highest to lowest | Robust | When the data has extreme values or is skewed | It represents the value that splits the dataset in half |\n",
    "| Mode | Value that occurs most frequently in a dataset | Insensitive | When we want to know which value occurs most frequently in the data | It represents the most common value in the dataset |\n"
   ]
  },
  {
   "attachments": {},
   "cell_type": "markdown",
   "metadata": {},
   "source": [
    "<a id=\"3\"></a>\n",
    "\n",
    "# <p style=\"padding:10px;background-color:#87CEEB ;margin:10;color:#000000;font-family:newtimeroman;font-size:100%;text-align:center;border-radius: 10px 10px ;overflow:hidden;font-weight:50\">Question 3</p>"
   ]
  },
  {
   "attachments": {},
   "cell_type": "markdown",
   "metadata": {},
   "source": [
    "## Question 3 : Measure the three measures of central tendency for the given height data : \n",
    "[178,177,176,177,178.2,178,175,179,180,175,178.9,176.2,177,172.5,178,176.5]\n",
    "\n",
    "---"
   ]
  },
  {
   "attachments": {},
   "cell_type": "markdown",
   "metadata": {},
   "source": [
    "## Answer :"
   ]
  },
  {
   "cell_type": "code",
   "execution_count": 1,
   "metadata": {},
   "outputs": [],
   "source": [
    "heights = [178,177,176,177,178.2,178,175,179,180,175,178.9,176.2,177,172.5,178,176.5]"
   ]
  },
  {
   "attachments": {},
   "cell_type": "markdown",
   "metadata": {},
   "source": [
    "### 1. Mean "
   ]
  },
  {
   "cell_type": "code",
   "execution_count": 2,
   "metadata": {},
   "outputs": [
    {
     "name": "stdout",
     "output_type": "stream",
     "text": [
      "Mean for given height data is 177.01875\n"
     ]
    }
   ],
   "source": [
    "import numpy as np\n",
    "heights_mean = np.mean(heights)\n",
    "print(f'Mean for given height data is {heights_mean}')"
   ]
  },
  {
   "attachments": {},
   "cell_type": "markdown",
   "metadata": {},
   "source": [
    "### 2. Median"
   ]
  },
  {
   "cell_type": "code",
   "execution_count": 3,
   "metadata": {},
   "outputs": [
    {
     "name": "stdout",
     "output_type": "stream",
     "text": [
      "Median for given height data is 177.0\n"
     ]
    }
   ],
   "source": [
    "heights_median = np.median(heights)\n",
    "print(f'Median for given height data is {heights_median}')"
   ]
  },
  {
   "attachments": {},
   "cell_type": "markdown",
   "metadata": {},
   "source": [
    "### 3. Mode "
   ]
  },
  {
   "cell_type": "code",
   "execution_count": 5,
   "metadata": {},
   "outputs": [
    {
     "name": "stdout",
     "output_type": "stream",
     "text": [
      "Mode for given height data is ModeResult(mode=177.0, count=3)\n"
     ]
    }
   ],
   "source": [
    "from scipy.stats import mode\n",
    "heights_mode = mode(heights,keepdims=False)\n",
    "print(f'Mode for given height data is {heights_mode}')"
   ]
  },
  {
   "attachments": {},
   "cell_type": "markdown",
   "metadata": {},
   "source": [
    "<a id=\"4\"></a>\n",
    "\n",
    "# <p style=\"padding:10px;background-color:#87CEEB ;margin:10;color:#000000;font-family:newtimeroman;font-size:100%;text-align:center;border-radius: 10px 10px ;overflow:hidden;font-weight:50\">Question 4</p>"
   ]
  },
  {
   "attachments": {},
   "cell_type": "markdown",
   "metadata": {},
   "source": [
    "## Question 4 : Find the standard deviation for the given data\n",
    "[178,177,176,177,178.2,178,175,179,180,175,178.9,176.2,177,172.5,178,176.5]\n",
    "\n",
    "---"
   ]
  },
  {
   "attachments": {},
   "cell_type": "markdown",
   "metadata": {},
   "source": [
    "## Answer :"
   ]
  },
  {
   "cell_type": "code",
   "execution_count": 10,
   "metadata": {},
   "outputs": [
    {
     "name": "stdout",
     "output_type": "stream",
     "text": [
      "Standard Deviation for give data is 1.7886\n"
     ]
    }
   ],
   "source": [
    "import numpy as np\n",
    "data = [178,177,176,177,178.2,178,175,179,180,175,178.9,176.2,177,172.5,178,176.5]\n",
    "data_std = np.std(data)\n",
    "print(f'Standard Deviation for give data is {round(data_std,4)}')"
   ]
  },
  {
   "attachments": {},
   "cell_type": "markdown",
   "metadata": {},
   "source": [
    "<a id=\"5\"></a>\n",
    "\n",
    "# <p style=\"padding:10px;background-color:#87CEEB ;margin:10;color:#000000;font-family:newtimeroman;font-size:100%;text-align:center;border-radius: 10px 10px ;overflow:hidden;font-weight:50\">Question 5</p>"
   ]
  },
  {
   "attachments": {},
   "cell_type": "markdown",
   "metadata": {},
   "source": [
    "## Question 5 : How are measures of dispersion such as range, variance, and standard deviation used to describe the spread of a dataset? Provide an example\n",
    "---"
   ]
  },
  {
   "attachments": {},
   "cell_type": "markdown",
   "metadata": {},
   "source": [
    "## Answer :"
   ]
  },
  {
   "attachments": {},
   "cell_type": "markdown",
   "metadata": {},
   "source": [
    "### Measures of dispersion, such as range, variance, and standard deviation, are used to describe how spread out the data in a dataset is. Here's how each measure is used:\n",
    "\n",
    "1. Range: The range is the difference between the maximum and minimum values in a dataset. It gives an idea of how much the values in the dataset vary from one another. A wider range indicates a more spread-out dataset, while a smaller range indicates a more tightly clustered dataset. For example, consider the following set of data: 10, 20, 30, 40, 50. The range is 50 - 10 = 40, which means the data spans a range of 40 units.\n",
    "~~~\n",
    "data = [10,20,30,40,50]\n",
    "range = max(data)-min(data)\n",
    "      = 50 - 10\n",
    "      = 40\n",
    "~~~\n",
    "\n",
    "2. Variance: Variance is a measure of how much the values in a dataset deviate from the mean. It is calculated by taking the sum of the squared differences between each value and the mean, divided by the total number of values. A higher variance indicates that the data is more spread out, while a lower variance indicates that the data is more tightly clustered around the mean. For example, consider the following set of data: 10, 20, 30, 40, 50. The mean is 30. The variance is calculated as follows:\n",
    "~~~\n",
    "variance = [(10 - 30)^2 + (20 - 30)^2 + (30 - 30)^2 + (40 - 30)^2 + (50 - 30)^2] / 5\n",
    "         = 200 / 5\n",
    "         = 40\n",
    "~~~\n",
    "\n",
    "3. Standard deviation: The standard deviation is the square root of the variance and is expressed in the same units as the data. It is a more intuitive measure of dispersion because it is in the same units as the data. A higher standard deviation indicates that the data is more spread out, while a lower standard deviation indicates that the data is more tightly clustered around the mean. For example, using the same set of data as above, the standard deviation is calculated as follows:\n",
    "~~~\n",
    "standard deviation = sqrt(variance)\n",
    "                   = sqrt(40)\n",
    "                   = 6.32 (approx.)\n",
    "~~~"
   ]
  },
  {
   "attachments": {},
   "cell_type": "markdown",
   "metadata": {},
   "source": [
    "| Measure of Dispersion | Calculation | Usefulness |\n",
    "| --- | --- | --- |\n",
    "| Range | Maximum value - Minimum value | Provides an idea of the spread of the dataset |\n",
    "| Variance | $\\frac{\\sum_{i=1}^{n}(x_i - \\bar{x})^2}{n-1}$ | Measures the degree of spread of the data |\n",
    "| Standard Deviation | $\\sqrt{\\frac{\\sum_{i=1}^{n}(x_i - \\bar{x})^2}{n-1}}$ | An intuitive measure of dispersion in the same units as the data |"
   ]
  },
  {
   "attachments": {},
   "cell_type": "markdown",
   "metadata": {},
   "source": [
    "<a id=\"6\"></a>\n",
    "\n",
    "# <p style=\"padding:10px;background-color:#87CEEB ;margin:10;color:#000000;font-family:newtimeroman;font-size:100%;text-align:center;border-radius: 10px 10px ;overflow:hidden;font-weight:50\">Question 6</p>"
   ]
  },
  {
   "attachments": {},
   "cell_type": "markdown",
   "metadata": {},
   "source": [
    "## Question 6 : What is a Venn diagram?\n",
    "---"
   ]
  },
  {
   "attachments": {},
   "cell_type": "markdown",
   "metadata": {},
   "source": [
    "## Answer :"
   ]
  },
  {
   "attachments": {},
   "cell_type": "markdown",
   "metadata": {},
   "source": [
    "### A Venn diagram is a graphical representation of sets or groups, which shows all possible logical relations between them. The diagram consists of overlapping circles or other shapes, with each circle representing a set, and the overlapping regions representing the intersection of the sets. The purpose of a Venn diagram is to visually demonstrate how different sets or groups relate to one another and how they overlap or differ.\n",
    "\n",
    "### Venn diagrams are commonly used in mathematics, statistics, logic, and computer science to illustrate concepts such as set theory, probability, and logic operations. They can also be used in other fields to illustrate relationships between different categories or concepts."
   ]
  },
  {
   "attachments": {},
   "cell_type": "markdown",
   "metadata": {},
   "source": [
    "![Example of Venn Diagram](https://amastyleinsider.com/wp-content/uploads/2021/07/Connieblogfig1-1.png)"
   ]
  },
  {
   "attachments": {},
   "cell_type": "markdown",
   "metadata": {},
   "source": [
    "<a id=\"7\"></a>\n",
    "\n",
    "# <p style=\"padding:10px;background-color:#87CEEB ;margin:10;color:#000000;font-family:newtimeroman;font-size:100%;text-align:center;border-radius: 10px 10px ;overflow:hidden;font-weight:50\">Question 7</p>"
   ]
  },
  {
   "attachments": {},
   "cell_type": "markdown",
   "metadata": {},
   "source": [
    "## Question 7 : For the two given sets A = (2,3,4,5,6,7) & B = (0,2,6,8,10). Find\n",
    "\n",
    "1. $A \\cup B$\n",
    "2. $A \\cap B$\n",
    "---"
   ]
  },
  {
   "attachments": {},
   "cell_type": "markdown",
   "metadata": {},
   "source": [
    "## Answer :"
   ]
  },
  {
   "cell_type": "code",
   "execution_count": 11,
   "metadata": {},
   "outputs": [],
   "source": [
    "A = {2,3,4,5,6,7}\n",
    "B = {0,2,6,8,10}"
   ]
  },
  {
   "attachments": {},
   "cell_type": "markdown",
   "metadata": {},
   "source": [
    "### 1. Union $A \\cup B$"
   ]
  },
  {
   "cell_type": "code",
   "execution_count": 12,
   "metadata": {},
   "outputs": [
    {
     "data": {
      "text/plain": [
       "{0, 2, 3, 4, 5, 6, 7, 8, 10}"
      ]
     },
     "execution_count": 12,
     "metadata": {},
     "output_type": "execute_result"
    }
   ],
   "source": [
    "A.union(B)"
   ]
  },
  {
   "attachments": {},
   "cell_type": "markdown",
   "metadata": {},
   "source": [
    "### 2. Intersection $A \\cap B$"
   ]
  },
  {
   "cell_type": "code",
   "execution_count": 13,
   "metadata": {},
   "outputs": [
    {
     "data": {
      "text/plain": [
       "{2, 6}"
      ]
     },
     "execution_count": 13,
     "metadata": {},
     "output_type": "execute_result"
    }
   ],
   "source": [
    "A.intersection(B)"
   ]
  },
  {
   "attachments": {},
   "cell_type": "markdown",
   "metadata": {},
   "source": [
    "<a id=\"8\"></a>\n",
    "\n",
    "# <p style=\"padding:10px;background-color:#87CEEB ;margin:10;color:#000000;font-family:newtimeroman;font-size:100%;text-align:center;border-radius: 10px 10px ;overflow:hidden;font-weight:50\">Question 8</p>"
   ]
  },
  {
   "attachments": {},
   "cell_type": "markdown",
   "metadata": {},
   "source": [
    "## Question 8 : What do you understand about skewness in data\n",
    "---"
   ]
  },
  {
   "attachments": {},
   "cell_type": "markdown",
   "metadata": {},
   "source": [
    "## Answer :"
   ]
  },
  {
   "attachments": {},
   "cell_type": "markdown",
   "metadata": {},
   "source": [
    "### Skewness of data is a measure of the asymmetry of a probability distribution or dataset. It describes the extent to which a dataset is skewed or \"lopsided\" relative to a normal distribution. A distribution is said to be skewed if one of its tails is longer or heavier than the other, causing it to deviate from a perfectly symmetrical shape.\n",
    "\n",
    "### Positive skewness occurs when the tail on the right side of the distribution is longer or heavier than the tail on the left side. This indicates that the dataset has more high values and fewer low values. \n",
    "\n",
    "### Negative skewness occurs when the tail on the left side of the distribution is longer or heavier than the tail on the right side. This indicates that the dataset has more low values and fewer high values.\n",
    "\n",
    "### Skewness can be measured using the skewness statistic. A skewness value of zero indicates that the dataset is perfectly symmetrical, while a positive or negative value indicates that the dataset is skewed in the corresponding direction. Skewness can be an important consideration when interpreting data, as it can affect the accuracy of statistical tests and the validity of certain assumptions about the data."
   ]
  },
  {
   "attachments": {},
   "cell_type": "markdown",
   "metadata": {},
   "source": [
    "![Skewness](https://www.managedfuturesinvesting.com/images/default-source/default-album/measure-of-skewness.jpg?sfvrsn=0)"
   ]
  },
  {
   "attachments": {},
   "cell_type": "markdown",
   "metadata": {},
   "source": [
    "### $\\text{Skewness} = \\frac{\\frac{1}{n} \\sum_{i=1}^{n}(x_i - \\bar{x})^3}{\\left(\\frac{1}{n} \\sum_{i=1}^{n}(x_i - \\bar{x})^2\\right)^{3/2}}$"
   ]
  },
  {
   "attachments": {},
   "cell_type": "markdown",
   "metadata": {},
   "source": [
    "<a id=\"9\"></a>\n",
    "\n",
    "# <p style=\"padding:10px;background-color:#87CEEB ;margin:10;color:#000000;font-family:newtimeroman;font-size:100%;text-align:center;border-radius: 10px 10px ;overflow:hidden;font-weight:50\">Question 9</p>"
   ]
  },
  {
   "attachments": {},
   "cell_type": "markdown",
   "metadata": {},
   "source": [
    "## Question 9 : If a data is right skewed then what will be the position of median with respect to mean?\n",
    "---"
   ]
  },
  {
   "attachments": {},
   "cell_type": "markdown",
   "metadata": {},
   "source": [
    "## Answer :"
   ]
  },
  {
   "attachments": {},
   "cell_type": "markdown",
   "metadata": {},
   "source": [
    "### If a data is right skewed, then the median will be less than the mean. \n",
    "\n",
    "### In a right-skewed distribution, the tail of the distribution is longer on the right side, and this elongation pulls the mean to the right of the median. \n",
    "\n",
    "### Therefore, the mean is greater than the median in a right-skewed distribution."
   ]
  },
  {
   "attachments": {},
   "cell_type": "markdown",
   "metadata": {},
   "source": [
    "![Right Distribution](https://i0.wp.com/statisticsbyjim.com/wp-content/uploads/2021/10/Right_skewed_central_tendency.png?w=576&ssl=1)"
   ]
  },
  {
   "attachments": {},
   "cell_type": "markdown",
   "metadata": {},
   "source": [
    "<a id=\"10\"></a>\n",
    "\n",
    "# <p style=\"padding:10px;background-color:#87CEEB ;margin:10;color:#000000;font-family:newtimeroman;font-size:100%;text-align:center;border-radius: 10px 10px ;overflow:hidden;font-weight:50\">Question 10</p>"
   ]
  },
  {
   "attachments": {},
   "cell_type": "markdown",
   "metadata": {},
   "source": [
    "## Question 10 : Explain the difference between covariance and correlation. How are these measures used in statistical analysis?\n",
    "---"
   ]
  },
  {
   "attachments": {},
   "cell_type": "markdown",
   "metadata": {},
   "source": [
    "## Answer : "
   ]
  },
  {
   "attachments": {},
   "cell_type": "markdown",
   "metadata": {},
   "source": [
    "### 1. Covariance : Covariance measures the extent to which two variables vary together. Specifically, it measures the degree to which two variables deviate from their means in similar ways. Mathematically, the covariance between two variables X and Y is calculated as follows:\n",
    "\n",
    "~~~\n",
    "cov(X,Y) = E[(X - E[X])(Y - E[Y])]\n",
    "~~~\n",
    "\n",
    "### The value of the covariance can range from negative infinity to positive infinity. A positive covariance indicates that the two variables tend to move in the same direction, while a negative covariance indicates that the two variables tend to move in opposite directions. A covariance of zero indicates that the two variables are uncorrelated."
   ]
  },
  {
   "attachments": {},
   "cell_type": "markdown",
   "metadata": {},
   "source": [
    "### 2. Correlation : Correlation, on the other hand, is a standardized measure of the linear relationship between two variables. Correlation takes on values between -1 and 1, where a correlation of 1 indicates a perfect positive relationship, a correlation of -1 indicates a perfect negative relationship, and a correlation of 0 indicates no linear relationship.\n",
    "\n",
    "### The correlation coefficient between two variables X and Y is calculated as follows:\n",
    "\n",
    "~~~\n",
    "corr(X,Y) = cov(X,Y) / (SD[X]*SD[Y])\n",
    "~~~\n",
    "\n",
    "### Correlation is a more commonly used measure than covariance, because it is standardized and easier to interpret. Correlation can also be used to compare the strength of the relationship between different pairs of variables on a common scale."
   ]
  },
  {
   "attachments": {},
   "cell_type": "markdown",
   "metadata": {},
   "source": [
    "| Measure | Definition | Range |\n",
    "|---------|------------|-------|\n",
    "| Covariance | $cov(X,Y) = E[(X - E[X])(Y - E[Y])]$ | $(-\\infty, \\infty)$ |\n",
    "| Correlation | $corr(X,Y) = \\frac{cov(X,Y)}{SD[X]SD[Y]}$ | $[-1, 1]$ |"
   ]
  },
  {
   "attachments": {},
   "cell_type": "markdown",
   "metadata": {},
   "source": [
    "<a id=\"11\"></a>\n",
    "\n",
    "# <p style=\"padding:10px;background-color:#87CEEB ;margin:10;color:#000000;font-family:newtimeroman;font-size:100%;text-align:center;border-radius: 10px 10px ;overflow:hidden;font-weight:50\">Question 11</p>"
   ]
  },
  {
   "attachments": {},
   "cell_type": "markdown",
   "metadata": {},
   "source": [
    "## Question 11 : What is the formula for calculating the sample mean? Provide an example calculation for a dataset.\n",
    "---"
   ]
  },
  {
   "attachments": {},
   "cell_type": "markdown",
   "metadata": {},
   "source": [
    "## Answer : "
   ]
  },
  {
   "attachments": {},
   "cell_type": "markdown",
   "metadata": {},
   "source": [
    "### The formula for calculating the sample mean is:\n",
    "\n",
    "~~~\n",
    "x̄ = (x₁ + x₂ + ... + xn) / n\n",
    "~~~\n",
    "\n",
    "### where x₁, x₂, ..., xn are the values in the dataset, and n is the number of values in the sample."
   ]
  },
  {
   "attachments": {},
   "cell_type": "markdown",
   "metadata": {},
   "source": [
    "### Consider below 5 Values were sampled from a larger dataset \n",
    "\n",
    "~~~\n",
    "Sample: 4, 6, 2, 9, 5\n",
    "\n",
    "x̄ = (4 + 6 + 2 + 9 + 5) / 5\n",
    "x̄ = 26 / 5\n",
    "x̄ = 5.2\n",
    "~~~"
   ]
  },
  {
   "attachments": {},
   "cell_type": "markdown",
   "metadata": {},
   "source": [
    "<a id=\"12\"></a>\n",
    "\n",
    "# <p style=\"padding:10px;background-color:#87CEEB ;margin:10;color:#000000;font-family:newtimeroman;font-size:100%;text-align:center;border-radius: 10px 10px ;overflow:hidden;font-weight:50\">Question 12</p>"
   ]
  },
  {
   "attachments": {},
   "cell_type": "markdown",
   "metadata": {},
   "source": [
    "## Question 12 : For a normal distribution data what is the relationship between its measure of central tendency\n",
    "---"
   ]
  },
  {
   "attachments": {},
   "cell_type": "markdown",
   "metadata": {},
   "source": [
    "## Answer :"
   ]
  },
  {
   "attachments": {},
   "cell_type": "markdown",
   "metadata": {},
   "source": [
    "### For a normal distribution, the three measures of central tendency (mean, median, and mode) are all equal. This is because a normal distribution is symmetric around the mean, so the median (which is the middle value when the data is arranged in order) is also the mean. Additionally, the mode (which is the most frequent value in the distribution) is also equal to the mean and median in a normal distribution.\n",
    "\n",
    "### Therefore, in a normal distribution, the mean, median, and mode are all the same value and represent the center of the distribution. This makes the mean a reliable measure of central tendency for normal data."
   ]
  },
  {
   "attachments": {},
   "cell_type": "markdown",
   "metadata": {},
   "source": [
    "![Skewness](https://upload.wikimedia.org/wikipedia/commons/thumb/c/cc/Relationship_between_mean_and_median_under_different_skewness.png/1200px-Relationship_between_mean_and_median_under_different_skewness.png)"
   ]
  },
  {
   "attachments": {},
   "cell_type": "markdown",
   "metadata": {},
   "source": [
    "<a id=\"13\"></a>\n",
    "\n",
    "# <p style=\"padding:10px;background-color:#87CEEB ;margin:10;color:#000000;font-family:newtimeroman;font-size:100%;text-align:center;border-radius: 10px 10px ;overflow:hidden;font-weight:50\">Question 13</p>"
   ]
  },
  {
   "attachments": {},
   "cell_type": "markdown",
   "metadata": {},
   "source": [
    "## Question 13 : How is covariance different from correlation\n",
    "---"
   ]
  },
  {
   "attachments": {},
   "cell_type": "markdown",
   "metadata": {},
   "source": [
    "## Answer :"
   ]
  },
  {
   "attachments": {},
   "cell_type": "markdown",
   "metadata": {},
   "source": [
    "### Difference in Covariance and Correlation is as follows :\n",
    "\n",
    "| Measure | Definition | Range |\n",
    "|---------|------------|-------|\n",
    "| Covariance | Measures the extent to which two variables vary together | $(-\\infty, \\infty)$ |\n",
    "| Correlation | Measures the strength of the linear relationship between two variables on a standardized scale | $[-1, 1]$ |"
   ]
  },
  {
   "attachments": {},
   "cell_type": "markdown",
   "metadata": {},
   "source": [
    "### The main difference between covariance and correlation is that covariance is an unstandardized measure that reflects the direction and magnitude of the relationship between two variables, while correlation is a standardized measure that reflects only the strength and direction of the linear relationship between two variables."
   ]
  },
  {
   "attachments": {},
   "cell_type": "markdown",
   "metadata": {},
   "source": [
    "<a id=\"14\"></a>\n",
    "\n",
    "# <p style=\"padding:10px;background-color:#87CEEB ;margin:10;color:#000000;font-family:newtimeroman;font-size:100%;text-align:center;border-radius: 10px 10px ;overflow:hidden;font-weight:50\">Question 14</p>"
   ]
  },
  {
   "attachments": {},
   "cell_type": "markdown",
   "metadata": {},
   "source": [
    "## Question 14 : How do outliers affect measures of central tendency and dispersion? Provide an example\n",
    "---"
   ]
  },
  {
   "attachments": {},
   "cell_type": "markdown",
   "metadata": {},
   "source": [
    "## Answer :"
   ]
  },
  {
   "attachments": {},
   "cell_type": "markdown",
   "metadata": {},
   "source": [
    "### Outliers can have a significant impact on measures of central tendency and dispersion, particularly the mean and standard deviation.\n",
    "\n",
    "### In terms of central tendency, outliers can pull the mean away from the center of the data, making it a less representative measure of the typical value in the dataset. The effect of outliers on the median, however, is less pronounced, as the median is less affected by extreme values.\n",
    "\n",
    "### In terms of dispersion, outliers can also have a significant impact on the standard deviation, which is a measure of the spread of the data around the mean. Because the standard deviation is influenced by the distance between each value and the mean, outliers that are far from the center of the data can cause the standard deviation to be larger than it would be without the outlier.\n",
    "\n",
    "### Consider below example using heights dataset from Question 3 :"
   ]
  },
  {
   "cell_type": "code",
   "execution_count": 14,
   "metadata": {},
   "outputs": [],
   "source": [
    "heights = [178,177,176,177,178.2,178,175,179,180,175,178.9,176.2,177,172.5,178,176.5]"
   ]
  },
  {
   "cell_type": "code",
   "execution_count": 17,
   "metadata": {},
   "outputs": [],
   "source": [
    "## Creating a function to calculate and return mean , median and mode for given list\n",
    "import numpy as np\n",
    "from scipy.stats import mode\n",
    "def central_tendency(l:list):\n",
    "    avg = np.mean(l)\n",
    "    mdn = np.median(l)\n",
    "    md = mode(l,keepdims=False)\n",
    "    return avg , mdn, md"
   ]
  },
  {
   "cell_type": "code",
   "execution_count": 26,
   "metadata": {},
   "outputs": [
    {
     "name": "stdout",
     "output_type": "stream",
     "text": [
      "Mean of heights WITHOUT outlier is   : 177.01875\n",
      "Median of heights WITHOUT outlier is : 177.0\n",
      "Mode of heights WITHOUT outlier is   : ModeResult(mode=177.0, count=3)\n"
     ]
    }
   ],
   "source": [
    "# Central Tendency\n",
    "avg1, mdn1, md1 = central_tendency(heights)\n",
    "print(f'Mean of heights WITHOUT outlier is   : {avg1}')\n",
    "print(f'Median of heights WITHOUT outlier is : {mdn1}')\n",
    "print(f'Mode of heights WITHOUT outlier is   : {md1}') "
   ]
  },
  {
   "cell_type": "code",
   "execution_count": 27,
   "metadata": {},
   "outputs": [
    {
     "name": "stdout",
     "output_type": "stream",
     "text": [
      "Standard Deviation of heights WITHOUT outlier is : 1.7885814036548633\n"
     ]
    }
   ],
   "source": [
    "# Dispersion\n",
    "std1 = np.std(heights)\n",
    "print(f'Standard Deviation of heights WITHOUT outlier is : {std1}')"
   ]
  },
  {
   "attachments": {},
   "cell_type": "markdown",
   "metadata": {},
   "source": [
    "### Adding a outlier to heights Data , added a 1000.0 as a height value as an outlier"
   ]
  },
  {
   "cell_type": "code",
   "execution_count": 25,
   "metadata": {},
   "outputs": [
    {
     "name": "stdout",
     "output_type": "stream",
     "text": [
      "[178, 177, 176, 177, 178.2, 178, 175, 179, 180, 175, 178.9, 176.2, 177, 172.5, 178, 176.5, 1000.0]\n"
     ]
    }
   ],
   "source": [
    "import copy\n",
    "heights_2 = copy.deepcopy(heights)\n",
    "heights_2 = heights_2 + [1000.0]\n",
    "print(heights_2)"
   ]
  },
  {
   "cell_type": "code",
   "execution_count": 28,
   "metadata": {},
   "outputs": [
    {
     "name": "stdout",
     "output_type": "stream",
     "text": [
      "Mean of heights WITH outlier is   : 225.4294117647059\n",
      "Median of heights WITH outlier is : 177.0\n",
      "Mode of heights WITH outlier is   : ModeResult(mode=177.0, count=3)\n"
     ]
    }
   ],
   "source": [
    "# Central Tendency with Outlier\n",
    "avg2, mdn2, md2 = central_tendency(heights_2)\n",
    "print(f'Mean of heights WITH outlier is   : {avg2}')\n",
    "print(f'Median of heights WITH outlier is : {mdn2}')\n",
    "print(f'Mode of heights WITH outlier is   : {md2}') "
   ]
  },
  {
   "cell_type": "code",
   "execution_count": 29,
   "metadata": {},
   "outputs": [
    {
     "name": "stdout",
     "output_type": "stream",
     "text": [
      "Standard Deviation of heights WITHOUT outlier is : 193.65042113441513\n"
     ]
    }
   ],
   "source": [
    "# Dispersion with Outlier\n",
    "std2 = np.std(heights_2)\n",
    "print(f'Standard Deviation of heights WITHOUT outlier is : {std2}')"
   ]
  },
  {
   "attachments": {},
   "cell_type": "markdown",
   "metadata": {},
   "source": [
    "### Comparison of Results with and without outliers"
   ]
  },
  {
   "cell_type": "code",
   "execution_count": 35,
   "metadata": {},
   "outputs": [],
   "source": [
    "comparison_dict = {\n",
    "    'Statistic':['Mean','Median','Mode','Standard Deviation'],\n",
    "    'Orignal' : [avg1,mdn1,md1[0],std1],\n",
    "    'Outlier' : [avg2,mdn2,md2[0],std2]    \n",
    "}"
   ]
  },
  {
   "cell_type": "code",
   "execution_count": 36,
   "metadata": {},
   "outputs": [
    {
     "data": {
      "text/html": [
       "<div>\n",
       "<style scoped>\n",
       "    .dataframe tbody tr th:only-of-type {\n",
       "        vertical-align: middle;\n",
       "    }\n",
       "\n",
       "    .dataframe tbody tr th {\n",
       "        vertical-align: top;\n",
       "    }\n",
       "\n",
       "    .dataframe thead th {\n",
       "        text-align: right;\n",
       "    }\n",
       "</style>\n",
       "<table border=\"1\" class=\"dataframe\">\n",
       "  <thead>\n",
       "    <tr style=\"text-align: right;\">\n",
       "      <th></th>\n",
       "      <th>Statistic</th>\n",
       "      <th>Orignal</th>\n",
       "      <th>Outlier</th>\n",
       "    </tr>\n",
       "  </thead>\n",
       "  <tbody>\n",
       "    <tr>\n",
       "      <th>0</th>\n",
       "      <td>Mean</td>\n",
       "      <td>177.018750</td>\n",
       "      <td>225.429412</td>\n",
       "    </tr>\n",
       "    <tr>\n",
       "      <th>1</th>\n",
       "      <td>Median</td>\n",
       "      <td>177.000000</td>\n",
       "      <td>177.000000</td>\n",
       "    </tr>\n",
       "    <tr>\n",
       "      <th>2</th>\n",
       "      <td>Mode</td>\n",
       "      <td>177.000000</td>\n",
       "      <td>177.000000</td>\n",
       "    </tr>\n",
       "    <tr>\n",
       "      <th>3</th>\n",
       "      <td>Standard Deviation</td>\n",
       "      <td>1.788581</td>\n",
       "      <td>193.650421</td>\n",
       "    </tr>\n",
       "  </tbody>\n",
       "</table>\n",
       "</div>"
      ],
      "text/plain": [
       "            Statistic     Orignal     Outlier\n",
       "0                Mean  177.018750  225.429412\n",
       "1              Median  177.000000  177.000000\n",
       "2                Mode  177.000000  177.000000\n",
       "3  Standard Deviation    1.788581  193.650421"
      ]
     },
     "execution_count": 36,
     "metadata": {},
     "output_type": "execute_result"
    }
   ],
   "source": [
    "import pandas as pd\n",
    "comparison_df = pd.DataFrame(comparison_dict)\n",
    "comparison_df"
   ]
  },
  {
   "cell_type": "code",
   "execution_count": 37,
   "metadata": {},
   "outputs": [
    {
     "data": {
      "text/html": [
       "<div>\n",
       "<style scoped>\n",
       "    .dataframe tbody tr th:only-of-type {\n",
       "        vertical-align: middle;\n",
       "    }\n",
       "\n",
       "    .dataframe tbody tr th {\n",
       "        vertical-align: top;\n",
       "    }\n",
       "\n",
       "    .dataframe thead th {\n",
       "        text-align: right;\n",
       "    }\n",
       "</style>\n",
       "<table border=\"1\" class=\"dataframe\">\n",
       "  <thead>\n",
       "    <tr style=\"text-align: right;\">\n",
       "      <th></th>\n",
       "      <th>Statistic</th>\n",
       "      <th>Orignal</th>\n",
       "      <th>Outlier</th>\n",
       "      <th>difference</th>\n",
       "    </tr>\n",
       "  </thead>\n",
       "  <tbody>\n",
       "    <tr>\n",
       "      <th>0</th>\n",
       "      <td>Mean</td>\n",
       "      <td>177.018750</td>\n",
       "      <td>225.429412</td>\n",
       "      <td>48.410662</td>\n",
       "    </tr>\n",
       "    <tr>\n",
       "      <th>1</th>\n",
       "      <td>Median</td>\n",
       "      <td>177.000000</td>\n",
       "      <td>177.000000</td>\n",
       "      <td>0.000000</td>\n",
       "    </tr>\n",
       "    <tr>\n",
       "      <th>2</th>\n",
       "      <td>Mode</td>\n",
       "      <td>177.000000</td>\n",
       "      <td>177.000000</td>\n",
       "      <td>0.000000</td>\n",
       "    </tr>\n",
       "    <tr>\n",
       "      <th>3</th>\n",
       "      <td>Standard Deviation</td>\n",
       "      <td>1.788581</td>\n",
       "      <td>193.650421</td>\n",
       "      <td>191.861840</td>\n",
       "    </tr>\n",
       "  </tbody>\n",
       "</table>\n",
       "</div>"
      ],
      "text/plain": [
       "            Statistic     Orignal     Outlier  difference\n",
       "0                Mean  177.018750  225.429412   48.410662\n",
       "1              Median  177.000000  177.000000    0.000000\n",
       "2                Mode  177.000000  177.000000    0.000000\n",
       "3  Standard Deviation    1.788581  193.650421  191.861840"
      ]
     },
     "execution_count": 37,
     "metadata": {},
     "output_type": "execute_result"
    }
   ],
   "source": [
    "comparison_df['difference']=comparison_df['Outlier']-comparison_df['Orignal']\n",
    "comparison_df"
   ]
  },
  {
   "attachments": {},
   "cell_type": "markdown",
   "metadata": {},
   "source": [
    "### Above results show that the outliers have a very strong impact on Mean and Standard Deviation for a given data."
   ]
  }
 ],
 "metadata": {
  "kernelspec": {
   "display_name": "venv",
   "language": "python",
   "name": "python3"
  },
  "language_info": {
   "codemirror_mode": {
    "name": "ipython",
    "version": 3
   },
   "file_extension": ".py",
   "mimetype": "text/x-python",
   "name": "python",
   "nbconvert_exporter": "python",
   "pygments_lexer": "ipython3",
   "version": "3.10.7"
  },
  "orig_nbformat": 4
 },
 "nbformat": 4,
 "nbformat_minor": 2
}
