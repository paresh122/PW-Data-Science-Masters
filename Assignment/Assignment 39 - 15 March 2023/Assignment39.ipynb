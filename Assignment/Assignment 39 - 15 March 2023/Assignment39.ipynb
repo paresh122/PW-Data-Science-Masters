{
 "cells": [
  {
   "attachments": {},
   "cell_type": "markdown",
   "metadata": {},
   "source": [
    "<a id=\"0\"></a>\n",
    "\n",
    "# <p style=\"padding:10px;background-color:#87CEEB ;margin:10;color:#000000;font-family:newtimeroman;font-size:100%;text-align:center;border-radius: 10px 10px ;overflow:hidden;font-weight:50\">Assignment  39: Intro to Machine Learning 1 \n",
    "</p>"
   ]
  },
  {
   "attachments": {},
   "cell_type": "markdown",
   "metadata": {},
   "source": [
    "<a id=\"1\"></a>\n",
    "\n",
    "# <p style=\"padding:10px;background-color:#87CEEB ;margin:10;color:#000000;font-family:newtimeroman;font-size:100%;text-align:center;border-radius: 10px 10px ;overflow:hidden;font-weight:50\">Question 1</p>"
   ]
  },
  {
   "attachments": {},
   "cell_type": "markdown",
   "metadata": {},
   "source": [
    "## Question 1 : Explain the following with example :\n",
    "### 1. Artififial Intelligence\n",
    "### 2. Machine Learning\n",
    "### 3. Deep Learning\n",
    "---"
   ]
  },
  {
   "attachments": {},
   "cell_type": "markdown",
   "metadata": {},
   "source": [
    "## Answer : "
   ]
  },
  {
   "attachments": {},
   "cell_type": "markdown",
   "metadata": {},
   "source": [
    "### 1. Artificial Intelligence (AI): It is the branch of computer science that aims to create intelligent machines that can perform tasks that typically require human intelligence, such as visual perception, speech recognition, decision making, and language translation. AI can be classified into two types: weak AI and strong AI. Weak AI is designed to perform specific tasks, whereas strong AI is designed to have general intelligence like a human being. Examples of AI include virtual personal assistants like Siri, Alexa, and Google Assistant, self-driving cars, and facial recognition technology."
   ]
  },
  {
   "attachments": {},
   "cell_type": "markdown",
   "metadata": {},
   "source": [
    "### 2. Machine Learning (ML): It is a subset of AI that focuses on enabling machines to learn and improve from experience without being explicitly programmed. In other words, ML algorithms can automatically learn patterns and insights from data and make predictions or decisions based on that learning. There are three types of ML: supervised learning, unsupervised learning, and reinforcement learning. Supervised learning involves training the algorithm with labeled data, unsupervised learning involves finding patterns in unlabeled data, and reinforcement learning involves training the algorithm to make decisions based on rewards and punishments. Examples of ML include spam filters, recommendation systems, and fraud detection systems."
   ]
  },
  {
   "attachments": {},
   "cell_type": "markdown",
   "metadata": {},
   "source": [
    "### 3. Deep Learning (DL): It is a subset of ML that focuses on training artificial neural networks with many layers, which can learn and represent complex relationships between inputs and outputs. DL algorithms can be used for tasks such as image recognition, speech recognition, natural language processing, and autonomous driving. Deep neural networks are composed of multiple layers of interconnected nodes that transform input data and extract features at each layer. Examples of DL include Google's AlphaGo, which defeated the world champion at the board game Go, and self-driving cars developed by companies like Tesla and Waymo."
   ]
  },
  {
   "attachments": {},
   "cell_type": "markdown",
   "metadata": {},
   "source": [
    "![AI vs ML vs DL](https://classadviser.in/wp-content/uploads/2021/06/al-ml-dl.png)"
   ]
  },
  {
   "attachments": {},
   "cell_type": "markdown",
   "metadata": {},
   "source": [
    "<a id=\"2\"></a>\n",
    "\n",
    "# <p style=\"padding:10px;background-color:#87CEEB ;margin:10;color:#000000;font-family:newtimeroman;font-size:100%;text-align:center;border-radius: 10px 10px ;overflow:hidden;font-weight:50\">Question 2</p>"
   ]
  },
  {
   "attachments": {},
   "cell_type": "markdown",
   "metadata": {},
   "source": [
    "## Question 2: What is supervised learning? List some examples of supervised learning.\n",
    "---"
   ]
  },
  {
   "attachments": {},
   "cell_type": "markdown",
   "metadata": {},
   "source": [
    "## Answer :"
   ]
  },
  {
   "attachments": {},
   "cell_type": "markdown",
   "metadata": {},
   "source": [
    "### Supervised machine learning is a type of machine learning where an algorithm learns from labeled data that is already categorized or classified. The algorithm learns to identify patterns and relationships between the input features (also known as independent variables or predictors) and the corresponding output (also known as dependent variable or response). The algorithm can then use this learning to predict the output for new input data that it has not seen before."
   ]
  },
  {
   "attachments": {},
   "cell_type": "markdown",
   "metadata": {},
   "source": [
    "### Examples of supervised machine learning include:\n",
    "\n",
    "1. Predicting house prices based on factors such as size, location, number of bedrooms, and bathrooms.\n",
    "\n",
    "2. Forecasting the demand for a particular product based on historical sales data, time of year, and marketing campaigns.\n",
    "\n",
    "3. Estimating the time it will take to complete a task based on historical data of similar tasks and factors such as complexity and available resources.\n",
    "\n",
    "4. Predicting whether a loan applicant will default or not based on their credit score, income, and other factors.\n",
    "\n",
    "5. Diagnosing a medical condition based on symptoms, test results, and other patient information.\n",
    "\n",
    "6. Identifying whether an email is spam or not based on its content and other features."
   ]
  },
  {
   "attachments": {},
   "cell_type": "markdown",
   "metadata": {},
   "source": [
    "![Supervised machine learning](https://www.simplilearn.com/ice9/free_resources_article_thumb/Supervised_ML_3.PNG)"
   ]
  },
  {
   "attachments": {},
   "cell_type": "markdown",
   "metadata": {},
   "source": [
    "<a id=\"3\"></a>\n",
    "\n",
    "# <p style=\"padding:10px;background-color:#87CEEB ;margin:10;color:#000000;font-family:newtimeroman;font-size:100%;text-align:center;border-radius: 10px 10px ;overflow:hidden;font-weight:50\">Question 3</p>"
   ]
  },
  {
   "attachments": {},
   "cell_type": "markdown",
   "metadata": {},
   "source": [
    "## Question 3 : What is unsupervised learning? List some examples of unsupervised learning.\n",
    "---"
   ]
  },
  {
   "attachments": {},
   "cell_type": "markdown",
   "metadata": {},
   "source": [
    "## Answer :"
   ]
  },
  {
   "attachments": {},
   "cell_type": "markdown",
   "metadata": {},
   "source": [
    "### Unsupervised machine learning is a type of machine learning where an algorithm learns from unlabeled data, without any specific guidance or labels from the user. The algorithm learns to identify patterns and relationships between the input data, and can then group or cluster the data based on these patterns. This can be useful for identifying hidden patterns or structures in the data, or for finding outliers or anomalies that may require further investigation."
   ]
  },
  {
   "attachments": {},
   "cell_type": "markdown",
   "metadata": {},
   "source": [
    "### Examples of unsupervised machine learning include:\n",
    "\n",
    "1. Clustering: In this application, the algorithm groups similar data points together based on their similarity in terms of features or attributes. This can be used to identify patterns or clusters in data that may not be immediately apparent, such as customer segmentation based on purchasing behavior or fraud detection based on unusual behavior.\n",
    "\n",
    "2. Dimensionality Reduction: In this application, the algorithm reduces the dimensionality of the input data by identifying the most important features or variables. This can be useful for visualizing high-dimensional data or for speeding up the training of machine learning models.\n",
    "\n",
    "3. Anomaly detection: In this application, the algorithm identifies data points that are significantly different from the rest of the data, such as fraudulent transactions or manufacturing defects.\n",
    "\n",
    "4. Association rule mining: In this application, the algorithm identifies patterns and relationships between different variables or features, such as items frequently purchased together in a retail store or words frequently used together in a document.\n",
    "\n",
    "5. Neural Network Unsupervised Learning: In this application, the algorithm uses neural networks to learn from the unlabeled data by training the network to find patterns in the data. Examples of this include autoencoders, which are neural networks designed to compress data into a lower-dimensional representation and then reconstruct it, and generative adversarial networks (GANs), which are neural networks that learn to generate new data that is similar to the training data."
   ]
  },
  {
   "attachments": {},
   "cell_type": "markdown",
   "metadata": {},
   "source": [
    "![Unsupervised ML](https://www.slideteam.net/media/catalog/product/cache/1280x720/u/n/unsupervised_machine_learning_ml_and_how_it_works_slide03.jpg)"
   ]
  },
  {
   "attachments": {},
   "cell_type": "markdown",
   "metadata": {},
   "source": [
    "<a id=\"4\"></a>\n",
    "\n",
    "# <p style=\"padding:10px;background-color:#87CEEB ;margin:10;color:#000000;font-family:newtimeroman;font-size:100%;text-align:center;border-radius: 10px 10px ;overflow:hidden;font-weight:50\">Question 4</p>"
   ]
  },
  {
   "attachments": {},
   "cell_type": "markdown",
   "metadata": {},
   "source": [
    "## Question 4 : What is difference between AI , ML, DL and DS?\n",
    "---"
   ]
  },
  {
   "attachments": {},
   "cell_type": "markdown",
   "metadata": {},
   "source": [
    "## Answer :"
   ]
  },
  {
   "attachments": {},
   "cell_type": "markdown",
   "metadata": {},
   "source": [
    "### Here is a comparison of Artificial Intelligence, Machine Learning, Deep Learning, and Data Science in a tabular format:\n",
    "\n",
    "| Key Aspect         | Artificial Intelligence | Machine Learning  | Deep Learning      | Data Science      |\n",
    "|:------------------:|-------------------------|-------------------|--------------------|-------------------|\n",
    "| Definition         | Machines that mimic human intelligence to perform tasks. | Algorithms that learn from data and improve their performance over time. | Subset of machine learning that uses neural networks with multiple hidden layers. | Interdisciplinary field that uses various techniques to extract insights from data. |\n",
    "| Applications       | Robotics, Natural Language Processing, Computer Vision, Expert Systems. | Image recognition, Speech recognition, Recommender systems, Fraud detection. | Image and speech recognition, Natural Language Processing, Robotics, Game AI. | Business intelligence, Predictive analytics, Data mining, Machine learning. |\n",
    "| Approach           | Rule-based systems, Symbolic reasoning, Bayesian networks, Fuzzy logic. | Supervised, unsupervised, and reinforcement learning. | Neural networks with multiple hidden layers. | Exploratory data analysis, Data visualization, Hypothesis testing, Machine learning. |\n",
    "| Learning           | Explicit programming to perform tasks. | Learning from labeled or unlabeled data to make predictions or decisions. | Learning from large amounts of labeled data to recognize patterns. | Learning from data to understand and communicate insights. |\n",
    "| Examples           | Siri, Alexa, Robotics. | Spam filtering, Image recognition, Predictive analytics. | Speech recognition, Computer vision, Natural Language Processing. | Netflix recommendation engine, Facebook Insights, Google Analytics. |\n",
    "| Tools              | TensorFlow, Keras, PyTorch, OpenCV. | Scikit-learn, TensorFlow, Keras, PyTorch. | TensorFlow, Keras, PyTorch. | R, Python, SQL, Tableau, Excel. |\n",
    "| Skills required    | Programming, Statistics, Logic, Mathematics, Knowledge representation. | Programming, Statistics, Mathematics, Data wrangling, Visualization. | Programming, Mathematics, Neural networks, GPU programming. | Programming, Statistics, Machine learning, Data wrangling, Communication. |\n",
    "\n",
    "### Note that these fields are interconnected and often overlap, with deep learning being a subset of machine learning, and machine learning being a subset of artificial intelligence. Data science also incorporates elements of machine learning and statistical analysis, as well as other techniques for data processing and analysis."
   ]
  },
  {
   "attachments": {},
   "cell_type": "markdown",
   "metadata": {},
   "source": [
    "![AI vs ML vs DL](https://www.corpnce.com/wp-content/uploads/2019/08/DS_MLRelationship.jpg)"
   ]
  },
  {
   "attachments": {},
   "cell_type": "markdown",
   "metadata": {},
   "source": [
    "<a id=\"5\"></a>\n",
    "\n",
    "# <p style=\"padding:10px;background-color:#87CEEB ;margin:10;color:#000000;font-family:newtimeroman;font-size:100%;text-align:center;border-radius: 10px 10px ;overflow:hidden;font-weight:50\">Question 5</p>"
   ]
  },
  {
   "attachments": {},
   "cell_type": "markdown",
   "metadata": {},
   "source": [
    "## Question 5 : What are main differences between supervised, unsupervised and semi-supervised learning?\n",
    "---"
   ]
  },
  {
   "attachments": {},
   "cell_type": "markdown",
   "metadata": {},
   "source": [
    "## Answer :"
   ]
  },
  {
   "attachments": {},
   "cell_type": "markdown",
   "metadata": {},
   "source": [
    "### Supervised, unsupervised, and semi-supervised learning are three main types of machine learning. Here are the key differences between them:\n",
    "\n",
    "1. Supervised learning: Supervised learning is a type of machine learning in which an algorithm learns from labeled data. The input data is labeled with the correct output, and the algorithm learns to map the input to the output. The goal of supervised learning is to build a model that can accurately predict the output for new, unseen data. Examples of supervised learning include classification and regression problems.\n",
    "\n",
    "2. Unsupervised learning: Unsupervised learning is a type of machine learning in which the algorithm learns from unlabeled data. The goal of unsupervised learning is to identify patterns in the data without any prior knowledge of what those patterns might be. The algorithm tries to find the underlying structure or distribution of the data. Examples of unsupervised learning include clustering, dimensionality reduction, and anomaly detection.\n",
    "\n",
    "3. Semi-supervised learning: Semi-supervised learning is a type of machine learning that combines both labeled and unlabeled data. The algorithm learns from the labeled data and tries to generalize to the unlabeled data. The goal of semi-supervised learning is to improve the accuracy of the model by using the unlabeled data. Semi-supervised learning can be useful when there is a large amount of unlabeled data available, but labeling the data is expensive or time-consuming."
   ]
  },
  {
   "attachments": {},
   "cell_type": "markdown",
   "metadata": {},
   "source": [
    "![Supervised vs Unsupervised](https://www.altexsoft.com/media/2022/03/supervised-vs-unsupervised-vs-semi-supervised-mach.png)"
   ]
  },
  {
   "attachments": {},
   "cell_type": "markdown",
   "metadata": {},
   "source": [
    "<a id=\"6\"></a>\n",
    "\n",
    "# <p style=\"padding:10px;background-color:#87CEEB ;margin:10;color:#000000;font-family:newtimeroman;font-size:100%;text-align:center;border-radius: 10px 10px ;overflow:hidden;font-weight:50\">Question 6</p>"
   ]
  },
  {
   "attachments": {},
   "cell_type": "markdown",
   "metadata": {},
   "source": [
    "## Question 6 : What is train, test and validation split? Explain Importance of each term.\n",
    "---"
   ]
  },
  {
   "attachments": {},
   "cell_type": "markdown",
   "metadata": {},
   "source": [
    "## Answer :"
   ]
  },
  {
   "attachments": {},
   "cell_type": "markdown",
   "metadata": {},
   "source": [
    "### 1. Training Set : The training set is the dataset that we employ to train our model. It is this dataset that our model uses to learn any underlying patterns or relationships that will enable making predictions later on.\n",
    "\n",
    "### The training set should be as representative as possible of the population that we are trying to model. Additionally, we need to be careful and ensure that it is as unbiased as possible, as any bias at this stage may be propagated downstream during inference."
   ]
  },
  {
   "attachments": {},
   "cell_type": "markdown",
   "metadata": {},
   "source": [
    "### 2. Validation Set : it acts as an independent, unbiased dataset for comparing the performance of different algorithms trained on our training set. "
   ]
  },
  {
   "attachments": {},
   "cell_type": "markdown",
   "metadata": {},
   "source": [
    "### 3.Test Set: Once we have used the validation set to determine the algorithm and parameter choices that we would like to use in production, the test set is used to approximate the models's true performance in the wild. It is the final step in evaluating our model's performance on unseen data."
   ]
  },
  {
   "attachments": {},
   "cell_type": "markdown",
   "metadata": {},
   "source": [
    "![Train Test split](https://vitalflux.com/wp-content/uploads/2020/12/Hold-out-method-Training-Validation-Test-Dataset.png)"
   ]
  },
  {
   "attachments": {},
   "cell_type": "markdown",
   "metadata": {},
   "source": [
    "<a id=\"7\"></a>\n",
    "\n",
    "# <p style=\"padding:10px;background-color:#87CEEB ;margin:10;color:#000000;font-family:newtimeroman;font-size:100%;text-align:center;border-radius: 10px 10px ;overflow:hidden;font-weight:50\">Question 7</p>"
   ]
  },
  {
   "attachments": {},
   "cell_type": "markdown",
   "metadata": {},
   "source": [
    "## Question 7 : How can unsupervised machine learning be used in anomaly detection ?\n",
    "---"
   ]
  },
  {
   "attachments": {},
   "cell_type": "markdown",
   "metadata": {},
   "source": [
    "## Answer :"
   ]
  },
  {
   "attachments": {},
   "cell_type": "markdown",
   "metadata": {},
   "source": [
    "### Unsupervised machine learning can be used in anomaly detection by leveraging the fact that anomalies are rare and unusual events that deviate significantly from the normal behavior of a system. Here are some common techniques used for anomaly detection using unsupervised machine learning:\n",
    "\n",
    "1. Clustering: Clustering algorithms such as k-means, DBSCAN, and hierarchical clustering can be used to group similar data points together. Anomalies can then be identified as data points that do not belong to any of the clusters or are in small, isolated clusters.\n",
    "\n",
    "2. Density-Based Outlier Detection: Density-based techniques such as Local Outlier Factor (LOF) and Isolation Forest can be used to identify outliers that have a low density compared to their neighbors.\n",
    "\n",
    "3. Dimensionality Reduction: Dimensionality reduction techniques such as Principal Component Analysis (PCA) and t-SNE can be used to reduce the high-dimensional data into a lower-dimensional space. Anomalies can then be identified as data points that are far from the bulk of the data in the reduced space.\n",
    "\n",
    "4. Autoencoders: Autoencoders are a type of neural network that can be used for unsupervised anomaly detection. The autoencoder learns to reconstruct the input data, and anomalies can be identified as data points that are poorly reconstructed.\n",
    "\n",
    "### Overall, unsupervised machine learning is a useful tool for anomaly detection because it can identify anomalies without requiring a labeled dataset. However, it's important to note that the success of the unsupervised approach depends heavily on the quality of the data and the choice of the algorithm."
   ]
  },
  {
   "attachments": {},
   "cell_type": "markdown",
   "metadata": {},
   "source": [
    "<a id=\"8\"></a>\n",
    "\n",
    "# <p style=\"padding:10px;background-color:#87CEEB ;margin:10;color:#000000;font-family:newtimeroman;font-size:100%;text-align:center;border-radius: 10px 10px ;overflow:hidden;font-weight:50\">Question 8</p>"
   ]
  },
  {
   "attachments": {},
   "cell_type": "markdown",
   "metadata": {},
   "source": [
    "## Question 8 : List down some commonly used supervised learning algorithms and unsupervised learning algorithms.\n",
    "---"
   ]
  },
  {
   "attachments": {},
   "cell_type": "markdown",
   "metadata": {},
   "source": [
    "## Answer :"
   ]
  },
  {
   "attachments": {},
   "cell_type": "markdown",
   "metadata": {},
   "source": [
    "### Below are commonly used supervised and unsupervised Machine Learning algorithms :\n",
    "\n",
    "| Supervised Learning Algorithms | Unsupervised Learning Algorithms |\n",
    "| --- | --- |\n",
    "| Linear Regression | K-Means Clustering |\n",
    "| Logistic Regression | Hierarchical Clustering |\n",
    "| Decision Tree | DBSCAN Clustering |\n",
    "| Random Forest | Principal Component Analysis (PCA) |\n",
    "| Support Vector Machines (SVM) | Independent Component Analysis (ICA) |\n",
    "| Naive Bayes | t-SNE (t-Distributed Stochastic Neighbor Embedding) |\n",
    "| K-Nearest Neighbors (KNN) | Isolation Forest |\n",
    "| Neural Networks | Autoencoders | "
   ]
  }
 ],
 "metadata": {
  "kernelspec": {
   "display_name": "venv",
   "language": "python",
   "name": "python3"
  },
  "language_info": {
   "name": "python",
   "version": "3.10.7"
  },
  "orig_nbformat": 4
 },
 "nbformat": 4,
 "nbformat_minor": 2
}
