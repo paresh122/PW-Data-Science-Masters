{
 "cells": [
  {
   "cell_type": "markdown",
   "id": "c544f46b",
   "metadata": {},
   "source": [
    "Q1. What is an API? Give an example, where an API is used in real life.\n"
   ]
  },
  {
   "cell_type": "code",
   "execution_count": null,
   "id": "433ff988",
   "metadata": {},
   "outputs": [],
   "source": [
    "\"\"\"\n",
    "API stands for Application Programming Interface. \n",
    "API are mechanism to enable two Software components to communicate with each \n",
    "other using a set of definitions and protocol.\n",
    "Ex. Zomato app uses Google Map APIs for Geographical usage to locate and provide \n",
    "realtime location of riders to customers and rider get user location\n",
    "\n",
    "Working of API: \n",
    "API Architecture usually explained in terms of client & server, where application \n",
    "sends the request which is client and application sends the response back called server\n",
    "ex. a webpage which don't hold any data it when user request called client \n",
    "and sent request via internet and Server accept it, process it & sent it back\n",
    "\n",
    "\"\"\""
   ]
  },
  {
   "cell_type": "markdown",
   "id": "4f1b030f",
   "metadata": {},
   "source": [
    "Q2. Give advantages and disadvantages of using API.\n"
   ]
  },
  {
   "cell_type": "code",
   "execution_count": null,
   "id": "f9e8d7c5",
   "metadata": {},
   "outputs": [],
   "source": [
    "\"\"\"\n",
    "Advantages: \n",
    "- brings new level of modularity to application. \n",
    "- allows developers to leverage the expertise of other application.\n",
    "- once API developed organization need not to reinvent the wheel when it comes \n",
    "    to authentication, communication, payment processing, and maps.\n",
    "- seamless plug-in capabilities & functionalities of APIs. \n",
    "- allows to communicate apps and system components with each other \n",
    "    internally or over the internet\n",
    "- any present or developed API can be easily integrate with our system \n",
    "\n",
    "Disadvantages: \n",
    "- Vulnerable if implementation not done well \n",
    "- High Cost of developing, maintaining, documentation, and support\n",
    "- Adding an API adds another attack surface our application\n",
    "\n",
    "\"\"\""
   ]
  },
  {
   "cell_type": "markdown",
   "id": "2fd4ccfe",
   "metadata": {},
   "source": [
    "Q3. What is a Web API? Differentiate between API and Web API.\n"
   ]
  },
  {
   "cell_type": "code",
   "execution_count": null,
   "id": "df0de18b",
   "metadata": {},
   "outputs": [],
   "source": [
    "\"\"\"\n",
    "Web API or Web Service API is an application processing interface btw a web \n",
    "server and web browser. all web services are APIs but not all APIs are web servcie\n",
    "Rest API is a special type of Web API \n",
    "Web API mostly uses HTTP for connection and as a security protocol which sometimes \n",
    "considered not so secure when your top priority for API is security \n",
    "\n",
    "\n",
    "API VS Web API\n",
    "\n",
    "API is set of protocols, routines, and tools for building software applications.\n",
    "It defines how software should interact and communicate with each other, \n",
    "enabling exchange of data and services.\n",
    "\n",
    "Web API that is specifically designed to be used over the web, via HTTP(S) requests. \n",
    "It allows developers to access the functionality of a web-based application or \n",
    "service, such as social media platforms by sending requests to specific URLs and\n",
    "receiving responses in a specified format, such as JSON or XML.\n",
    "\n",
    "\"\"\""
   ]
  },
  {
   "cell_type": "markdown",
   "id": "0cb67636",
   "metadata": {},
   "source": [
    "Q4. Explain REST and SOAP Architecture. Mention shortcomings of SOAP.\n"
   ]
  },
  {
   "cell_type": "code",
   "execution_count": null,
   "id": "1f580cb6",
   "metadata": {},
   "outputs": [],
   "source": [
    "\"\"\"\n",
    "SOAP stands for standard communication protocol system that uses XML tech to define \n",
    "frameworks that allows structured info to be exchanged in decentralized, distribut env. \n",
    "SOAP allows applications running on different OS to communicate using d/f tech. and programming lang\n",
    "UseCase: create, retrieve, update, and delete records such as passwords, accounts, leads \n",
    "\n",
    "REST stands for Representational State Transfer, It is an Architectural style not a protocol like SOAP,\n",
    "follows principles of Web APIs where Client requent for resources and server return all relevant info by processing it \n",
    "by using HTTPs as a communication protocol \n",
    "\n",
    "\n",
    "SOAP shortcomings \n",
    "- Difficult to implement and requires more bandwidth \n",
    "- SOAP can't make use of rest api since SOAP is protocol but Rest can  make use of \n",
    "    SOAP \n",
    "- can be designed for large enterprise application \n",
    "\"\"\""
   ]
  },
  {
   "cell_type": "markdown",
   "id": "181cf079",
   "metadata": {},
   "source": [
    "Q5. Differentiate between REST and SOAP."
   ]
  },
  {
   "cell_type": "code",
   "execution_count": null,
   "id": "2c3db1ac",
   "metadata": {},
   "outputs": [],
   "source": [
    "\"\"\"\n",
    "SOAP API: \n",
    "- a set of protocol \n",
    "- Data trasport in XML Format\n",
    "- using SSL & WS-Security \n",
    "- works over HTTP, HTTPs, SMTP, XMPP\n",
    "- highly structured & bulk so only for large application\n",
    "\n",
    "REST API:\n",
    "- Architecture using HTTP\n",
    "- trasport data in JSON but it doesn't enforce message format XML or JSON \n",
    "- works with GET, POST, PUT, DELETE\n",
    "- less structured so less bulky \n",
    "- designed with mobile devices\n",
    "\"\"\""
   ]
  }
 ],
 "metadata": {
  "kernelspec": {
   "display_name": "Python 3 (ipykernel)",
   "language": "python",
   "name": "python3"
  },
  "language_info": {
   "codemirror_mode": {
    "name": "ipython",
    "version": 3
   },
   "file_extension": ".py",
   "mimetype": "text/x-python",
   "name": "python",
   "nbconvert_exporter": "python",
   "pygments_lexer": "ipython3",
   "version": "3.9.16"
  }
 },
 "nbformat": 4,
 "nbformat_minor": 5
}
