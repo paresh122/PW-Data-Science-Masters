{
 "cells": [
  {
   "attachments": {},
   "cell_type": "markdown",
   "metadata": {},
   "source": [
    "<a id=\"0\"></a>\n",
    "\n",
    "# <p style=\"padding:10px;background-color:#87CEEB ;margin:10;color:#000000;font-family:newtimeroman;font-size:100%;text-align:center;border-radius: 10px 10px ;overflow:hidden;font-weight:50\">Assignment  30: Statistics Basic 1 - Paresh Patil</p>"
   ]
  },
  {
   "attachments": {},
   "cell_type": "markdown",
   "metadata": {},
   "source": [
    "<a id=\"1\"></a>\n",
    "\n",
    "# <p style=\"padding:10px;background-color:#87CEEB ;margin:10;color:#000000;font-family:newtimeroman;font-size:100%;text-align:center;border-radius: 10px 10px ;overflow:hidden;font-weight:50\">Question 1</p>"
   ]
  },
  {
   "attachments": {},
   "cell_type": "markdown",
   "metadata": {},
   "source": [
    "## Question 1: What is Statistics?\n",
    "---"
   ]
  },
  {
   "attachments": {},
   "cell_type": "markdown",
   "metadata": {},
   "source": [
    "## Answer :"
   ]
  },
  {
   "attachments": {},
   "cell_type": "markdown",
   "metadata": {},
   "source": [
    "### Statistics is a branch of mathematics that deals with the collection, analysis, interpretation, presentation, and organization of data. It involves the use of quantitative methods to extract meaning and insights from data sets. Statistics can be applied to a wide range of fields, including business, economics, social sciences, natural sciences, medicine, engineering, and many others.\n",
    "\n",
    "### In essence, statistics is all about making sense of the information we have by using mathematical techniques and tools to find patterns, relationships, and trends within the data. This helps us make informed decisions, draw accurate conclusions, and solve real-world problems.\n",
    "\n",
    "### **For example** : Imagine a company wants to know how many of their customers are satisfied with their product. They could collect data from a survey and use statistical methods to analyze the results, such as calculating the percentage of satisfied customers, identifying common themes in feedback, and comparing results across different demographics. This information can help the company make improvements to their product and increase customer satisfaction."
   ]
  },
  {
   "attachments": {},
   "cell_type": "markdown",
   "metadata": {},
   "source": [
    "<a id=\"2\"></a>\n",
    "\n",
    "# <p style=\"padding:10px;background-color:#87CEEB ;margin:10;color:#000000;font-family:newtimeroman;font-size:100%;text-align:center;border-radius: 10px 10px ;overflow:hidden;font-weight:50\">Question 2</p>"
   ]
  },
  {
   "attachments": {},
   "cell_type": "markdown",
   "metadata": {},
   "source": [
    "## Question 2: Define the different types of statistics and give an example of when each type might be used.\n",
    "---"
   ]
  },
  {
   "attachments": {},
   "cell_type": "markdown",
   "metadata": {},
   "source": [
    "## Answer :"
   ]
  },
  {
   "attachments": {},
   "cell_type": "markdown",
   "metadata": {},
   "source": [
    "### There are two main types of statistics: descriptive statistics and inferential statistics. Here's an overview of each type and an example of when they might be used:\n",
    "\n",
    "1. Descriptive statistics: Descriptive statistics involves summarizing and describing data through measures such as mean, median, mode, range, standard deviation, and variance. These statistics help us understand the characteristics of the data, such as its central tendency, variability, and distribution.\n",
    "\n",
    "Example : A researcher wants to study the distribution of ages in a population. They collect data on the ages of a sample of people and use descriptive statistics to calculate the mean, median, and standard deviation of the ages. This information can help the researcher describe the age distribution of the population and identify any outliers or patterns in the data.\n",
    "\n",
    "2. Inferential statistics: Inferential statistics involves making predictions or drawing conclusions about a population based on a sample of data. This type of statistics uses probability theory to estimate the likelihood that a particular conclusion is true.\n",
    "\n",
    "Example: A pharmaceutical company wants to test the effectiveness of a new drug. They conduct a randomized controlled trial with a sample of patients and use inferential statistics to determine whether the drug has a significant effect compared to a placebo. This information can help the company make decisions about whether to pursue further research or seek approval from regulatory agencies."
   ]
  },
  {
   "attachments": {},
   "cell_type": "markdown",
   "metadata": {},
   "source": [
    "Summarizing in table below:\n",
    "\n",
    "| Type of Statistics | Definition | Example |\n",
    "| --- | --- | --- |\n",
    "| Descriptive statistics | Summarizing and describing data through measures such as mean, median, mode, range, standard deviation, and variance | A researcher studying the distribution of ages in a population uses descriptive statistics to calculate the mean, median, and standard deviation of a sample of ages |\n",
    "| Inferential statistics | Making predictions or drawing conclusions about a population based on a sample of data, using probability theory to estimate the likelihood that a particular conclusion is true | A pharmaceutical company tests the effectiveness of a new drug using inferential statistics to determine whether the drug has a significant effect compared to a placebo |\n"
   ]
  },
  {
   "attachments": {},
   "cell_type": "markdown",
   "metadata": {},
   "source": [
    "![Types of Statistics](https://www.basic-mathematics.com/images/types-of-statistics.jpg)"
   ]
  },
  {
   "attachments": {},
   "cell_type": "markdown",
   "metadata": {},
   "source": [
    "<a id=\"3\"></a>\n",
    "\n",
    "# <p style=\"padding:10px;background-color:#87CEEB ;margin:10;color:#000000;font-family:newtimeroman;font-size:100%;text-align:center;border-radius: 10px 10px ;overflow:hidden;font-weight:50\">Question 3</p>"
   ]
  },
  {
   "attachments": {},
   "cell_type": "markdown",
   "metadata": {},
   "source": [
    "## Question 3: What are the different types of data and how do they differ from each other? Provide an example of each type of data.\n",
    "---"
   ]
  },
  {
   "attachments": {},
   "cell_type": "markdown",
   "metadata": {},
   "source": [
    "## Answer :"
   ]
  },
  {
   "attachments": {},
   "cell_type": "markdown",
   "metadata": {},
   "source": [
    "### Qualitative and quantitative data are two broad categories of data. \n",
    "1. Qualitative data consists of descriptive or categorical information. \n",
    "2. Quantitative data consists of numerical measurements.\n",
    "\n",
    "### Qualitative and Quantiative are further classified into below categories :\n",
    "\n",
    "1. Qualitative Data :\n",
    "    * Nominal Data\n",
    "    * Ordinal Data\n",
    "2. Quantiative Data :\n",
    "    * Discrete Data\n",
    "    * Continuous Data"
   ]
  },
  {
   "attachments": {},
   "cell_type": "markdown",
   "metadata": {},
   "source": [
    "| Type of Data | Definition | Examples |\n",
    "| --- | --- | --- |\n",
    "| Qualitative/Nominal | Descriptive or categorical information that cannot be ranked or ordered | gender, car manufacturer, Cuisine  |\n",
    "| Qualitative/Ordinal | Descriptive or categorical information that can be ranked or ordered, but the intervals between categories are not necessarily equal | Education level, socioeconomic status,Clothing Sizes(S,M,L,XL) |\n",
    "| Quantitative/Discrete | Numerical values that can only take on specific values, typically integers | Number of children in a family, number of cars in a household |\n",
    "| Quantitative/Continuous | Numerical values that can take on any value within a range | Length, Temperature, Humidity, Time |"
   ]
  },
  {
   "attachments": {},
   "cell_type": "markdown",
   "metadata": {},
   "source": [
    "![Types of Data](https://d1m75rqqgidzqn.cloudfront.net/wp-data/2022/06/01113127/types-of-data-.png)"
   ]
  },
  {
   "attachments": {},
   "cell_type": "markdown",
   "metadata": {},
   "source": [
    "<a id=\"4\"></a>\n",
    "\n",
    "# <p style=\"padding:10px;background-color:#87CEEB ;margin:10;color:#000000;font-family:newtimeroman;font-size:100%;text-align:center;border-radius: 10px 10px ;overflow:hidden;font-weight:50\">Question 4</p>"
   ]
  },
  {
   "attachments": {},
   "cell_type": "markdown",
   "metadata": {},
   "source": [
    "## Question 4: Categorise the following datasets with respect to quantitative and qualitative data types:\n",
    "\n",
    "### 1. Grading in exam: A+, A, B+, B, C+, C, D, E\n",
    "\n",
    "### 2. Colour of mangoes: yellow, green, orange, red\n",
    "\n",
    "### 3. Height data of a class: [178.9, 179, 179.5, 176, 177.2, 178.3, 175.8,...]\n",
    "\n",
    "### 4. Number of mangoes exported by a farm: [500, 600, 478, 672, …]\n",
    "\n",
    "---"
   ]
  },
  {
   "attachments": {},
   "cell_type": "markdown",
   "metadata": {},
   "source": [
    "## Answer :"
   ]
  },
  {
   "attachments": {},
   "cell_type": "markdown",
   "metadata": {},
   "source": [
    "### 1. Grading in exam: A+, A, B+, B, C+, C, D, E : \n",
    "> Grading in Exam is a **Qualitative Ordinal** Variable with A+ variable being highest rank and E being lowest\n",
    "\n",
    "### 2. Colour of mangoes: yellow, green, orange, red : \n",
    "> Colour of Mangoes is a **Qualitative Nominal** Variable because colour cannot have a ranking\n",
    "\n",
    "### 3. Height data of a class: [178.9, 179, 179.5, 176, 177.2, 178.3, 175.8,...] :\n",
    "> Height Data of a class is a **Quantitative Continuous** Variable because this is numeric measurement and is not restricted to be an integer\n",
    "\n",
    "### 4. Number of mangoes exported by a farm: [500, 600, 478, 672, …] :\n",
    "> Number of mangoes exported is a **Quantitative Discrete** Variable because this is numeric measurement and will always be an integer"
   ]
  },
  {
   "attachments": {},
   "cell_type": "markdown",
   "metadata": {},
   "source": [
    "<a id=\"5\"></a>\n",
    "\n",
    "# <p style=\"padding:10px;background-color:#87CEEB ;margin:10;color:#000000;font-family:newtimeroman;font-size:100%;text-align:center;border-radius: 10px 10px ;overflow:hidden;font-weight:50\">Question 5</p>"
   ]
  },
  {
   "attachments": {},
   "cell_type": "markdown",
   "metadata": {},
   "source": [
    "## Question 5 : Explain the concept of levels of measurement and give an example of a variable for each level\n",
    "---"
   ]
  },
  {
   "attachments": {},
   "cell_type": "markdown",
   "metadata": {},
   "source": [
    "## Answer :"
   ]
  },
  {
   "attachments": {},
   "cell_type": "markdown",
   "metadata": {},
   "source": [
    "### The concept of levels of measurement, also known as scales of measurement, refers to the different ways in which data can be classified based on the type and properties of the variable being measured. There are four commonly recognized levels of measurement: nominal, ordinal, interval, and ratio."
   ]
  },
  {
   "attachments": {},
   "cell_type": "markdown",
   "metadata": {},
   "source": [
    "| Level of measurement | Definition | Example variables |\n",
    "| --- | --- | --- |\n",
    "| Nominal | Categorical variables with no inherent order or numerical value | Country of origin, favorite color, political affiliation |\n",
    "| Ordinal | Categorical variables with a specific order or rank, but unequal or non-meaningful differences between categories | Likert scale responses (strongly disagree, disagree, neutral, agree, strongly agree), stage of cancer (stage I, stage II, stage III, stage IV) |\n",
    "| Interval | Numerical variables with a specific order and equal intervals between values, but no true zero point | Temperature (Celsius or Fahrenheit), Standardized test scores (SAT, ACT), credit scores, calendar years |\n",
    "| Ratio | Numerical variables with a specific order, equal intervals between values, and a true zero point | income, distance traveled, age |"
   ]
  },
  {
   "attachments": {},
   "cell_type": "markdown",
   "metadata": {},
   "source": [
    "![Level of Measurements](https://dpbnri2zg3lc2.cloudfront.net/en/wp-content/uploads/old-blog-uploads/four-levels-of-measurement-data.jpg)"
   ]
  },
  {
   "attachments": {},
   "cell_type": "markdown",
   "metadata": {},
   "source": [
    "<a id=\"6\"></a>\n",
    "\n",
    "# <p style=\"padding:10px;background-color:#87CEEB ;margin:10;color:#000000;font-family:newtimeroman;font-size:100%;text-align:center;border-radius: 10px 10px ;overflow:hidden;font-weight:50\">Question 6</p>"
   ]
  },
  {
   "attachments": {},
   "cell_type": "markdown",
   "metadata": {},
   "source": [
    "## Question 6 : Why is it important to understand the level of measurement when analyzing data? Provide an example to illustrate your answer\n",
    "---"
   ]
  },
  {
   "attachments": {},
   "cell_type": "markdown",
   "metadata": {},
   "source": [
    "## Answer:"
   ]
  },
  {
   "attachments": {},
   "cell_type": "markdown",
   "metadata": {},
   "source": [
    "### Understanding the level of measurement of a variable is important because it determines the types of statistical analyses that can be performed and the appropriate interpretation of the results. In other words, the level of measurement helps researchers to identify the appropriate statistical procedures and tests to use when analyzing data. Using the wrong statistical procedure for a given level of measurement can result in misleading or inaccurate conclusions.\n",
    "\n",
    "### For example, let's consider a study that examines the relationship between income and job satisfaction among employees in a company. The income variable is a ratio-level variable because it has a true zero point (no income) and equal intervals between values. In contrast, job satisfaction is an ordinal-level variable because it has a specific order or rank, but unequal or non-meaningful differences between categories. If the researcher were to use a correlation analysis to examine the relationship between these two variables, the result would be incorrect because correlation is only appropriate for ratio-level variables. Instead, a more appropriate statistical test for analyzing the relationship between a ratio-level and ordinal-level variable would be a chi-squared test or a t-test.\n",
    "\n",
    "### In summary, understanding the level of measurement of variables is crucial for selecting appropriate statistical methods and interpreting results accurately in data analysis."
   ]
  },
  {
   "attachments": {},
   "cell_type": "markdown",
   "metadata": {},
   "source": [
    "<a id=\"7\"></a>\n",
    "\n",
    "# <p style=\"padding:10px;background-color:#87CEEB ;margin:10;color:#000000;font-family:newtimeroman;font-size:100%;text-align:center;border-radius: 10px 10px ;overflow:hidden;font-weight:50\">Question 7</p>"
   ]
  },
  {
   "attachments": {},
   "cell_type": "markdown",
   "metadata": {},
   "source": [
    "## Question 7: How nominal data type is different from ordinal data type\n",
    "---"
   ]
  },
  {
   "attachments": {},
   "cell_type": "markdown",
   "metadata": {},
   "source": [
    "## Answer :"
   ]
  },
  {
   "attachments": {},
   "cell_type": "markdown",
   "metadata": {},
   "source": [
    "### Nominal and ordinal data are both types of categorical data, but they differ in the level of measurement and the type of information they provide.\n",
    "\n",
    "### Nominal data is the lowest level of measurement and refers to data that is categorized without any numerical or quantitative value. In other words, nominal data consists of categories that are mutually exclusive and do not have any inherent order or ranking. Examples of nominal data include gender (male/female), hair color (blonde/brunette/red), and marital status (single/married/divorced).\n",
    "\n",
    "### Ordinal data, on the other hand, is the second level of measurement and refers to data that has an inherent order or ranking, but the differences between categories may not be equal or meaningful. Examples of ordinal data include educational level (elementary school, high school, college), level of agreement (strongly disagree, disagree, neutral, agree, strongly agree), and rating scales (poor, fair, good, excellent)."
   ]
  },
  {
   "attachments": {},
   "cell_type": "markdown",
   "metadata": {},
   "source": [
    "<a id=\"8\"></a>\n",
    "\n",
    "# <p style=\"padding:10px;background-color:#87CEEB ;margin:10;color:#000000;font-family:newtimeroman;font-size:100%;text-align:center;border-radius: 10px 10px ;overflow:hidden;font-weight:50\">Question 8</p>"
   ]
  },
  {
   "attachments": {},
   "cell_type": "markdown",
   "metadata": {},
   "source": [
    "## Question 8 : Which type of plot can be used to display data in terms of range?\n",
    "---"
   ]
  },
  {
   "attachments": {},
   "cell_type": "markdown",
   "metadata": {},
   "source": [
    "## Answer :"
   ]
  },
  {
   "attachments": {},
   "cell_type": "markdown",
   "metadata": {},
   "source": [
    "### A box plot or a box-and-whisker plot is a type of plot that can be used to display data in terms of range. Box plots are particularly useful for displaying data that has a non-normal distribution, outliers, or multiple groups of data that need to be compared.\n",
    "\n",
    "### A box plot provides a visual representation of the minimum, maximum, median, and quartiles of a dataset. The box in the plot represents the interquartile range (IQR), which is the range of values between the first quartile (25th percentile) and the third quartile (75th percentile) of the dataset. The median is represented by a line within the box, while the minimum and maximum values are represented by the whiskers (vertical lines) that extend from the box.\n",
    "\n",
    "### Box plots are particularly useful for comparing the range and distribution of different groups of data, as multiple box plots can be displayed side by side for comparison. They are also useful for identifying outliers, which are values that fall outside the minimum or maximum range of the dataset."
   ]
  },
  {
   "attachments": {},
   "cell_type": "markdown",
   "metadata": {},
   "source": [
    "![Boxplot](https://miro.medium.com/max/9000/1*2c21SkzJMf3frPXPAR_gZA.png)"
   ]
  },
  {
   "attachments": {},
   "cell_type": "markdown",
   "metadata": {},
   "source": [
    "### Histogram is also one of the plot that can be shown in terms of ranges\n",
    "\n",
    "### A histogram is particularly useful for displaying continuous data, as it allows you to see the shape of the distribution, including any peaks or clusters, as well as the range and spread of the data. It can also help identify outliers or unusual patterns in the data."
   ]
  },
  {
   "attachments": {},
   "cell_type": "markdown",
   "metadata": {},
   "source": [
    "![Histogram](https://www150.statcan.gc.ca/n1/edu/power-pouvoir/c-g/c-g05-7-1-eng.png)"
   ]
  },
  {
   "attachments": {},
   "cell_type": "markdown",
   "metadata": {},
   "source": [
    "<a id=\"9\"></a>\n",
    "\n",
    "# <p style=\"padding:10px;background-color:#87CEEB ;margin:10;color:#000000;font-family:newtimeroman;font-size:100%;text-align:center;border-radius: 10px 10px ;overflow:hidden;font-weight:50\">Question 9</p>"
   ]
  },
  {
   "attachments": {},
   "cell_type": "markdown",
   "metadata": {},
   "source": [
    "## Question 9 : Describe the difference between descriptive and inferential statistics. Give an example of each type of statistics and explain how they are used.\n",
    "---"
   ]
  },
  {
   "attachments": {},
   "cell_type": "markdown",
   "metadata": {},
   "source": [
    "## Answer :"
   ]
  },
  {
   "attachments": {},
   "cell_type": "markdown",
   "metadata": {},
   "source": [
    "### Definitions of Descriptive statistics and Inferential Statistics :\n",
    "\n",
    "1. Descriptive statistics are used to summarize and describe the basic features of a dataset. They are used to analyze the characteristics of the data, such as central tendency, variability, and distribution. Descriptive statistics do not allow for generalization of the data beyond the sample being analyzed.\n",
    "\n",
    "> An example of descriptive statistics is calculating the mean, median, and mode of a dataset. These measures provide information about the central tendency of the data and are used to summarize the dataset. Another example of descriptive statistics is creating a histogram or bar chart to visually represent the distribution of the data.\n",
    "\n",
    "2. Inferential statistics, on the other hand, are used to make inferences or draw conclusions about a larger population based on a smaller sample of data. They allow researchers to make generalizations about the population and estimate the likelihood of certain outcomes based on the sample data.\n",
    "\n",
    "> An example of inferential statistics is conducting a hypothesis test to determine if there is a significant difference between two groups of data. This involves calculating a test statistic and comparing it to a critical value to determine if the difference is statistically significant. Another example is calculating a confidence interval to estimate the range of values that a population parameter (e.g. mean or proportion) is likely to fall within."
   ]
  },
  {
   "attachments": {},
   "cell_type": "markdown",
   "metadata": {},
   "source": [
    "| Type of Statistics | Definition | Example |\n",
    "| --- | --- | --- |\n",
    "| Descriptive Statistics | Summarizes and describes the basic features of a dataset | Mean, median, mode, range, standard deviation, histogram, bar chart |\n",
    "| Inferential Statistics | Used to make inferences or draw conclusions about a larger population based on a smaller sample of data | Hypothesis testing, confidence intervals, regression analysis, ANOVA |"
   ]
  },
  {
   "attachments": {},
   "cell_type": "markdown",
   "metadata": {},
   "source": [
    "<a id=\"10\"></a>\n",
    "\n",
    "# <p style=\"padding:10px;background-color:#87CEEB ;margin:10;color:#000000;font-family:newtimeroman;font-size:100%;text-align:center;border-radius: 10px 10px ;overflow:hidden;font-weight:50\">Question 10</p>"
   ]
  },
  {
   "attachments": {},
   "cell_type": "markdown",
   "metadata": {},
   "source": [
    "## Question 10 : What are some common measures of central tendency and variability used in statistics? Explain how each measure can be used to describe a dataset.\n",
    "---"
   ]
  },
  {
   "attachments": {},
   "cell_type": "markdown",
   "metadata": {},
   "source": [
    "## Answer :"
   ]
  },
  {
   "attachments": {},
   "cell_type": "markdown",
   "metadata": {},
   "source": [
    "### Measures of central tendency and variability are two types of descriptive statistics that are commonly used to summarize and describe a dataset. \n",
    "\n",
    "### The main measures of central tendency include the mean, median, and mode, while the main measures of variability include the range, variance, and standard deviation"
   ]
  },
  {
   "attachments": {},
   "cell_type": "markdown",
   "metadata": {},
   "source": [
    "| Measure | Definition | Mathematical Formula |\n",
    "| --- | --- | --- |\n",
    "| **Central Tendency** | | |\n",
    "| Mean | Arithmetic average of a set of values | $\\frac{1}{n}\\sum_{i=1}^{n}x_i$ |\n",
    "| Median | Middle value in a dataset when it is ordered from smallest to largest | |\n",
    "| Mode | Most common value in a dataset | |\n",
    "| **Variability** | | |\n",
    "| Range | Difference between the largest and smallest values in a dataset | $range = max(x) - min(x)$ |\n",
    "| Variance | Average of the squared differences from the mean | $s^2 = \\frac{\\sum_{i=1}^{n}(x_i - \\bar{x})^2}{n-1}$ |\n",
    "| Standard Deviation | Square root of the variance | $s = \\sqrt{\\frac{\\sum_{i=1}^{n}(x_i - \\bar{x})^2}{n-1}}$ |"
   ]
  },
  {
   "attachments": {},
   "cell_type": "markdown",
   "metadata": {},
   "source": [
    "The use of $n-1$ instead of $n$ in the variance and standard deviation formulae is known as Bessel's correction, which is used to adjust for the fact that the sample variance tends to underestimate the true variance of the population."
   ]
  }
 ],
 "metadata": {
  "kernelspec": {
   "display_name": "venv",
   "language": "python",
   "name": "python3"
  },
  "language_info": {
   "name": "python",
   "version": "3.10.7"
  },
  "orig_nbformat": 4
 },
 "nbformat": 4,
 "nbformat_minor": 2
}
