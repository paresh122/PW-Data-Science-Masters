{
 "cells": [
  {
   "cell_type": "markdown",
   "id": "bc0261b3",
   "metadata": {},
   "source": [
    "Q1. Which function is used to open a file? What are the different modes of opening a file? Explain each mode\n",
    "of file opening.\n"
   ]
  },
  {
   "cell_type": "code",
   "execution_count": 1,
   "id": "ccb6e665",
   "metadata": {},
   "outputs": [],
   "source": [
    "#open(\"filenameDotExtension\", \"mode_in_which_we_wantTo_openFile\")\n",
    "file = open('lending_data.txt', 'r')\n",
    "\"\"\"\n",
    "Different mode for opening a file as such:\n",
    "r - to open in read mode(##default)\n",
    "w - to open in write mode(wipe out all existing data and paste current one)\n",
    "a - to open in append mode(preserving older data and adding new into it)\n",
    "x - if not exist then create\n",
    "t - text mode(##default)\n",
    "b - binary mode\n",
    "+ - read & write mode\n",
    "\"\"\""
   ]
  },
  {
   "cell_type": "markdown",
   "id": "ae710785",
   "metadata": {},
   "source": [
    "Q2. Why close() function is used? Why is it important to close a file?"
   ]
  },
  {
   "cell_type": "code",
   "execution_count": null,
   "id": "3b1a1121",
   "metadata": {},
   "outputs": [],
   "source": [
    "\"\"\"\n",
    "close() function is used to close any opened file via open()\n",
    "it is good to close any file which we open as the file will be locked in for \n",
    "that specific event or purpose and accessing it outside becomes difficult \n",
    "also whatever write operation we perform sometimes happens only when we close it\n",
    "accessing it in read mode too in restricted state unless we close it\n",
    "\"\"\""
   ]
  },
  {
   "cell_type": "markdown",
   "id": "7b978e3b",
   "metadata": {},
   "source": [
    "Q3. Write a python program to create a text file. Write ‘I want to become a Data Scientist’ in that file. Then\n",
    "close the file. Open this file and read the content of the file.\n"
   ]
  },
  {
   "cell_type": "code",
   "execution_count": 3,
   "id": "6111a306",
   "metadata": {},
   "outputs": [],
   "source": [
    "file = open('text.txt','a')\n",
    "file.write('I want to become a Data Scientist')\n",
    "file.close()"
   ]
  },
  {
   "cell_type": "code",
   "execution_count": 4,
   "id": "545e96b6",
   "metadata": {},
   "outputs": [
    {
     "name": "stdout",
     "output_type": "stream",
     "text": [
      "I want to become a Data ScientistI want to become a Data Scientist\n"
     ]
    }
   ],
   "source": [
    "with open('text.txt','r') as f:\n",
    "    file = f.read()\n",
    "    print(file)\n",
    "#in this method we don't need to close a file with automatically handles closing files"
   ]
  },
  {
   "cell_type": "markdown",
   "id": "4c07a598",
   "metadata": {},
   "source": [
    "Q4. Explain the following with python code: read(), readline() and readlines().\n"
   ]
  },
  {
   "cell_type": "code",
   "execution_count": 14,
   "id": "4518d845",
   "metadata": {},
   "outputs": [],
   "source": [
    "#just writing line of code in our test file to get knowledge of read(), readline() and readlines()\n",
    "with open('test.txt','w') as f: \n",
    "    f.write(\"Data Science Master’s certification\\n\"\n",
    "                \"Self-Paced Learning\\n\"\n",
    "                \"50 + hands-on industry real-time projects\\n\"\n",
    "                \"200+ hours classes\\n\"\n",
    "                \"Every week doubt clearing session\\n\"\n",
    "                \"2 Year Dashboard access\\n\"\n",
    "                \"Course Materials\\n\"\n",
    "                \"Doubt clearing one-to-one\\n\"\n",
    "                \"Doubt clearing through mail and support\\n\"\n",
    "                \"Discord Community\\n\"\n",
    "                \"Assignments\\n\"\n",
    "                \"Quiz in every module\\n\")"
   ]
  },
  {
   "cell_type": "code",
   "execution_count": 15,
   "id": "03574942",
   "metadata": {},
   "outputs": [
    {
     "name": "stdout",
     "output_type": "stream",
     "text": [
      "This out is from read()\n",
      "\n",
      "Data Science Master’s certification\n",
      "Self-Paced Learning\n",
      "50 + hands-on industry real-time projects\n",
      "200+ hours classes\n",
      "Every week doubt clearing session\n",
      "2 Year Dashboard access\n",
      "Course Materials\n",
      "Doubt clearing one-to-one\n",
      "Doubt clearing through mail and support\n",
      "Discord Community\n",
      "Assignments\n",
      "Quiz in every module\n",
      "\n"
     ]
    }
   ],
   "source": [
    "# read() this read everything in our file \n",
    "# readline() as name suggest readline it read one line at a time and when call again it reads next line and so on \n",
    "# readlines() this read line by line and preserve all the lines in a list and each line as a item in list\n",
    "print(\"This out is from read()\\n\")\n",
    "with open('test.txt','r') as f:\n",
    "    file = f.read()\n",
    "    print(file)"
   ]
  },
  {
   "cell_type": "code",
   "execution_count": 18,
   "id": "42b4f401",
   "metadata": {},
   "outputs": [
    {
     "name": "stdout",
     "output_type": "stream",
     "text": [
      "Data Science Master’s certification\n",
      "\n",
      "Self-Paced Learning\n",
      "\n"
     ]
    }
   ],
   "source": [
    "with open('test.txt','r') as f:\n",
    "    print(f.readline())\n",
    "    print(f.readline())\n",
    "    # as much time we run this readline func as much lines it reads from file one line at a time "
   ]
  },
  {
   "cell_type": "code",
   "execution_count": 19,
   "id": "3adc8c5f",
   "metadata": {},
   "outputs": [
    {
     "name": "stdout",
     "output_type": "stream",
     "text": [
      "['Data Science Master’s certification\\n', 'Self-Paced Learning\\n', '50 + hands-on industry real-time projects\\n', '200+ hours classes\\n', 'Every week doubt clearing session\\n', '2 Year Dashboard access\\n', 'Course Materials\\n', 'Doubt clearing one-to-one\\n', 'Doubt clearing through mail and support\\n', 'Discord Community\\n', 'Assignments\\n', 'Quiz in every module\\n']\n"
     ]
    }
   ],
   "source": [
    "with open('test.txt','r') as f:\n",
    "    file = f.readlines()\n",
    "    print(file)\n",
    "    #this reads all line at once but gave a list of all those lines and all lines are seperate item of list"
   ]
  },
  {
   "cell_type": "markdown",
   "id": "25239bfb",
   "metadata": {},
   "source": [
    "Q5. Explain why with statement is used with open(). What is the advantage of using with statement and\n",
    "open() together?\n"
   ]
  },
  {
   "cell_type": "code",
   "execution_count": null,
   "id": "805fe6ae",
   "metadata": {},
   "outputs": [],
   "source": [
    "\"\"\"\n",
    "with saves our efforts of manually close() any open() file \n",
    "with serves as a exception handler if in read mode FileNotFoundError occure it save our code from interruptions\n",
    "we can open multiple files in one single with block and no need to close them manually \n",
    "\n",
    "\"\"\""
   ]
  },
  {
   "cell_type": "markdown",
   "id": "9749e5c4",
   "metadata": {},
   "source": [
    "Q6. Explain the write() and writelines() functions. Give a suitable example."
   ]
  },
  {
   "cell_type": "code",
   "execution_count": 20,
   "id": "28855c52",
   "metadata": {},
   "outputs": [],
   "source": [
    "seq_list = [\"Data Science Master’s certification\\n\",\n",
    "                \"Self-Paced Learning\\n\",\n",
    "                \"50 + hands-on industry real-time projects\\n\",\n",
    "                \"200+ hours classes\\n\",\n",
    "                \"Every week doubt clearing session\\n\",\n",
    "                \"2 Year Dashboard access\\n\",\n",
    "                \"Course Materials\\n\",\n",
    "                \"Doubt clearing one-to-one\\n\",\n",
    "                \"Doubt clearing through mail and support\\n\",\n",
    "                \"Discord Community\\n\",\n",
    "                \"Assignments\\n\",\n",
    "                \"Quiz in every module\\n\"]"
   ]
  },
  {
   "cell_type": "code",
   "execution_count": 23,
   "id": "d9bf139d",
   "metadata": {},
   "outputs": [],
   "source": [
    "\"\"\"\n",
    "Write writes a string content to the referenced file \n",
    "whereas writelines writes a list of content to a file\n",
    "\"\"\"\n",
    "# code for write \n",
    "with open('test.txt','w') as f: \n",
    "#     f.write(seq_list) # this gave us an error as write just accept a string as an argument \n",
    "    f.write(\"Data Science Master’s certification\\n\"\n",
    "                \"Self-Paced Learning\\n\")\n",
    "    \n",
    "# code for writelines \n",
    "with open('test.txt','w') as f: \n",
    "    f.writelines(seq_list) # whereas this accept only sequence of string in list "
   ]
  }
 ],
 "metadata": {
  "kernelspec": {
   "display_name": "Python 3 (ipykernel)",
   "language": "python",
   "name": "python3"
  },
  "language_info": {
   "codemirror_mode": {
    "name": "ipython",
    "version": 3
   },
   "file_extension": ".py",
   "mimetype": "text/x-python",
   "name": "python",
   "nbconvert_exporter": "python",
   "pygments_lexer": "ipython3",
   "version": "3.9.13"
  }
 },
 "nbformat": 4,
 "nbformat_minor": 5
}
