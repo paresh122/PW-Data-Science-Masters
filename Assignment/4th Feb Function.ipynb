{
 "cells": [
  {
   "cell_type": "markdown",
   "id": "7c2dd02a",
   "metadata": {},
   "source": [
    "Q1. Create a python program to sort the given list of tuples based on integer value using a\n",
    "lambda function.\n",
    "[('Sachin Tendulkar', 34357), ('Ricky Ponting', 27483), ('Jack Kallis', 25534), ('Virat Kohli', 24936)]\n"
   ]
  },
  {
   "cell_type": "code",
   "execution_count": 1,
   "id": "cb696228",
   "metadata": {},
   "outputs": [
    {
     "data": {
      "text/plain": [
       "[('Virat Kohli', 24936),\n",
       " ('Jack Kallis', 25534),\n",
       " ('Ricky Ponting', 27483),\n",
       " ('Sachin Tendulkar', 34357)]"
      ]
     },
     "execution_count": 1,
     "metadata": {},
     "output_type": "execute_result"
    }
   ],
   "source": [
    "lis = [('Sachin Tendulkar', 34357), ('Ricky Ponting', 27483), ('Jack Kallis', 25534), ('Virat Kohli', 24936)]\n",
    "sorted_list = list(sorted(lis,key = lambda x:x[1]))\n",
    "sorted_list"
   ]
  },
  {
   "cell_type": "markdown",
   "id": "8ad45b55",
   "metadata": {},
   "source": [
    "Q2. Write a Python Program to find the squares of all the numbers in the given list of integers using\n",
    "lambda and map functions.\n",
    "[1, 2, 3, 4, 5, 6, 7, 8, 9, 10]\n"
   ]
  },
  {
   "cell_type": "code",
   "execution_count": 2,
   "id": "fb23a207",
   "metadata": {},
   "outputs": [
    {
     "data": {
      "text/plain": [
       "[1, 4, 9, 16, 25, 36, 49, 64, 81, 100]"
      ]
     },
     "execution_count": 2,
     "metadata": {},
     "output_type": "execute_result"
    }
   ],
   "source": [
    "lis= [1, 2, 3, 4, 5, 6, 7, 8, 9, 10]\n",
    "sqr_list= list(map(lambda x:x**2,lis))\n",
    "sqr_list"
   ]
  },
  {
   "cell_type": "markdown",
   "id": "d6d4c682",
   "metadata": {},
   "source": [
    "Q3. Write a python program to convert the given list of integers into a tuple of strings. Use map and\n",
    "lambda functions\n",
    "Given String: [1, 2, 3, 4, 5, 6, 7, 8, 9, 10]\n",
    "Expected output: ('1', '2', '3', '4', '5', '6', '7', '8', '9', '10')\n"
   ]
  },
  {
   "cell_type": "code",
   "execution_count": 3,
   "id": "3ac093f5",
   "metadata": {},
   "outputs": [
    {
     "data": {
      "text/plain": [
       "('1', '2', '3', '4', '5', '6', '7', '8', '9', '10')"
      ]
     },
     "execution_count": 3,
     "metadata": {},
     "output_type": "execute_result"
    }
   ],
   "source": [
    "lis = [1, 2, 3, 4, 5, 6, 7, 8, 9, 10]\n",
    "tup_str = tuple(map(lambda x:str(x),lis))\n",
    "tup_str"
   ]
  },
  {
   "cell_type": "markdown",
   "id": "0d3d1a1b",
   "metadata": {},
   "source": [
    "Q4. Write a python program using reduce function to compute the product of a list containing numbers\n",
    "from 1 to 25.\n"
   ]
  },
  {
   "cell_type": "code",
   "execution_count": 4,
   "id": "a11181d3",
   "metadata": {},
   "outputs": [
    {
     "data": {
      "text/plain": [
       "15511210043330985984000000"
      ]
     },
     "execution_count": 4,
     "metadata": {},
     "output_type": "execute_result"
    }
   ],
   "source": [
    "from functools import reduce \n",
    "lis = list(range(1,26))\n",
    "\n",
    "prod_lis= reduce(lambda x,y: x*y,lis)\n",
    "prod_lis"
   ]
  },
  {
   "cell_type": "markdown",
   "id": "19d8b1bc",
   "metadata": {},
   "source": [
    "\n",
    "Q5. Write a python program to filter the numbers in a given list that are divisible by 2 and 3 using the\n",
    "filter function.\n",
    "[2, 3, 6, 9, 27, 60, 90, 120, 55, 46]\n"
   ]
  },
  {
   "cell_type": "code",
   "execution_count": 5,
   "id": "01adb4ea",
   "metadata": {},
   "outputs": [
    {
     "data": {
      "text/plain": [
       "[2, 6, 60, 90, 120, 46]"
      ]
     },
     "execution_count": 5,
     "metadata": {},
     "output_type": "execute_result"
    }
   ],
   "source": [
    "lis = [2, 3, 6, 9, 27, 60, 90, 120, 55, 46]\n",
    "#filter numbers divisible by 2\n",
    "filter_lis_2 = list(filter(lambda x: x%2==0 , lis))\n",
    "filter_lis_2"
   ]
  },
  {
   "cell_type": "code",
   "execution_count": 6,
   "id": "d8f7d774",
   "metadata": {},
   "outputs": [
    {
     "data": {
      "text/plain": [
       "[3, 6, 9, 27, 60, 90, 120]"
      ]
     },
     "execution_count": 6,
     "metadata": {},
     "output_type": "execute_result"
    }
   ],
   "source": [
    "#filter number divisible by 3\n",
    "filter_lis_3 = list(filter(lambda x: x%3==0 , lis))\n",
    "filter_lis_3"
   ]
  },
  {
   "cell_type": "markdown",
   "id": "2fb9e66f",
   "metadata": {},
   "source": [
    "Q6. Write a python program to find palindromes in the given list of strings using lambda and filter\n",
    "function.\n",
    "['python', 'php', 'aba', 'radar', 'level']"
   ]
  },
  {
   "cell_type": "code",
   "execution_count": 8,
   "id": "466875ea",
   "metadata": {},
   "outputs": [
    {
     "data": {
      "text/plain": [
       "['php', 'aba', 'radar', 'level']"
      ]
     },
     "execution_count": 8,
     "metadata": {},
     "output_type": "execute_result"
    }
   ],
   "source": [
    "lis = ['python', 'php', 'aba', 'radar', 'level']\n",
    "palind_lis=[]\n",
    "for i in lis:\n",
    "    counter=0\n",
    "    while counter<=len(i)/2:\n",
    "        if len(i)//2 == counter:\n",
    "            palind_lis.append(i)\n",
    "            break\n",
    "        elif i[counter]==i[len(i)-counter-1]:\n",
    "            counter+=1\n",
    "            continue   \n",
    "        else: break\n",
    "palind_lis"
   ]
  },
  {
   "cell_type": "code",
   "execution_count": 9,
   "id": "785ed06f",
   "metadata": {},
   "outputs": [
    {
     "data": {
      "text/plain": [
       "['php', 'aba', 'radar', 'level']"
      ]
     },
     "execution_count": 9,
     "metadata": {},
     "output_type": "execute_result"
    }
   ],
   "source": [
    "#using filter & lamdba to construct palindrome\n",
    "palind_filter = list(filter(lambda x: x==x[::-1], lis))\n",
    "palind_filter"
   ]
  }
 ],
 "metadata": {
  "kernelspec": {
   "display_name": "Python 3 (ipykernel)",
   "language": "python",
   "name": "python3"
  },
  "language_info": {
   "codemirror_mode": {
    "name": "ipython",
    "version": 3
   },
   "file_extension": ".py",
   "mimetype": "text/x-python",
   "name": "python",
   "nbconvert_exporter": "python",
   "pygments_lexer": "ipython3",
   "version": "3.9.13"
  }
 },
 "nbformat": 4,
 "nbformat_minor": 5
}
