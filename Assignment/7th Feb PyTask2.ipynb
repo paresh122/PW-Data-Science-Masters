{
 "cells": [
  {
   "cell_type": "markdown",
   "id": "aee45a5e",
   "metadata": {},
   "source": [
    "Q1. You are writing code for a company. The requirement of the company is that you create a python\n",
    "function that will check whether the password entered by the user is correct or not.The function should\n",
    "take the password as input and return the string “Valid Password” if the entered password follows the\n",
    "below-given password guidelines else it should return “Invalid Password”.\n",
    "Note: \n",
    "1. The Password should contain at least two uppercase letters and at least two lowercase letters.\n",
    "\n",
    "2. The Password should contain at least a number and three special characters.\n",
    "\n",
    "3. The length of the password should be 10 characters long.\n"
   ]
  },
  {
   "cell_type": "code",
   "execution_count": 1,
   "id": "3415c9e3",
   "metadata": {},
   "outputs": [
    {
     "data": {
      "text/plain": [
       "'Valid Password'"
      ]
     },
     "execution_count": 1,
     "metadata": {},
     "output_type": "execute_result"
    }
   ],
   "source": [
    "def pass_checker(pswrd):\n",
    "    upp_count,lwr_count =0,0\n",
    "    spl =  \"_@#$&_-\" \n",
    "    spl_cnt ,num = 0,0\n",
    "    if len(pswrd)<10:\n",
    "        return \"Invalid Password\"\n",
    "    else:\n",
    "        for i in pswrd:\n",
    "            if i.isalpha():\n",
    "                if i.islower():\n",
    "                    lwr_count +=1\n",
    "                else:\n",
    "                    upp_count +=1\n",
    "            elif i.isdigit():\n",
    "                num +=1\n",
    "            elif i in spl:\n",
    "                spl_cnt+=1\n",
    "    if lwr_count>1 and upp_count>1 and num >0 and spl_cnt >2:\n",
    "        return \"Valid Password\"\n",
    "    else: return \"Invalid Password\"\n",
    "        \n",
    "pass_checker(\"MMLhse@@#8\")"
   ]
  },
  {
   "cell_type": "markdown",
   "id": "1db79669",
   "metadata": {},
   "source": [
    "Q2. Solve the below-given questions using at least one of the following:\n",
    "\n",
    "1. Lambda function\n",
    "2. Filter function\n",
    "3. Map function\n",
    "4. List Comprehension\n",
    "\n",
    "Check if the string starts with a particular letter.\n",
    "- Check if the string is numeric.\n",
    "- Sort a list of tuples having fruit names and their quantity. [(\"mango\",99),(\"orange\",80), (\"grapes\", 1000)]\n",
    "- Find the squares of numbers from 1 to 10.\n",
    "- Find the cube root of numbers from 1 to 10.\n",
    "- Check if a given number is even.\n",
    "- Filter odd numbers from the given list.\n",
    "[1,2,3,4,5,6,7,8,9,10]\n",
    "- Sort a list of integers into positive and negative integers lists.\n",
    "[1,2,3,4,5,6,-1,-2,-3,-4,-5,0]"
   ]
  },
  {
   "cell_type": "code",
   "execution_count": 2,
   "id": "4393f784",
   "metadata": {},
   "outputs": [
    {
     "data": {
      "text/plain": [
       "True"
      ]
     },
     "execution_count": 2,
     "metadata": {},
     "output_type": "execute_result"
    }
   ],
   "source": [
    "# check if string is numeric\n",
    "numeric_checker = lambda string : string.isnumeric() \n",
    "numeric_checker(\"12354\")"
   ]
  },
  {
   "cell_type": "code",
   "execution_count": 3,
   "id": "4eca8f45",
   "metadata": {},
   "outputs": [],
   "source": [
    "#sort a list of tuples havign fruit name and their quantity \n",
    "lis = [(\"mango\",99),(\"orange\",80), (\"grapes\", 100)]\n"
   ]
  },
  {
   "cell_type": "code",
   "execution_count": 4,
   "id": "e43ef40a",
   "metadata": {},
   "outputs": [
    {
     "data": {
      "text/plain": [
       "[1, 4, 9, 16, 25, 36, 49, 64, 81]"
      ]
     },
     "execution_count": 4,
     "metadata": {},
     "output_type": "execute_result"
    }
   ],
   "source": [
    "#find the sqares of numbers from 1 to 10 \n",
    "ls = list(map(lambda x: x**2, range(1,10)))\n",
    "ls"
   ]
  },
  {
   "cell_type": "code",
   "execution_count": 5,
   "id": "716b660b",
   "metadata": {},
   "outputs": [
    {
     "data": {
      "text/plain": [
       "[0.0,\n",
       " 0.3333333333333333,\n",
       " 0.6666666666666666,\n",
       " 1.0,\n",
       " 1.3333333333333333,\n",
       " 1.6666666666666667,\n",
       " 2.0,\n",
       " 2.3333333333333335,\n",
       " 2.6666666666666665,\n",
       " 3.0]"
      ]
     },
     "execution_count": 5,
     "metadata": {},
     "output_type": "execute_result"
    }
   ],
   "source": [
    "#cube root from 1-10 \n",
    "lis = [i**1/3 for i in range(10)]\n",
    "lis"
   ]
  },
  {
   "cell_type": "code",
   "execution_count": 6,
   "id": "ad333ec1",
   "metadata": {},
   "outputs": [
    {
     "name": "stdout",
     "output_type": "stream",
     "text": [
      "enter your number56\n",
      "even\n"
     ]
    }
   ],
   "source": [
    "#check if number is even \n",
    "even_checker = lambda x :\"even\" if x%2 == 0 else \"Odd\"\n",
    "print(even_checker(int(input(\"enter your number\"))))"
   ]
  },
  {
   "cell_type": "code",
   "execution_count": 7,
   "id": "02d4546b",
   "metadata": {},
   "outputs": [
    {
     "data": {
      "text/plain": [
       "[1, 3, 5, 7, 9]"
      ]
     },
     "execution_count": 7,
     "metadata": {},
     "output_type": "execute_result"
    }
   ],
   "source": [
    "#filter odd number from the list\n",
    "lis =[1,2,3,4,5,6,7,8,9,10]\n",
    "filtered_lis = list(filter(lambda x :x%2!=0,lis))\n",
    "filtered_lis"
   ]
  },
  {
   "cell_type": "code",
   "execution_count": 8,
   "id": "8d9712d2",
   "metadata": {
    "scrolled": true
   },
   "outputs": [
    {
     "name": "stdout",
     "output_type": "stream",
     "text": [
      "Positive List: [1, 2, 3, 4, 5, 6, 0]\n",
      "Negative List: [-1, -2, -3, -4, -5] \n"
     ]
    }
   ],
   "source": [
    "#sort list in postive list and -ve integer list \n",
    "lis  = [1,2,3,4,5,6,-1,-2,-3,-4,-5,0]\n",
    "pos_lis, neg_lis = [],[]\n",
    "list(map(lambda x: pos_lis.append(x) if x>=0 else neg_lis.append(x),lis))\n",
    "print(f\"Positive List: {pos_lis}\\nNegative List: {neg_lis} \")"
   ]
  }
 ],
 "metadata": {
  "kernelspec": {
   "display_name": "Python 3 (ipykernel)",
   "language": "python",
   "name": "python3"
  },
  "language_info": {
   "codemirror_mode": {
    "name": "ipython",
    "version": 3
   },
   "file_extension": ".py",
   "mimetype": "text/x-python",
   "name": "python",
   "nbconvert_exporter": "python",
   "pygments_lexer": "ipython3",
   "version": "3.9.13"
  }
 },
 "nbformat": 4,
 "nbformat_minor": 5
}
