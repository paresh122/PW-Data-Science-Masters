{
 "cells": [
  {
   "cell_type": "markdown",
   "id": "603c8634",
   "metadata": {},
   "source": [
    "Q1. Explain Class and Object with respect to Object-Oriented Programming. Give a suitable example.\n"
   ]
  },
  {
   "cell_type": "code",
   "execution_count": 1,
   "id": "ff4870e0",
   "metadata": {},
   "outputs": [
    {
     "data": {
      "text/plain": [
       "('Ryan', 'Jr. Developer')"
      ]
     },
     "execution_count": 1,
     "metadata": {},
     "output_type": "execute_result"
    }
   ],
   "source": [
    "# Classes are like templates that are used to create objects. It's like blueprint where the actual design of an object takes place. To create \"Class\" keyword is used. One class can have multiple objects. OOPs guide us to work in real world and class and object help us to achieve \n",
    "# Objects are instance of class. Python objects have some behavious and attributes whatever we wanna do we can do with the help of objects. \n",
    "# behavious like way of talking and walking etc. attribute like height, weight , boy/girl\n",
    "# examples: \n",
    "## a class with a blueprint of employes which takes their name salary and other employeer details \n",
    "class Employee: \n",
    "    def __init__(self,name,salary,designation):\n",
    "        self.name = name \n",
    "        self.salary = salary \n",
    "        self.designation = designation \n",
    "    def emp_detail(self):\n",
    "        return self.name, self.designation\n",
    "    def emp_salary(self):\n",
    "        return self.salary\n",
    "\n",
    "Ryan = Employee(\"Ryan\",24356,\"Jr. Developer\")\n",
    "Ryan.emp_detail()\n"
   ]
  },
  {
   "cell_type": "markdown",
   "id": "c248b380",
   "metadata": {},
   "source": [
    "Q2. Name the four pillars of OOPs.\n"
   ]
  },
  {
   "cell_type": "code",
   "execution_count": 2,
   "id": "5588d870",
   "metadata": {},
   "outputs": [
    {
     "data": {
      "text/plain": [
       "\"\\nFour Major Pillars of OOPs are \\n1. Inheritance ( inheriting features from already existed code block #CodeReusability)\\n    ex. using methods from some other class we call this parent child relationship\\n2. Polymorphism ( Pretend to be something else or behaving like others #Manyfaces)\\n    ex. change in behavious as condition changes like + operator in string do concate\\n        while for int it perform addition\\n3. Abstraction ( Hiding working or internal implementation of the code #Hiding_working )\\n    ex. mobile we use we generaly not take headache how it works like how it response to touch\\n4. Encapsulation ( capsulate something soo unauth can't snop or manipulate #security )\\n    # restricting someone to get access like we can change account balance we must deposit cash\\n\""
      ]
     },
     "execution_count": 2,
     "metadata": {},
     "output_type": "execute_result"
    }
   ],
   "source": [
    "\"\"\"\n",
    "Four Major Pillars of OOPs are \n",
    "1. Inheritance ( inheriting features from already existed code block #CodeReusability)\n",
    "    ex. using methods from some other class we call this parent child relationship\n",
    "2. Polymorphism ( Pretend to be something else or behaving like others #Manyfaces)\n",
    "    ex. change in behavious as condition changes like + operator in string do concate\n",
    "        while for int it perform addition\n",
    "3. Abstraction ( Hiding working or internal implementation of the code #Hiding_working )\n",
    "    ex. mobile we use we generaly not take headache how it works like how it response to touch\n",
    "4. Encapsulation ( capsulate something soo unauth can't snop or manipulate #security )\n",
    "    # restricting someone to get access like we can change account balance we must deposit cash\n",
    "\"\"\""
   ]
  },
  {
   "cell_type": "markdown",
   "id": "78495ea7",
   "metadata": {},
   "source": [
    "Q3. Explain why the __init__() function is used. Give a suitable example.\n"
   ]
  },
  {
   "cell_type": "code",
   "execution_count": 3,
   "id": "2429fa8a",
   "metadata": {},
   "outputs": [
    {
     "data": {
      "text/plain": [
       "('Ryan', 1210)"
      ]
     },
     "execution_count": 3,
     "metadata": {},
     "output_type": "execute_result"
    }
   ],
   "source": [
    "\"\"\"\n",
    "init() is a class constructor function which will be called automatically with the class call\n",
    "argument passed in class call generally go through the init() function which it used to assign\n",
    "in the class variable using self keyword ( self keyword is also the first keyword of the init() function)\n",
    "self keyword(self could be any name but just readibility we generally use self)\n",
    "\"\"\"\n",
    "class Student(): \n",
    "    #init taking one arguments i.e name\n",
    "    def __init__(self,name,roll_no):\n",
    "        self.name = name\n",
    "        self.student_id = roll_no\n",
    "    def display(self):\n",
    "        return self.name,self.student_id\n",
    "Ryan = Student(\"Ryan\", 1210)\n",
    "Ryan.display()"
   ]
  },
  {
   "cell_type": "markdown",
   "id": "9d9fb58e",
   "metadata": {},
   "source": [
    "Q4. Why self is used in OOPs?\n"
   ]
  },
  {
   "cell_type": "code",
   "execution_count": 4,
   "id": "aaa9001c",
   "metadata": {},
   "outputs": [
    {
     "data": {
      "text/plain": [
       "\"\\nSelf used to reference the current instance of the class through which we can use class variable \\nwe can take any variable name in place of self, self is just to easy catch that this we used to reference\\nto class instance\\nSelf must be the first argument of any function in the class even if there's no other argument self \\nis must to add \\n\""
      ]
     },
     "execution_count": 4,
     "metadata": {},
     "output_type": "execute_result"
    }
   ],
   "source": [
    "\"\"\"\n",
    "Self used to reference the current instance of the class through which we can use class variable \n",
    "we can take any variable name in place of self, self is just to easy catch that this we used to reference\n",
    "to class instance\n",
    "Self must be the first argument of any function in the class even if there's no other argument self \n",
    "is must to add \n",
    "\"\"\""
   ]
  },
  {
   "cell_type": "markdown",
   "id": "f64473b1",
   "metadata": {},
   "source": [
    "Q5. What is inheritance? Give an example for each type of inheritance."
   ]
  },
  {
   "cell_type": "code",
   "execution_count": 5,
   "id": "f894796f",
   "metadata": {},
   "outputs": [
    {
     "name": "stdout",
     "output_type": "stream",
     "text": [
      "Lal mani\n",
      "Grandfather name : Lal mani\n",
      "Father name : Rampal\n",
      "Son name : Prince\n"
     ]
    }
   ],
   "source": [
    "\"\"\" Inheritance ensures code reusability and addition to existing features \n",
    "Inheritance in simple is inheriting functionality and behaviour of some other class method or\n",
    "class function like human children get height, look, behaviour from their parents(Indian do get receive\n",
    "properties that's also inheritance ) \n",
    "Python basically has 5 type of inheritance \n",
    "1. Single level (one to one)\n",
    "    ex. you are alone child of your father so you are sole owner after them\n",
    "2. Multilevel ( grandfather to grandchild)\n",
    "    ex. heigth of parent your grandfather 5.9 your father inherit that and now same with you \n",
    "3. Multiple ( many to one) \n",
    "    ex. some feature you got from your father and some from mother\n",
    "4. Hybrid ( many to many)\n",
    "    ex. you get some feature from you father and mother and your child get qualities from you too\n",
    "        so some from grandfather & grandmother and some from father and mother\n",
    "5. Hierarchical (one to many) \n",
    "    division of family assets in your brothers and sister too along with you\n",
    "i know many of the examples are not upto but you can get on thing that as features changes inheritance too \n",
    "so its upto us which code and inheritance we wanna inherit as features changes inheritance too\n",
    "\"\"\"\n",
    "# Python program to demonstrate\n",
    "# multilevel inheritance\n",
    "\n",
    "# Base class\n",
    "\n",
    "\n",
    "class Grandfather:\n",
    "\n",
    "    def __init__(self, grandfathername):\n",
    "        self.grandfathername = grandfathername\n",
    "\n",
    "# Intermediate class\n",
    "\n",
    "\n",
    "class Father(Grandfather):\n",
    "    def __init__(self, fathername, grandfathername):\n",
    "        self.fathername = fathername\n",
    "\n",
    "        # invoking constructor of Grandfather class\n",
    "        Grandfather.__init__(self, grandfathername)\n",
    "\n",
    "# Derived class\n",
    "\n",
    "\n",
    "class Son(Father):\n",
    "    def __init__(self, sonname, fathername, grandfathername):\n",
    "        self.sonname = sonname\n",
    "\n",
    "        # invoking constructor of Father class\n",
    "        Father.__init__(self, fathername, grandfathername)\n",
    "\n",
    "    def print_name(self):\n",
    "        print('Grandfather name :', self.grandfathername)\n",
    "        print(\"Father name :\", self.fathername)\n",
    "        print(\"Son name :\", self.sonname)\n",
    "\n",
    "\n",
    "# Driver code\n",
    "s1 = Son('Prince', 'Rampal', 'Lal mani')\n",
    "print(s1.grandfathername)\n",
    "s1.print_name()\n",
    "# so from son class we can access and use other class functions and their behaviours that's what\n",
    "#inheritance is."
   ]
  }
 ],
 "metadata": {
  "kernelspec": {
   "display_name": "Python 3 (ipykernel)",
   "language": "python",
   "name": "python3"
  },
  "language_info": {
   "codemirror_mode": {
    "name": "ipython",
    "version": 3
   },
   "file_extension": ".py",
   "mimetype": "text/x-python",
   "name": "python",
   "nbconvert_exporter": "python",
   "pygments_lexer": "ipython3",
   "version": "3.9.13"
  }
 },
 "nbformat": 4,
 "nbformat_minor": 5
}
