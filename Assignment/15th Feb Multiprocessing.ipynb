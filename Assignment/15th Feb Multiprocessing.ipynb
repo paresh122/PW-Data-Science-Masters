{
 "cells": [
  {
   "cell_type": "markdown",
   "id": "f9ca5b91-bf2e-48e3-ba22-4376d9f8bfa9",
   "metadata": {},
   "source": [
    "Q1. What is multiprocessing in python? Why is it useful?\n"
   ]
  },
  {
   "cell_type": "code",
   "execution_count": null,
   "id": "5ccb0ce0-3a70-4661-ac82-bf12e80a3933",
   "metadata": {},
   "outputs": [],
   "source": [
    "\"\"\"\n",
    "Ability of system to run/execute multiple process simultaneously. it enable smaller thread run independently\n",
    "so process run parallel \n",
    "Multiprocessing helps in increasing overall Performance & efficiency\n",
    "\"\"\""
   ]
  },
  {
   "cell_type": "markdown",
   "id": "5762c0c7-fe62-499a-9c89-97c205207297",
   "metadata": {},
   "source": [
    "Q2. What are the differences between multiprocessing and multithreading?\n"
   ]
  },
  {
   "cell_type": "code",
   "execution_count": 4,
   "id": "e48bfe17-b1eb-48ce-8c77-c74dcca0f6bb",
   "metadata": {},
   "outputs": [
    {
     "name": "stdout",
     "output_type": "stream",
     "text": [
      "\n"
     ]
    }
   ],
   "source": [
    "\"\"\"\n",
    "Multiprocessing involves multiple process running at once whereas in multithreading single process/thread executing at time\n",
    "\n",
    "In Multithreading all threads share same memory and processor which makes data sharing & communication easy\n",
    "while multiprocessing multiple process runs in parallel\n",
    "\n",
    "As Multiprocessing usage multiprocess it improve overall performace and efficiency while \n",
    "multithreading share space soo needs lesser computing and lesser space\n",
    "\n",
    "Creating multiprocess a bit difficult than multiple threads\n",
    "\n",
    "To boost multiprocessing adding CPU helps but not in multithreading\n",
    "\n",
    "\"\"\"\n",
    "print()"
   ]
  },
  {
   "cell_type": "markdown",
   "id": "31f7bb71-8d8b-43b2-b68d-1a7078c8d2e2",
   "metadata": {},
   "source": [
    "Q3. Write a python code to create a process using the multiprocessing module.\n"
   ]
  },
  {
   "cell_type": "code",
   "execution_count": 7,
   "id": "4d17cb8a-8d97-4403-a10b-ae79a424a462",
   "metadata": {},
   "outputs": [
    {
     "name": "stdout",
     "output_type": "stream",
     "text": [
      "Sleeping for 1 second....\n",
      "Sleeping for 1 second....\n",
      "Sleeping Done\n",
      "Sleeping Done\n",
      "Finished in 1.02 seconds\n"
     ]
    }
   ],
   "source": [
    "import multiprocessing \n",
    "import time \n",
    "\n",
    "#twice fx call and twice 1 second sleep but total execution time is somewhere around 1 second \n",
    "# just because of processing\n",
    "\n",
    "start = time.perf_counter()\n",
    "def do_something():\n",
    "    print(\"Sleeping for 1 second....\")\n",
    "    time.sleep(1)\n",
    "    print(\"Sleeping Done\")\n",
    "\n",
    "p1 = multiprocessing.Process(target=do_something)\n",
    "p2 = multiprocessing.Process(target= do_something)\n",
    "\n",
    "p1.start()\n",
    "p2.start()\n",
    "\n",
    "# p1.join()\n",
    "# p2.join()\n",
    "\n",
    "finish = time.perf_counter()\n",
    "\n",
    "print(f\"Finished in {round(finish-start,2)} seconds\") \n",
    "# this print stmt run earlier than our thread just because as thread sleep our main started executing \n",
    "# print to stop this use p1.join() and p2.join() after starting thread\n"
   ]
  },
  {
   "cell_type": "markdown",
   "id": "33795e6f-f3e3-4025-afab-524d389ff583",
   "metadata": {},
   "source": [
    "Q4. What is a multiprocessing pool in python? Why is it used?\n"
   ]
  },
  {
   "cell_type": "code",
   "execution_count": null,
   "id": "4deb1a1b-cbef-4205-a080-f01fe77c984d",
   "metadata": {},
   "outputs": [],
   "source": [
    "\"\"\"\n",
    "Multithreading pool controls a pool of worker processes to which jobs can be submitted.\n",
    "Pool did management of process it initialize how many process to be works in parallel and \n",
    "distribute the task among these available process\n",
    "\n",
    "We can reuse Pool as this class is regardless of target ie function so we can use with multiple target\n",
    "as we want to use in pool it allows also Pool allows executing muliple task or multitasking as \n",
    "map() , imap() method execting main thread can do other task"
   ]
  },
  {
   "cell_type": "markdown",
   "id": "5b860e73-a0ad-4932-8dc9-6de2bdce007c",
   "metadata": {},
   "source": [
    "Q5. How can we create a pool of worker processes in python using the multiprocessing module?\n"
   ]
  },
  {
   "cell_type": "code",
   "execution_count": 11,
   "id": "37267a33-e6e7-47b0-9489-1e060ebefa2d",
   "metadata": {},
   "outputs": [
    {
     "name": "stdout",
     "output_type": "stream",
     "text": [
      "[0, 1, 4, 9, 16, 25, 36, 49, 64, 81]\n",
      "0\n",
      "1\n",
      "4\n",
      "9\n",
      "16\n",
      "25\n",
      "36\n",
      "49\n",
      "64\n",
      "81\n",
      "400\n",
      "Now pool is no longer available\n"
     ]
    }
   ],
   "source": [
    "from multiprocessing import Pool\n",
    "\n",
    "\n",
    "def f(x):\n",
    "    return x*x\n",
    "\n",
    "if __name__ == '__main__':\n",
    "    with Pool(processes=4) as pool:\n",
    "        #gave a list with square value from 1 to 10 \n",
    "        print(pool.map(f, range(10)))\n",
    "        \n",
    "        # unordered result of above list\n",
    "        for i in pool.imap_unordered(f, range(10)):\n",
    "            print(i)\n",
    "\n",
    "        # evaluate \"f(20)\" asynchronously\n",
    "        res = pool.apply_async(f, (20,))      \n",
    "        print(res.get(timeout=1))            \n",
    "\n",
    "    print(\"Now pool is no longer available\")\n"
   ]
  },
  {
   "cell_type": "markdown",
   "id": "be405c78-97db-44c7-8fc0-49d3756c0141",
   "metadata": {},
   "source": [
    "Q6. Write a python program to create 4 processes, each process should print a different number using the\n",
    "multiprocessing module in python."
   ]
  },
  {
   "cell_type": "code",
   "execution_count": 13,
   "id": "def561e6-665d-45b8-a575-687652c0aa8c",
   "metadata": {},
   "outputs": [
    {
     "name": "stdout",
     "output_type": "stream",
     "text": [
      "Process 0: 0\n",
      "Process 1: 1\n",
      "Process 2: 2\n",
      "Process 3: 3\n",
      "Process finished in 0.03 seconds\n"
     ]
    }
   ],
   "source": [
    "from multiprocessing import *\n",
    "import time \n",
    "\n",
    "start = time.perf_counter()\n",
    "def print_number(num):\n",
    "    print(f\"Process {num}: {num}\")\n",
    "\n",
    "if __name__ == '__main__':\n",
    "    processes = []\n",
    "    for i in range(4):\n",
    "        process = Process(target=print_number, args=(i,))\n",
    "        processes.append(process)\n",
    "        process.start()\n",
    "    \n",
    "    for process in processes:\n",
    "        process.join()\n",
    "    \n",
    "    finish = time.perf_counter()\n",
    "    \n",
    "    print(f\"Process finished in {round(finish-start,2)} seconds\")"
   ]
  }
 ],
 "metadata": {
  "kernelspec": {
   "display_name": "Python 3 (ipykernel)",
   "language": "python",
   "name": "python3"
  },
  "language_info": {
   "codemirror_mode": {
    "name": "ipython",
    "version": 3
   },
   "file_extension": ".py",
   "mimetype": "text/x-python",
   "name": "python",
   "nbconvert_exporter": "python",
   "pygments_lexer": "ipython3",
   "version": "3.10.8"
  }
 },
 "nbformat": 4,
 "nbformat_minor": 5
}
