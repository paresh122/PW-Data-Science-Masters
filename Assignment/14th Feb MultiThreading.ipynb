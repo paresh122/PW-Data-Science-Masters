{
 "cells": [
  {
   "cell_type": "markdown",
   "id": "40729710",
   "metadata": {},
   "source": [
    "Q1 What is multithreading in python? Why is it used? Name the module used to handle threads in python\n"
   ]
  },
  {
   "cell_type": "code",
   "execution_count": 3,
   "id": "bdcefd80",
   "metadata": {
    "collapsed": true
   },
   "outputs": [
    {
     "data": {
      "text/plain": [
       "'\\nTechnique where a process is spawns multiple threads simultaneously \\nThread is smallest processing unit which is schedule for execution\\nso processing multiple thread simultaneously is multithreading\\n\\n\\n#uses \\nIt enables efficient utilization of resources, reducing time consumtion or \\nresponse time thereby, increasing the performance\\n\\n#Modules\\nthreading module used to handle threads in python we import this as follows :\\n\\n'"
      ]
     },
     "execution_count": 3,
     "metadata": {},
     "output_type": "execute_result"
    }
   ],
   "source": [
    "\"\"\"\n",
    "Technique where a process is spawns multiple threads simultaneously \n",
    "Thread is smallest processing unit which is schedule for execution\n",
    "so processing multiple thread simultaneously is multithreading\n",
    "\n",
    "\n",
    "#uses \n",
    "It enables efficient utilization of resources, reducing time consumtion or \n",
    "response time thereby, increasing the performance\n",
    "\n",
    "#Modules\n",
    "threading module used to handle threads in python we import this as follows :\n",
    "import threading\n",
    "\"\"\""
   ]
  },
  {
   "cell_type": "markdown",
   "id": "fd253aee",
   "metadata": {},
   "source": [
    "Q2 Why threading module used? Write the use of the following functions\n",
    "- activeCount\n",
    "- currentThread\n",
    "- enumerate\n"
   ]
  },
  {
   "cell_type": "code",
   "execution_count": 4,
   "id": "c8dfcfdc",
   "metadata": {},
   "outputs": [
    {
     "data": {
      "text/plain": [
       "''"
      ]
     },
     "execution_count": 4,
     "metadata": {},
     "output_type": "execute_result"
    }
   ],
   "source": [
    "\"\"\"\n",
    "threading module used to achieve Multithreading in python \n",
    "due to this module we can decrease time complexity of our code\n",
    "achieve simultaneous processing which decrease processing time \n",
    "\n",
    "\n",
    "activeCount()  − gave number of thread objects that are active.\n",
    "currentThread() − this gave number of thread objects in the caller's thread control.\n",
    "enumerate() − Returns a list of all thread objects that are currently active.\n",
    "\n",
    "\n",
    "\"\"\""
   ]
  },
  {
   "cell_type": "markdown",
   "id": "d13f1a46",
   "metadata": {},
   "source": [
    "Q3. Explain the following functions\n",
    "- run\n",
    "- start\n",
    "- join\n",
    "- isAlive\n"
   ]
  },
  {
   "cell_type": "code",
   "execution_count": null,
   "id": "66a50456",
   "metadata": {},
   "outputs": [],
   "source": [
    "\"\"\"\n",
    "run()  − run() method is the entry point for a thread.\n",
    "\n",
    "start()  − start() method starts a thread by calling the run method.\n",
    "\n",
    "join([time])  − join() waits for threads to terminate.\n",
    "\n",
    "isAlive()  − isAlive() method checks whether a thread is still executing.\n",
    "\n",
    "\n",
    "\"\"\""
   ]
  },
  {
   "cell_type": "markdown",
   "id": "c53bb8a8",
   "metadata": {},
   "source": [
    "Q4. Write a python program to create two threads. Thread one must print the list of squares and thread\n",
    "two must print the list of cubes\n"
   ]
  },
  {
   "cell_type": "code",
   "execution_count": 14,
   "id": "f4622782",
   "metadata": {},
   "outputs": [
    {
     "name": "stdout",
     "output_type": "stream",
     "text": [
      "Square of {a} is {a**2}\n",
      "Square of {a} is {a**2}\n",
      "Square of {a} is {a**2}\n",
      "Square of {a} is {a**2}\n",
      "Square of {a} is {a**2}\n",
      "Square of {a} is {a**2}\n",
      "Square of {a} is {a**2}\n",
      "Square of {a} is {a**2}\n",
      "Square of {a} is {a**2}\n",
      "Square of {a} is {a**2}\n",
      "Cube of {a} is {a**3}\n",
      "Cube of {a} is {a**3}\n",
      "Cube of {a} is {a**3}\n",
      "Cube of {a} is {a**3}\n",
      "Cube of {a} is {a**3}\n",
      "Cube of {a} is {a**3}\n",
      "Cube of {a} is {a**3}\n",
      "Cube of {a} is {a**3}\n",
      "Cube of {a} is {a**3}\n",
      "Cube of {a} is {a**3}\n"
     ]
    }
   ],
   "source": [
    "from threading import Thread\n",
    "\n",
    "def sqr():\n",
    "    for a in range(1,11):\n",
    "        print(\"Square of {a} is {a**2}\")\n",
    "\n",
    "def cube():\n",
    "    for a in range(1,11):\n",
    "        print(\"Cube of {a} is {a**3}\")\n",
    "    \n",
    "t1 = Thread(target= sqr )\n",
    "t2 = Thread(target=cube)\n",
    "\n",
    "t1.start()\n",
    "t2.start()\n",
    "\n",
    "# t1.join()\n",
    "# t2.join()"
   ]
  },
  {
   "cell_type": "markdown",
   "id": "5fa131ee",
   "metadata": {},
   "source": [
    "Q5. State advantages and disadvantages of multithreading"
   ]
  },
  {
   "cell_type": "code",
   "execution_count": null,
   "id": "e5d7dfb2",
   "metadata": {},
   "outputs": [],
   "source": [
    "\"\"\"\n",
    "#advantages\n",
    "- enhanced performance on multiprocessor machine\n",
    "- better use of system resources possible\n",
    "- thread execetion done parallely/simultaneously \n",
    "- if one thread stuck then other might perform their task \n",
    "\n",
    "#disadvantes \n",
    "- shared resources like data could create problem as multiple threads could have access to them \n",
    "- as thread count increases complexity too increases\n",
    "- it makes debut difficult and predictable\n",
    "- high deadlock possiblity \n",
    "\"\"\""
   ]
  },
  {
   "cell_type": "markdown",
   "id": "8834fde9",
   "metadata": {},
   "source": [
    "Q6. Explain deadlocks and race conditions."
   ]
  },
  {
   "cell_type": "code",
   "execution_count": null,
   "id": "18d7e21c",
   "metadata": {},
   "outputs": [],
   "source": [
    "\"\"\"\n",
    "#Race conditions \n",
    "This occure when two thread \"race\" for access to a resource \n",
    "ex. two object at same time tries to get access to same resource we can't \n",
    "guarantee which will get the object first this ends up with nasty bugs\n",
    "TO PREVENT THIS lock() IS USED\n",
    "\n",
    "#Deadlock \n",
    "This occure when two or more thread lock each others resources \n",
    "ex. Object A lock some resources and wait for access to some more \n",
    "but those lock by object B and which B needed lock by A. so deadlock like condition arises\n",
    "so both need resources which lock by each other and cause deadlock \n",
    "there is nothing to prevent deadlock just Careful coding is all to prevent deadlock\n",
    "\n",
    "\"\"\""
   ]
  }
 ],
 "metadata": {
  "kernelspec": {
   "display_name": "Python 3 (ipykernel)",
   "language": "python",
   "name": "python3"
  },
  "language_info": {
   "codemirror_mode": {
    "name": "ipython",
    "version": 3
   },
   "file_extension": ".py",
   "mimetype": "text/x-python",
   "name": "python",
   "nbconvert_exporter": "python",
   "pygments_lexer": "ipython3",
   "version": "3.9.13"
  }
 },
 "nbformat": 4,
 "nbformat_minor": 5
}
