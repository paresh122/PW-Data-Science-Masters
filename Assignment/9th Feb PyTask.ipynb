{
 "cells": [
  {
   "cell_type": "markdown",
   "id": "118aca52",
   "metadata": {},
   "source": [
    "Q1, Create a vehicle class with an init method having instance variables as name_of_vehicle, max_speed\n",
    "and average_of_vehicle.\n"
   ]
  },
  {
   "cell_type": "code",
   "execution_count": 1,
   "id": "fb6cdcf1",
   "metadata": {},
   "outputs": [],
   "source": [
    "class Vehicle():\n",
    "    def __init__(self,name_of_vehicle,max_speed,average_of_vehicle):\n",
    "        self.name_of_vehicle = name_of_vehicle\n",
    "        self.max_speed = max_speed\n",
    "        self.average_of_vehicle = average_of_vehicle"
   ]
  },
  {
   "cell_type": "markdown",
   "id": "b86baf4b",
   "metadata": {},
   "source": [
    "Q2. Create a child class car from the vehicle class created in Que 1, which will inherit the vehicle class.\n",
    "Create a method named seating_capacity which takes capacity as an argument and returns the name of\n",
    "the vehicle and its seating capacity.\n"
   ]
  },
  {
   "cell_type": "code",
   "execution_count": 2,
   "id": "1148d93e",
   "metadata": {},
   "outputs": [],
   "source": [
    "class Car(Vehicle):\n",
    "    def seating_capacity(self,capacity):\n",
    "        return self.name_of_vehicle,capacity"
   ]
  },
  {
   "cell_type": "code",
   "execution_count": 3,
   "id": "d0c4d73a",
   "metadata": {},
   "outputs": [
    {
     "data": {
      "text/plain": [
       "('etios', 4)"
      ]
     },
     "execution_count": 3,
     "metadata": {},
     "output_type": "execute_result"
    }
   ],
   "source": [
    "obj_class = Car(\"etios\",180,70)\n",
    "obj_class.seating_capacity(4)"
   ]
  },
  {
   "cell_type": "markdown",
   "id": "6e3bc72c",
   "metadata": {},
   "source": [
    "Q3. What is multiple inheritance? Write a python code to demonstrate multiple inheritance.\n"
   ]
  },
  {
   "cell_type": "code",
   "execution_count": 4,
   "id": "65ebd40a",
   "metadata": {},
   "outputs": [
    {
     "name": "stdout",
     "output_type": "stream",
     "text": [
      "In Class4\n",
      "In Class2\n",
      "In Class3\n",
      "In Class1\n"
     ]
    }
   ],
   "source": [
    "\"\"\"\n",
    "when a class is derived from multiple classes then it would be called multiple inheritance\n",
    "the derived class inherit all the features of class from which it was derived or inherited\n",
    "\"\"\"\n",
    "# Python program to demonstrate\n",
    "# super()\n",
    "\n",
    "class Class1:\n",
    "    def m(self):\n",
    "        print(\"In Class1\")\n",
    "\n",
    "class Class2(Class1):\n",
    "    def m(self):\n",
    "        print(\"In Class2\")\n",
    "        super().m()\n",
    "\n",
    "class Class3(Class1):\n",
    "    def m(self):\n",
    "        print(\"In Class3\")\n",
    "        super().m()\n",
    "\n",
    "class Class4(Class2, Class3):\n",
    "    def m(self):\n",
    "        print(\"In Class4\")\n",
    "        super().m()\n",
    "\n",
    "obj = Class4()\n",
    "obj.m()\n"
   ]
  },
  {
   "cell_type": "markdown",
   "id": "b8a92a03",
   "metadata": {},
   "source": [
    "Q4. What are getter and setter in python? Create a class and create a getter and a setter method in this\n",
    "class.\n"
   ]
  },
  {
   "cell_type": "code",
   "execution_count": 5,
   "id": "0dcdb651",
   "metadata": {},
   "outputs": [
    {
     "data": {
      "text/plain": [
       "'Mayank'"
      ]
     },
     "execution_count": 5,
     "metadata": {},
     "output_type": "execute_result"
    }
   ],
   "source": [
    "\"\"\"\n",
    "Getter and Setter in python are methods which used to access or assign the values of an object's properties\n",
    "they return the value of a specific property and typically defined by using @decorator\n",
    "@property used for getter which generally don't take any input or args \n",
    "@settermethodname.setter used for setter and this takes value which we supposed to assign to \n",
    "if getter and setter have different name than setter name must be of getter method name \n",
    "also to add setter method getter method is must in the class else setter not defined error will be shown\n",
    "\"\"\"\n",
    "\n",
    "class Myclass:\n",
    "    def __init__(self, name ):\n",
    "        self._name = name \n",
    "    \n",
    "    #getter\n",
    "    @property \n",
    "    def get_name(self):\n",
    "        return self._name\n",
    "    \n",
    "    #setter\n",
    "    @get_name.setter   #here we use our getter name\n",
    "    def set_name(self, name):\n",
    "        self._name = name\n",
    "    \n",
    "    \n",
    "    \n",
    "class_obj = Myclass(\"Mayank\")\n",
    "#getting  name via getter\n",
    "class_obj.get_name"
   ]
  },
  {
   "cell_type": "code",
   "execution_count": 6,
   "id": "8ae45ec9",
   "metadata": {},
   "outputs": [
    {
     "data": {
      "text/plain": [
       "'yank'"
      ]
     },
     "execution_count": 6,
     "metadata": {},
     "output_type": "execute_result"
    }
   ],
   "source": [
    "#to set name via setter\n",
    "class_obj.set_name=\"yank\" \n",
    "class_obj.get_name"
   ]
  },
  {
   "cell_type": "markdown",
   "id": "dde25975",
   "metadata": {},
   "source": [
    "Q5.What is method overriding in python? Write a python code to demonstrate method overriding."
   ]
  },
  {
   "cell_type": "code",
   "execution_count": 7,
   "id": "5575c28a",
   "metadata": {},
   "outputs": [],
   "source": [
    "\"\"\"\n",
    "method of changing inherited method in child class from parent class\n",
    "How method overriding could be achieved??\n",
    "simply initialize same method in child class with desired functionalities and we can use parent method too using \n",
    "super() keyword\n",
    "\"\"\"\n",
    "class Shape():\n",
    "    def __init__(self,x,y):\n",
    "        self.x = x \n",
    "        self.y = y \n",
    "    def area(self):\n",
    "        return self.x * self.y\n",
    "class Circle(Shape):\n",
    "    def __init__(self,radius):\n",
    "        self.radius = radius \n",
    "        #to initialize and complete init requirement x,y\n",
    "        super().__init__(radius,radius)\n",
    "    \n",
    "    #overriding Shape area method\n",
    "    def area(self):\n",
    "        return 3.14 * super().area() "
   ]
  },
  {
   "cell_type": "code",
   "execution_count": 8,
   "id": "365414e9",
   "metadata": {},
   "outputs": [
    {
     "data": {
      "text/plain": [
       "15"
      ]
     },
     "execution_count": 8,
     "metadata": {},
     "output_type": "execute_result"
    }
   ],
   "source": [
    "class_obj = Shape(3,5)\n",
    "class_obj.area()"
   ]
  },
  {
   "cell_type": "code",
   "execution_count": 9,
   "id": "d41f5142",
   "metadata": {},
   "outputs": [
    {
     "data": {
      "text/plain": [
       "78.5"
      ]
     },
     "execution_count": 9,
     "metadata": {},
     "output_type": "execute_result"
    }
   ],
   "source": [
    "class_obj = Circle(5)\n",
    "class_obj.area()"
   ]
  }
 ],
 "metadata": {
  "kernelspec": {
   "display_name": "Python 3 (ipykernel)",
   "language": "python",
   "name": "python3"
  },
  "language_info": {
   "codemirror_mode": {
    "name": "ipython",
    "version": 3
   },
   "file_extension": ".py",
   "mimetype": "text/x-python",
   "name": "python",
   "nbconvert_exporter": "python",
   "pygments_lexer": "ipython3",
   "version": "3.9.13"
  }
 },
 "nbformat": 4,
 "nbformat_minor": 5
}
