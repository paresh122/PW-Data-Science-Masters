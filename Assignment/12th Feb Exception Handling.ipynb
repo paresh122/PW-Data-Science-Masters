{
 "cells": [
  {
   "cell_type": "markdown",
   "id": "3ece6d2d",
   "metadata": {},
   "source": [
    "Q1. What is an Exception in python? Write the difference between Exceptions and Syntax errors."
   ]
  },
  {
   "cell_type": "code",
   "execution_count": 1,
   "id": "364a5031",
   "metadata": {
    "collapsed": true
   },
   "outputs": [
    {
     "data": {
      "text/plain": [
       "'\\nException can be an error, that cause an program to crash, unlike syntax error, \\ncode is syntactically correct and occure due to our negligance and during run time\\n\\nException occurs majorily at run time ie. during execution whereas, \\nsyntax error could be detected and warned about them before execution\\nby the compiler or IDE in which we are working\\n'"
      ]
     },
     "execution_count": 1,
     "metadata": {},
     "output_type": "execute_result"
    }
   ],
   "source": [
    "\"\"\"\n",
    "Exception can be an error, that cause an program to crash, unlike syntax error, \n",
    "code is syntactically correct and occure due to our negligance and during run time\n",
    "\n",
    "Exception occurs majorily at run time ie. during execution whereas, \n",
    "syntax error could be detected and warned about them before execution\n",
    "by the compiler or IDE in which we are working\n",
    "\"\"\""
   ]
  },
  {
   "cell_type": "markdown",
   "id": "99b294bd",
   "metadata": {},
   "source": [
    "Q2. What happens when an exception is not handled? Explain with an example."
   ]
  },
  {
   "cell_type": "code",
   "execution_count": 5,
   "id": "7946a25e",
   "metadata": {},
   "outputs": [
    {
     "name": "stdout",
     "output_type": "stream",
     "text": [
      "[0, 1, 2, 3, 4, 5, 6, 7, 8, 9]\n"
     ]
    },
    {
     "ename": "IndexError",
     "evalue": "list index out of range",
     "output_type": "error",
     "traceback": [
      "\u001b[1;31m------------------------------------------------------------\u001b[0m",
      "\u001b[1;31mIndexError\u001b[0m                 Traceback (most recent call last)",
      "\u001b[1;32m~\\AppData\\Local\\Temp\\ipykernel_276\\345901910.py\u001b[0m in \u001b[0;36m<module>\u001b[1;34m\u001b[0m\n\u001b[0;32m      9\u001b[0m \u001b[1;32mfor\u001b[0m \u001b[0mi\u001b[0m \u001b[1;32min\u001b[0m \u001b[0mrange\u001b[0m\u001b[1;33m(\u001b[0m\u001b[0mlen\u001b[0m\u001b[1;33m(\u001b[0m\u001b[0mlis1\u001b[0m\u001b[1;33m)\u001b[0m\u001b[1;33m+\u001b[0m\u001b[1;36m1\u001b[0m\u001b[1;33m)\u001b[0m\u001b[1;33m:\u001b[0m\u001b[1;33m\u001b[0m\u001b[1;33m\u001b[0m\u001b[0m\n\u001b[0;32m     10\u001b[0m      \u001b[1;31m#here we aren't doing nothing just to show exception of we didn't catch\u001b[0m\u001b[1;33m\u001b[0m\u001b[1;33m\u001b[0m\u001b[0m\n\u001b[1;32m---> 11\u001b[1;33m     \u001b[0mlis\u001b[0m\u001b[1;33m.\u001b[0m\u001b[0mappend\u001b[0m\u001b[1;33m(\u001b[0m\u001b[0mlis1\u001b[0m\u001b[1;33m[\u001b[0m\u001b[0mi\u001b[0m\u001b[1;33m]\u001b[0m\u001b[1;33m)\u001b[0m\u001b[1;33m\u001b[0m\u001b[1;33m\u001b[0m\u001b[0m\n\u001b[0m\u001b[0;32m     12\u001b[0m \u001b[1;33m\u001b[0m\u001b[0m\n\u001b[0;32m     13\u001b[0m \u001b[0mprint\u001b[0m\u001b[1;33m(\u001b[0m\u001b[0mlis\u001b[0m\u001b[1;33m)\u001b[0m \u001b[1;31m# this will not be printed as befor this exception occured and we didn't handle that\u001b[0m\u001b[1;33m\u001b[0m\u001b[1;33m\u001b[0m\u001b[0m\n",
      "\u001b[1;31mIndexError\u001b[0m: list index out of range"
     ]
    }
   ],
   "source": [
    "\"\"\"\n",
    "if there's an exception raised by our code and not handled it will halt our execution \n",
    "and no further code will be executed \n",
    "\"\"\"\n",
    "#we are trying to access elements of list out of its index\n",
    "lis1 = list(range(0,10))\n",
    "lis = []\n",
    "print(lis1)\n",
    "for i in range(len(lis1)+1):\n",
    "     #here we aren't doing nothing just to show exception of we didn't catch \n",
    "    lis.append(lis1[i])\n",
    "\n",
    "print(lis) # this will not be printed as befor this exception occured and we didn't handle that\n",
    "print(len(lis1)) \n",
    "#the only thing print is 8th line print statement and then at 11th line we got error "
   ]
  },
  {
   "cell_type": "markdown",
   "id": "5d350592",
   "metadata": {},
   "source": [
    "now same code with exception handling"
   ]
  },
  {
   "cell_type": "code",
   "execution_count": 8,
   "id": "165c21af",
   "metadata": {},
   "outputs": [
    {
     "name": "stdout",
     "output_type": "stream",
     "text": [
      "Our code get some errors  list index out of range\n",
      "[0, 1, 2, 3, 4, 5, 6, 7, 8, 9]\n",
      "[0, 1, 2, 3, 4, 5, 6, 7, 8, 9]\n"
     ]
    }
   ],
   "source": [
    "lis1 = list(range(0,10))\n",
    "lis  =[]\n",
    "try : \n",
    "    for i in range(len(lis1)+1):\n",
    "        lis.append(lis1[i])\n",
    "    print(lis)   # as we raise exception code will not be excepte untill we handle it\n",
    "    print(lis1)\n",
    "except Exception as e:\n",
    "    print(\"Our code get some errors \", e)\n",
    "print(lis)\n",
    "print(lis1)"
   ]
  },
  {
   "cell_type": "markdown",
   "id": "af9d4ede",
   "metadata": {},
   "source": [
    "Q3. Which Python statements are used to catch and handle exceptions? Explain with an example."
   ]
  },
  {
   "cell_type": "code",
   "execution_count": 12,
   "id": "483f8fb0",
   "metadata": {},
   "outputs": [
    {
     "name": "stdout",
     "output_type": "stream",
     "text": [
      "Enter a number: 2\n",
      "Enter another number: 0\n",
      "Error: Division by zero\n"
     ]
    }
   ],
   "source": [
    "\"\"\"\n",
    "In python Try used to raise the exception and except used handle that exception \n",
    "The code we assumed to raise exception put in try statement and to catch and handle it \n",
    "except statement comes into \n",
    "In below piece of code it take 2 user input and raise errors \n",
    "just two kind of error except statement catch and handle which we defined in except block \n",
    "\"ZeroDivisionError\" when user pass Zero in denominator and \n",
    "\"ValueError\" when user pass string or something other than integer \n",
    "\"\"\"\n",
    "\n",
    "try:\n",
    "    x = int(input(\"Enter a number: \"))\n",
    "    y = int(input(\"Enter another number: \"))\n",
    "    result = x / y\n",
    "    print(\"The result is:\", result)\n",
    "except ZeroDivisionError:\n",
    "    print(\"Error: Division by zero\")\n",
    "except ValueError:\n",
    "    print(\"Error: Invalid input\")\n"
   ]
  },
  {
   "cell_type": "markdown",
   "id": "6a8aa58a",
   "metadata": {},
   "source": [
    "Q4. Explain with an example:\n",
    "- Try and else\n",
    "- finally\n",
    "- raise"
   ]
  },
  {
   "cell_type": "code",
   "execution_count": 16,
   "id": "d4af2d8b",
   "metadata": {},
   "outputs": [
    {
     "name": "stdout",
     "output_type": "stream",
     "text": [
      "Enter a number: 2.2\n",
      "code encounter runtime exception  invalid literal for int() with base 10: '2.2'\n"
     ]
    }
   ],
   "source": [
    "## Try and else \n",
    "#else statement block runs only when try completed without exception\n",
    "try: \n",
    "    x = int(input(\"Enter a number: \"))\n",
    "    print(f\"cube of {x} is : \",x**3)\n",
    "except Exception as e: \n",
    "    print(\"code encounter runtime exception \",e)\n",
    "else: \n",
    "    print('this else runs when no exception in try block')"
   ]
  },
  {
   "cell_type": "code",
   "execution_count": 20,
   "id": "6a98a603",
   "metadata": {},
   "outputs": [
    {
     "name": "stdout",
     "output_type": "stream",
     "text": [
      "Exception handled: not writable\n",
      "file closed\n"
     ]
    }
   ],
   "source": [
    "#finally \n",
    "# finally statements doesn't depend on any exception they will run for sure after try except block\n",
    "try: \n",
    "    file = open(\"test.txt\",'r')\n",
    "    file.write(\"this is where exception occurs\") #as we open in read mode and performing write ops\n",
    "except Exception as e : \n",
    "    print(\"Exception handled:\" ,e )\n",
    "else:\n",
    "    print(\"file write ops complete\")\n",
    "finally: \n",
    "    print(\"file closed\")\n",
    "    file.close()"
   ]
  },
  {
   "cell_type": "code",
   "execution_count": 24,
   "id": "1519a3ab",
   "metadata": {},
   "outputs": [
    {
     "name": "stdout",
     "output_type": "stream",
     "text": [
      "Enter the employer salary: 234565\n",
      "\n",
      "\n",
      "Congrats For a new start in the company with a salary 234565\n"
     ]
    }
   ],
   "source": [
    "#raise\n",
    "# used to manually calling inbuilt or user defined exception\n",
    "try: \n",
    "    salary = int(input(\"Enter the employer salary: \"))\n",
    "    if salary<10000:\n",
    "        raise ValueError\n",
    "    else: \n",
    "        print(\"\\n\\nCongrats For a new start in the company with a salary\",salary)\n",
    "except ValueError as v:\n",
    "    print(\"enter salary according to govt norms of Minimum wages\")"
   ]
  },
  {
   "cell_type": "markdown",
   "id": "3cee06a7",
   "metadata": {},
   "source": [
    "Q5. What are Custom Exceptions in python? Why do we need Custom Exceptions? Explain with an example."
   ]
  },
  {
   "cell_type": "code",
   "execution_count": 29,
   "id": "4cfc57e6",
   "metadata": {},
   "outputs": [
    {
     "name": "stdout",
     "output_type": "stream",
     "text": [
      "List validated\n"
     ]
    },
    {
     "ename": "validateList",
     "evalue": "List entered has odd no. of elements\n enter list containing even no. of element",
     "output_type": "error",
     "traceback": [
      "\u001b[1;31m------------------------------------------------------------\u001b[0m",
      "\u001b[1;31mvalidateList\u001b[0m               Traceback (most recent call last)",
      "\u001b[1;32m~\\AppData\\Local\\Temp\\ipykernel_276\\1216972578.py\u001b[0m in \u001b[0;36m<module>\u001b[1;34m\u001b[0m\n\u001b[0;32m     17\u001b[0m \u001b[0ml2\u001b[0m \u001b[1;33m=\u001b[0m \u001b[1;33m[\u001b[0m\u001b[1;36m32\u001b[0m\u001b[1;33m,\u001b[0m\u001b[1;36m2\u001b[0m\u001b[1;33m,\u001b[0m\u001b[1;36m3\u001b[0m\u001b[1;33m,\u001b[0m\u001b[1;36m7\u001b[0m\u001b[1;33m,\u001b[0m\u001b[1;36m83\u001b[0m\u001b[1;33m]\u001b[0m\u001b[1;33m\u001b[0m\u001b[1;33m\u001b[0m\u001b[0m\n\u001b[0;32m     18\u001b[0m \u001b[0mvalidate_list\u001b[0m\u001b[1;33m(\u001b[0m\u001b[0ml1\u001b[0m\u001b[1;33m)\u001b[0m\u001b[1;33m\u001b[0m\u001b[1;33m\u001b[0m\u001b[0m\n\u001b[1;32m---> 19\u001b[1;33m \u001b[0mvalidate_list\u001b[0m\u001b[1;33m(\u001b[0m\u001b[0ml2\u001b[0m\u001b[1;33m)\u001b[0m\u001b[1;33m\u001b[0m\u001b[1;33m\u001b[0m\u001b[0m\n\u001b[0m\u001b[0;32m     20\u001b[0m \u001b[0mvalidate_list\u001b[0m\u001b[1;33m(\u001b[0m\u001b[0ml1\u001b[0m\u001b[1;33m)\u001b[0m\u001b[1;33m\u001b[0m\u001b[1;33m\u001b[0m\u001b[0m\n",
      "\u001b[1;32m~\\AppData\\Local\\Temp\\ipykernel_276\\1216972578.py\u001b[0m in \u001b[0;36mvalidate_list\u001b[1;34m(list_)\u001b[0m\n\u001b[0;32m     10\u001b[0m \u001b[1;32mdef\u001b[0m \u001b[0mvalidate_list\u001b[0m\u001b[1;33m(\u001b[0m\u001b[0mlist_\u001b[0m\u001b[1;33m)\u001b[0m\u001b[1;33m:\u001b[0m\u001b[1;33m\u001b[0m\u001b[1;33m\u001b[0m\u001b[0m\n\u001b[0;32m     11\u001b[0m     \u001b[1;32mif\u001b[0m \u001b[0mlen\u001b[0m\u001b[1;33m(\u001b[0m\u001b[0mlist_\u001b[0m\u001b[1;33m)\u001b[0m\u001b[1;33m%\u001b[0m\u001b[1;36m2\u001b[0m \u001b[1;33m!=\u001b[0m \u001b[1;36m0\u001b[0m\u001b[1;33m:\u001b[0m\u001b[1;33m\u001b[0m\u001b[1;33m\u001b[0m\u001b[0m\n\u001b[1;32m---> 12\u001b[1;33m         \u001b[1;32mraise\u001b[0m \u001b[0mvalidateList\u001b[0m\u001b[1;33m(\u001b[0m\u001b[1;34m\"List entered has odd no. of elements\\n enter list containing even no. of element\"\u001b[0m\u001b[1;33m)\u001b[0m\u001b[1;33m\u001b[0m\u001b[1;33m\u001b[0m\u001b[0m\n\u001b[0m\u001b[0;32m     13\u001b[0m     \u001b[1;32melse\u001b[0m\u001b[1;33m:\u001b[0m\u001b[1;33m\u001b[0m\u001b[1;33m\u001b[0m\u001b[0m\n\u001b[0;32m     14\u001b[0m         \u001b[0mprint\u001b[0m\u001b[1;33m(\u001b[0m\u001b[1;34m\"List validated\"\u001b[0m\u001b[1;33m)\u001b[0m\u001b[1;33m\u001b[0m\u001b[1;33m\u001b[0m\u001b[0m\n",
      "\u001b[1;31mvalidateList\u001b[0m: List entered has odd no. of elements\n enter list containing even no. of element"
     ]
    }
   ],
   "source": [
    "\"\"\"\n",
    "create his own exceptions and raise explicitly for corresponding scenarios in these we are in control \n",
    "what exception can do, and when it to be raised using \"raise\" keyword\n",
    "\n",
    "like if we are taking user input and user input some value other than int like float than raise exception \n",
    "or like in below example where exception raised when list length is odd\n",
    "\"\"\"\n",
    "# raise exception if list has odd number of elements  \n",
    "class validateList(Exception):\n",
    "    def __init__(self, msg):\n",
    "        self.msg = msg \n",
    "\n",
    "\n",
    "def validate_list(list_):\n",
    "    if len(list_)%2 != 0:\n",
    "        raise validateList(\"List entered has odd no. of elements\\n enter list containing even no. of element\")\n",
    "    else: \n",
    "        print(\"List validated\")\n",
    "\n",
    "l1 = [1,2,34,6,7,6]\n",
    "l2 = [32,2,3,7,83]\n",
    "validate_list(l1)\n",
    "validate_list(l2)"
   ]
  },
  {
   "cell_type": "markdown",
   "id": "5e504afd",
   "metadata": {},
   "source": [
    "Q6. Create a custom exception class. Use this class to handle an exception."
   ]
  },
  {
   "cell_type": "code",
   "execution_count": 56,
   "id": "773f0029",
   "metadata": {},
   "outputs": [
    {
     "name": "stdout",
     "output_type": "stream",
     "text": [
      "Enter a number: 0\n",
      "Invalid value, Zero not allowed\n",
      "Enter a number: 0\n",
      "Invalid value, Zero not allowed\n",
      "Enter a number: 9\n",
      "Enter a number: 8\n",
      "Enter a number: 2\n",
      "[9, 8, 2]\n"
     ]
    }
   ],
   "source": [
    "class Error(Exception):\n",
    "    def __init__(self, msg):\n",
    "        print(msg)\n",
    "        \n",
    "        \n",
    "listt = []\n",
    "for i in range(0,5):\n",
    "    try:\n",
    "        i_num = int(input(\"Enter a number: \"))\n",
    "        if i_num == 0:\n",
    "            raise Error(\"Invalid value, Zero not allowed\")\n",
    "        else:\n",
    "            listt.append(i_num)\n",
    "    except Error:\n",
    "        pass\n",
    "print(listt)"
   ]
  }
 ],
 "metadata": {
  "kernelspec": {
   "display_name": "Python 3 (ipykernel)",
   "language": "python",
   "name": "python3"
  },
  "language_info": {
   "codemirror_mode": {
    "name": "ipython",
    "version": 3
   },
   "file_extension": ".py",
   "mimetype": "text/x-python",
   "name": "python",
   "nbconvert_exporter": "python",
   "pygments_lexer": "ipython3",
   "version": "3.9.13"
  }
 },
 "nbformat": 4,
 "nbformat_minor": 5
}
