{
 "cells": [
  {
   "cell_type": "markdown",
   "id": "8ca366db",
   "metadata": {},
   "source": [
    "Q1. Create a function which will take a list as an argument and return the product of all the numbers\n",
    "after creating a flat list.\n",
    "Use the below-given list as an argument for your function.\n",
    "list1 = [1,2,3,4, [44,55,66, True], False, (34,56,78,89,34), {1,2,3,3,2,1}, {1:34, \"key2\": [55, 67, 78, 89], 4: (45,\n",
    "22, 61, 34)}, [56, 'data science'], 'Machine Learning']\n",
    "Note: you must extract numeric keys and values of the dictionary also.\n"
   ]
  },
  {
   "cell_type": "code",
   "execution_count": 39,
   "id": "4f1d4c52",
   "metadata": {},
   "outputs": [
    {
     "name": "stdout",
     "output_type": "stream",
     "text": [
      "[1, 2, 3, 4, 44, 55, 66, 34, 56, 78, 89, 34, 1, 2, 3, 34, 55, 67, 78, 89, 45, 22, 61, 34, 56]\n"
     ]
    },
    {
     "data": {
      "text/plain": [
       "1033677959746771369708460310528000"
      ]
     },
     "execution_count": 39,
     "metadata": {},
     "output_type": "execute_result"
    }
   ],
   "source": [
    "from functools import reduce\n",
    "list1 = [1,2,3,4, [44,55,66, True], False, \n",
    "         (34,56,78,89,34), {1,2,3,3,2,1}, \n",
    "         {1:34, \"key2\": [55, 67, 78, 89], 4: (45,22, 61, 34)}, [56, 'data science'], 'Machine Learning']\n",
    "lis =[]\n",
    "for i in list1:\n",
    "    if type(i) == int:\n",
    "        lis.append(i)\n",
    "    elif type(i) == list or type(i)== tuple or type(i)== set:\n",
    "        for j in i: \n",
    "            if type(j) == int:\n",
    "                lis.append(j)\n",
    "            else:\n",
    "                pass\n",
    "    #dict type handler\n",
    "    elif type(i) == dict: \n",
    "        for j in i.values():\n",
    "            if type(j) == int: \n",
    "                lis.append(j)\n",
    "            elif type(j) == list or type(j) == tuple or type(j) == set:\n",
    "                for k in j: \n",
    "                    lis.append(k)\n",
    "    else:\n",
    "        pass\n",
    "print(lis)\n",
    "\n",
    "pro_lis = reduce(lambda x,y:x*y,lis)\n",
    "pro_lis"
   ]
  },
  {
   "cell_type": "code",
   "execution_count": null,
   "id": "26d1f01c",
   "metadata": {},
   "outputs": [],
   "source": [
    "Q2. Write a python program for encrypting a message sent to you by your friend. The logic of encryption\n",
    "should be such that, for a the output should be z. For b, the output should be y. For c, the output should\n",
    "be x respectively. Also, the whitespace should be replaced with a dollar sign. Keep the punctuation\n",
    "marks unchanged.\n",
    "Input Sentence: I want to become a Data Scientist.\n",
    "Encrypt the above input sentence using the program you just created.\n",
    "Note: Convert the given input sentence into lowercase before encrypting. The final output should be\n",
    "lowercase."
   ]
  },
  {
   "cell_type": "code",
   "execution_count": 115,
   "id": "a903459b",
   "metadata": {},
   "outputs": [
    {
     "name": "stdout",
     "output_type": "stream",
     "text": [
      "r$dzmg$gl$yvxlnv$z$wzgz$hxrvmgrhg\n"
     ]
    }
   ],
   "source": [
    "inpt = \"I want to become a Data Scientist\"\n",
    "alpha =    \"abcdefghijklmnopqrstuvwxyz\"\n",
    "re_alpha = \"zyxwvutsrqponmlkjihgfedcba\"\n",
    "inpt = list(inpt.lower())\n",
    "# print(inpt)\n",
    "for i in range(len(inpt)): \n",
    "    if inpt[i] == \" \": \n",
    "        inpt[i] =\"$\"\n",
    "    elif inpt[i].isalpha():\n",
    "        indx = alpha.find(inpt[i])\n",
    "        inpt[i] = re_alpha[indx]\n",
    "    else: \n",
    "        pass \n",
    "# print(inpt)\n",
    "encrpt_msg = \"\"\n",
    "print(encrpt_msg.join(inpt))"
   ]
  }
 ],
 "metadata": {
  "kernelspec": {
   "display_name": "Python 3 (ipykernel)",
   "language": "python",
   "name": "python3"
  },
  "language_info": {
   "codemirror_mode": {
    "name": "ipython",
    "version": 3
   },
   "file_extension": ".py",
   "mimetype": "text/x-python",
   "name": "python",
   "nbconvert_exporter": "python",
   "pygments_lexer": "ipython3",
   "version": "3.9.13"
  }
 },
 "nbformat": 4,
 "nbformat_minor": 5
}
