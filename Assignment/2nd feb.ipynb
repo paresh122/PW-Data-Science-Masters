{
 "cells": [
  {
   "cell_type": "markdown",
   "id": "9385254b",
   "metadata": {},
   "source": [
    "Q1. What are the characteristics of the tuples? Is tuple immutable?"
   ]
  },
  {
   "cell_type": "code",
   "execution_count": null,
   "id": "12ab757d",
   "metadata": {},
   "outputs": [],
   "source": [
    "Tuples have the following characteristics:\n",
    "    \n",
    "They are indexed\n",
    "Tuples are ordered\n",
    "These are immutable\n",
    "They can contain duplicate items\n",
    "\n",
    "yes,tuples are immutable"
   ]
  },
  {
   "cell_type": "markdown",
   "id": "a1cc2bce",
   "metadata": {},
   "source": [
    "Q2. What are the two tuple methods in python? Give an example of each method. Give a reason why\n",
    "tuples have only two in-built methods as compared to Lists."
   ]
  },
  {
   "cell_type": "markdown",
   "id": "bd84aa9e",
   "metadata": {},
   "source": [
    "There are only two tuple methods count() and index().\n",
    "\n",
    "example of count():\n",
    "\n",
    "vowels = ('a', 'e', 'i', 'o', 'i', 'u')\n",
    "count = vowels.count('i')\n",
    "print(count)\n",
    "\n",
    "example of index():\n",
    "\n",
    "vowels = ('a', 'e', 'i', 'o', 'i', 'u')\n",
    "index = val.index('e')\n",
    "print(\"Index of e is: \",index) \n",
    "\n",
    "why tuple have only two in-build methhood as compared to list because tuples are immutable.ie onece we create the tuple then we cannot change elements in that.so we cannot apply methoods like append(),insert(),sort() that are available in  list.hence only there are two inbild methoods in tuple."
   ]
  },
  {
   "cell_type": "markdown",
   "id": "0e21460b",
   "metadata": {},
   "source": [
    "Q3. Which collection datatypes in python do not allow duplicate items? Write a code using a set to remove\n",
    "duplicates from the given list.\n",
    "List = [1, 1, 1, 2, 1, 3, 1, 4, 2, 1, 2, 2, 2, 3, 2, 4, 3, 1, 3, 2, 3, 3, 3, 4, 4, 1, 4, 2, 4, 3, 4, 4]"
   ]
  },
  {
   "cell_type": "markdown",
   "id": "fd753e03",
   "metadata": {},
   "source": [
    "set is a collection in python which do not allow duplicate items.\n",
    "code =>"
   ]
  },
  {
   "cell_type": "code",
   "execution_count": 4,
   "id": "29912115",
   "metadata": {},
   "outputs": [
    {
     "name": "stdout",
     "output_type": "stream",
     "text": [
      "The list after removing duplicates : [1, 2, 3, 4]\n"
     ]
    }
   ],
   "source": [
    "List = [1, 1, 1, 2, 1, 3, 1, 4, 2, 1, 2, 2, 2, 3, 2, 4, 3, 1, 3, 2, 3, 3, 3, 4, 4, 1, 4, 2, 4, 3, 4, 4]\n",
    "test_list = list(set(List))\n",
    "print (\"The list after removing duplicates : \"\n",
    "        + str(test_list))"
   ]
  },
  {
   "cell_type": "markdown",
   "id": "58844832",
   "metadata": {},
   "source": [
    "Q4. Explain the difference between the union() and update() methods for a set. Give an example of\n",
    "each method."
   ]
  },
  {
   "cell_type": "markdown",
   "id": "f20197be",
   "metadata": {},
   "source": [
    "Both set.update() and set.union() perform the union operation. However, set.update() adds all missing elements to the set on which it is called whereas set.union() creates a new set. Consequently, the return value of set.update() is None (with side effects) and the return value of set.union() is a set (without side effects)."
   ]
  },
  {
   "cell_type": "code",
   "execution_count": 5,
   "id": "7f37a2b0",
   "metadata": {},
   "outputs": [
    {
     "data": {
      "text/plain": [
       "{1, 2, 3, 4, 5}"
      ]
     },
     "execution_count": 5,
     "metadata": {},
     "output_type": "execute_result"
    }
   ],
   "source": [
    "#example of update\n",
    "s = {1, 2, 3}\n",
    "s.update({4, 5})\n",
    "s\n"
   ]
  },
  {
   "cell_type": "code",
   "execution_count": 6,
   "id": "752881c8",
   "metadata": {},
   "outputs": [
    {
     "data": {
      "text/plain": [
       "{1, 2, 3, 4, 5}"
      ]
     },
     "execution_count": 6,
     "metadata": {},
     "output_type": "execute_result"
    }
   ],
   "source": [
    "#example of union\n",
    "s = {1, 2, 3}\n",
    "s.union({4, 5})\n"
   ]
  },
  {
   "cell_type": "markdown",
   "id": "cbbad786",
   "metadata": {},
   "source": [
    "Q6. Can we create a nested dictionary? If so, please give an example by creating a simple one-level\n",
    "nested dictionary."
   ]
  },
  {
   "cell_type": "markdown",
   "id": "951cb788",
   "metadata": {},
   "source": [
    "yes,we can create nested dictionary.\n",
    "example:\n",
    "nested_dict = { 'dictA': {'key_1': 'value_1'},\n",
    "                'dictB': {'key_2': 'value_2'}}"
   ]
  },
  {
   "cell_type": "markdown",
   "id": "bca2c06a",
   "metadata": {},
   "source": [
    "Q7. Using setdefault() method, create key named topics in the given dictionary and also add the value of\n",
    "the key as this list ['Python', 'Machine Learning’, 'Deep Learning']\n",
    "dict1 = {'language' : 'Python', 'course': 'Data Science Masters'}"
   ]
  },
  {
   "cell_type": "code",
   "execution_count": 7,
   "id": "5cf860d0",
   "metadata": {},
   "outputs": [],
   "source": [
    "dict1 = {'language' : 'Python', 'course': 'Data Science Masters'}"
   ]
  },
  {
   "cell_type": "code",
   "execution_count": 30,
   "id": "4d0384b1",
   "metadata": {},
   "outputs": [
    {
     "data": {
      "text/plain": [
       "{'language': 'Python', 'course': 'Data Science Masters', 'topics': 'python'}"
      ]
     },
     "execution_count": 30,
     "metadata": {},
     "output_type": "execute_result"
    }
   ],
   "source": [
    "x=dict1.setdefault('topics',['python','Machine Learning','Deep Learning'])\n",
    "dict1"
   ]
  },
  {
   "cell_type": "markdown",
   "id": "d8481335",
   "metadata": {},
   "source": [
    "Q8. What are the three view objects in dictionaries? Use the three in-built methods in python to display\n",
    "these three view objects for the given dictionary.\n",
    "dict1 = {'Sport': 'Cricket' , 'Teams': ['India', 'Australia', 'England', 'South Africa', 'Sri Lanka', 'New Zealand']}"
   ]
  },
  {
   "cell_type": "markdown",
   "id": "a00566ee",
   "metadata": {},
   "source": [
    "The main view objects of dictionary are keys, values and items."
   ]
  },
  {
   "cell_type": "code",
   "execution_count": 39,
   "id": "ab914d58",
   "metadata": {},
   "outputs": [
    {
     "name": "stdout",
     "output_type": "stream",
     "text": [
      "keys are: \n",
      " dict_keys(['Sport', 'Teams'])\n",
      "values are: \n",
      " dict_values(['Cricket', ['India', 'Australia', 'England', 'South Africa', 'Sri Lanka', 'New Zealand']])\n",
      "items are: \n",
      " dict_items([('Sport', 'Cricket'), ('Teams', ['India', 'Australia', 'England', 'South Africa', 'Sri Lanka', 'New Zealand'])])\n"
     ]
    }
   ],
   "source": [
    "dict1 = {'Sport': 'Cricket' , 'Teams': ['India', 'Australia', 'England', 'South Africa', 'Sri Lanka', 'New Zealand']}\n",
    "keys= dict1.keys()\n",
    "values=dict1.values()\n",
    "items=dict1.items()\n",
    "print(f\"keys are: \\n\",keys)\n",
    "print(f\"values are: \\n\",values)\n",
    "print(f\"items are: \\n\",items)"
   ]
  },
  {
   "cell_type": "code",
   "execution_count": null,
   "id": "78badf7a",
   "metadata": {},
   "outputs": [],
   "source": []
  }
 ],
 "metadata": {
  "kernelspec": {
   "display_name": "Python 3 (ipykernel)",
   "language": "python",
   "name": "python3"
  },
  "language_info": {
   "codemirror_mode": {
    "name": "ipython",
    "version": 3
   },
   "file_extension": ".py",
   "mimetype": "text/x-python",
   "name": "python",
   "nbconvert_exporter": "python",
   "pygments_lexer": "ipython3",
   "version": "3.9.7"
  }
 },
 "nbformat": 4,
 "nbformat_minor": 5
}
