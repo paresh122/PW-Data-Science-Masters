{
 "cells": [
  {
   "attachments": {},
   "cell_type": "markdown",
   "metadata": {},
   "source": [
    "<a id=\"0\"></a>\n",
    "\n",
    "# <p style=\"padding:10px;background-color:#87CEEB ;margin:10;color:#000000;font-family:newtimeroman;font-size:100%;text-align:center;border-radius: 10px 10px ;overflow:hidden;font-weight:50\">Assignment  19: Flask 2 - Paresh Patil</p>"
   ]
  },
  {
   "attachments": {},
   "cell_type": "markdown",
   "metadata": {},
   "source": [
    "<a id=\"1\"></a>\n",
    "\n",
    "# <p style=\"padding:10px;background-color:#87CEEB ;margin:10;color:#000000;font-family:newtimeroman;font-size:100%;text-align:center;border-radius: 10px 10px ;overflow:hidden;font-weight:50\">Question 1</p>"
   ]
  },
  {
   "attachments": {},
   "cell_type": "markdown",
   "metadata": {},
   "source": [
    "## Question 1: Explain GET and POST methods.\n",
    "---"
   ]
  },
  {
   "attachments": {},
   "cell_type": "markdown",
   "metadata": {},
   "source": [
    "## Answer:\n",
    "\n",
    "### GET and POST are two HTTP methods used to communicate with a web server to retrieve or send data. Here's how they work:\n",
    "\n",
    "### 1. GET method:\n",
    "GET is a request method used to retrieve data from the server. When you use a web browser to visit a web page, you are sending a GET request to the server, which then responds by sending back the requested data. The data can be in the form of HTML, XML, JSON, or other formats.\n",
    "\n",
    "Some characteristics of the GET method are:\n",
    "\n",
    "* It is a safe and idempotent method, meaning that it does not modify the server's state and can be repeated multiple times without causing side effects.\n",
    "* The data is sent in the URL query string, which is visible in the browser's address bar and can be bookmarked or shared.\n",
    "* The amount of data that can be sent is limited by the maximum length of the URL, typically around 2048 characters.\n",
    "\n",
    "Some common use cases for the GET method are:\n",
    "\n",
    "* Retrieving a web page or a specific resource (such as an image or a file) from a server.\n",
    "* Searching for data in a database or an API by providing query parameters in the URL.\n",
    "* Providing navigation links or pagination controls in a web application.\n",
    "\n",
    "### 2. Post Method\n",
    "POST is a request method used to send data to the server. When you submit a web form or upload a file, you are sending a POST request to the server, which then processes the data and responds with a status code and possibly a message or a redirection.\n",
    "\n",
    "Some characteristics of the POST method are:\n",
    "\n",
    "* It is not a safe or idempotent method, meaning that it can modify the server's state and may have side effects.\n",
    "* The data is sent in the body of the request, which is not visible in the browser's address bar and cannot be bookmarked or shared.\n",
    "* The amount of data that can be sent is not limited by the URL length, but it may be limited by the server's configuration or the client's network.\n",
    "\n",
    "Some common use cases for the POST method are:\n",
    "\n",
    "* Creating a new resource on the server, such as a new user account, a new blog post, or a new order.\n",
    "* Updating an existing resource on the server, such as changing the password of a user account or editing a blog post.\n",
    "* Submitting a large amount of data that cannot be sent via the URL, such as a file upload or a form with many fields."
   ]
  },
  {
   "attachments": {},
   "cell_type": "markdown",
   "metadata": {},
   "source": [
    "<a id=\"2\"></a>\n",
    "\n",
    "# <p style=\"padding:10px;background-color:#87CEEB ;margin:10;color:#000000;font-family:newtimeroman;font-size:100%;text-align:center;border-radius: 10px 10px ;overflow:hidden;font-weight:50\">Question 2</p>"
   ]
  },
  {
   "attachments": {},
   "cell_type": "markdown",
   "metadata": {},
   "source": [
    "## Question 2: Why is request used in Flask?\n",
    "---"
   ]
  },
  {
   "attachments": {},
   "cell_type": "markdown",
   "metadata": {},
   "source": [
    "## Answer :\n",
    "\n",
    "### Request is used in Flask to handle incoming HTTP requests from clients such as web browsers or mobile applications.\n",
    "\n",
    "When a client sends an HTTP request to a Flask application, the request data is sent to the server as part of the HTTP message. The request can contain various data such as parameters, headers, cookies, and form data, depending on the type of request.\n",
    "\n",
    "The Flask request object provides a way to access and manipulate the data of an incoming request. It is a global object that can be imported from the flask module and used in Flask view functions to extract information from the request.\n",
    "\n",
    "Here are some of the functionalities provided by the Flask request object:\n",
    "\n",
    "1. Accessing the request method (GET, POST, etc.), URL, headers, and cookies.\n",
    "2. Retrieving the values of query parameters and form data submitted by the client.\n",
    "3. Uploading files sent by the client and saving them on the server.\n",
    "4. Handling sessions and user authentication.\n",
    "\n",
    "In summary, the Flask request object is an essential part of Flask web development, as it allows developers to interact with incoming client requests and extract the necessary data to provide an appropriate response."
   ]
  },
  {
   "attachments": {},
   "cell_type": "markdown",
   "metadata": {},
   "source": [
    "### Below is simple example of using get request in flask"
   ]
  },
  {
   "cell_type": "code",
   "execution_count": 5,
   "metadata": {},
   "outputs": [
    {
     "name": "stdout",
     "output_type": "stream",
     "text": [
      "Please use URL as follows : http://127.0.0.1:5000/hello?name=Utkarsh\n",
      "\n",
      " * Serving Flask app '__main__'\n",
      " * Debug mode: off\n"
     ]
    },
    {
     "name": "stderr",
     "output_type": "stream",
     "text": [
      "WARNING: This is a development server. Do not use it in a production deployment. Use a production WSGI server instead.\n",
      " * Running on http://127.0.0.1:5000\n",
      "Press CTRL+C to quit\n",
      "127.0.0.1 - - [21/Feb/2023 00:32:32] \"GET /hello?name=Utkarsh HTTP/1.1\" 200 -\n"
     ]
    }
   ],
   "source": [
    "from flask import Flask, request\n",
    "\n",
    "app = Flask(__name__)\n",
    "\n",
    "# Creating a get request for route\n",
    "# write the url as follows https://127.0.0.1:5000/hello?name=Utkarsh\n",
    "@app.route('/hello', methods=['GET'])\n",
    "def hello():\n",
    "    name = request.args.get('name', 'World')\n",
    "    return f\"<h1 align='center'>Hello, {name}</h1>!\"\n",
    "\n",
    "if __name__ == '__main__':\n",
    "    print('Please use URL as follows : http://127.0.0.1:5000/hello?name=Utkarsh\\n')\n",
    "    app.run()"
   ]
  },
  {
   "attachments": {},
   "cell_type": "markdown",
   "metadata": {},
   "source": [
    "### Image Screenshot of above code URL: http://127.0.0.1:5000/hello?name=Utkarsh"
   ]
  },
  {
   "attachments": {},
   "cell_type": "markdown",
   "metadata": {},
   "source": [
    "<img src=\"./A19Q2.jpg\" alt=\"Question 2 Request\" style=\"border: 10px solid black;\">"
   ]
  },
  {
   "attachments": {},
   "cell_type": "markdown",
   "metadata": {},
   "source": [
    "<a id=\"3\"></a>\n",
    "\n",
    "# <p style=\"padding:10px;background-color:#87CEEB ;margin:10;color:#000000;font-family:newtimeroman;font-size:100%;text-align:center;border-radius: 10px 10px ;overflow:hidden;font-weight:50\">Question 3</p>"
   ]
  },
  {
   "attachments": {},
   "cell_type": "markdown",
   "metadata": {},
   "source": [
    "## Question 3: Why is redirect() used in Flask?\n",
    "---"
   ]
  },
  {
   "attachments": {},
   "cell_type": "markdown",
   "metadata": {},
   "source": [
    "## Answer:\n",
    "\n",
    "### The redirect() function in Flask is used to redirect the user's request to a different URL. It is a common practice to use a redirect when a user submits a form or when a user tries to access a restricted page without being logged in.\n",
    "\n",
    "Here are a few use cases where redirect() can be useful in Flask:\n",
    "\n",
    "1. After a successful login: When a user logs in successfully, it's common to redirect them to a dashboard or a landing page. This can be achieved using the redirect() function.\n",
    "\n",
    "2. After submitting a form: If a user submits a form and the data needs to be processed before displaying the result, a redirect can be used to display the result on a different page.\n",
    "\n",
    "3. Redirecting unauthorized access: If a user tries to access a restricted page without being logged in, they can be redirected to a login page using the redirect() function.\n",
    "\n",
    "4. Redirecting after a post request: When a user makes a POST request to a URL, it's common to redirect them to a different page using the redirect() function, so that they don't accidentally make the same request again by refreshing the page.\n",
    "\n",
    "In summary, redirect() is a useful function in Flask for redirecting users to different pages, and it's commonly used in many web applications to control the flow of user requests."
   ]
  },
  {
   "cell_type": "code",
   "execution_count": 6,
   "metadata": {},
   "outputs": [
    {
     "name": "stdout",
     "output_type": "stream",
     "text": [
      " * Serving Flask app '__main__'\n",
      " * Debug mode: off\n"
     ]
    },
    {
     "name": "stderr",
     "output_type": "stream",
     "text": [
      "WARNING: This is a development server. Do not use it in a production deployment. Use a production WSGI server instead.\n",
      " * Running on http://127.0.0.1:5000\n",
      "Press CTRL+C to quit\n",
      "127.0.0.1 - - [21/Feb/2023 00:43:18] \"GET / HTTP/1.1\" 302 -\n",
      "127.0.0.1 - - [21/Feb/2023 00:43:18] \"GET /about HTTP/1.1\" 200 -\n",
      "127.0.0.1 - - [21/Feb/2023 00:43:37] \"GET / HTTP/1.1\" 302 -\n",
      "127.0.0.1 - - [21/Feb/2023 00:43:37] \"GET /about HTTP/1.1\" 200 -\n",
      "127.0.0.1 - - [21/Feb/2023 00:43:57] \"GET / HTTP/1.1\" 302 -\n",
      "127.0.0.1 - - [21/Feb/2023 00:43:57] \"GET /about HTTP/1.1\" 200 -\n"
     ]
    }
   ],
   "source": [
    "from flask import Flask, redirect, url_for\n",
    "\n",
    "app = Flask(__name__)\n",
    "\n",
    "# Example route for the home page\n",
    "@app.route('/')\n",
    "def home():\n",
    "    # Redirect to the about page\n",
    "    return redirect(url_for('about'))\n",
    "\n",
    "# Example route for the about page\n",
    "@app.route('/about')\n",
    "def about():\n",
    "    return 'This is the about page'\n",
    "\n",
    "if __name__ == '__main__':\n",
    "    app.run()"
   ]
  },
  {
   "attachments": {},
   "cell_type": "markdown",
   "metadata": {},
   "source": [
    "### Above example redirects from home page to about page using redirect"
   ]
  },
  {
   "attachments": {},
   "cell_type": "markdown",
   "metadata": {},
   "source": [
    "<img src=\"./A19Q3.jpg\" alt=\"Question 2 Request\" style=\"border: 10px solid black;\">"
   ]
  },
  {
   "attachments": {},
   "cell_type": "markdown",
   "metadata": {},
   "source": [
    "<a id=\"4\"></a>\n",
    "\n",
    "# <p style=\"padding:10px;background-color:#87CEEB ;margin:10;color:#000000;font-family:newtimeroman;font-size:100%;text-align:center;border-radius: 10px 10px ;overflow:hidden;font-weight:50\">Question 4</p>"
   ]
  },
  {
   "attachments": {},
   "cell_type": "markdown",
   "metadata": {},
   "source": [
    "## Question 4: What are templates in Flask? Why is the render_template() function used?\n",
    "---"
   ]
  },
  {
   "attachments": {},
   "cell_type": "markdown",
   "metadata": {},
   "source": [
    "## Answer:\n",
    "\n",
    "### In Flask, templates are used to create dynamic HTML pages. Templates are essentially HTML files that include placeholders for dynamic content. When a user requests a page, Flask populates the placeholders with the appropriate content and sends the complete HTML page to the user's browser.\n",
    "\n",
    "### The render_template() function is used to render templates in Flask. This function takes the name of the template file (e.g., index.html) as an argument, and any additional data that needs to be passed to the template. It then returns the rendered HTML content as a string, which can be sent back to the user's browser as a response."
   ]
  },
  {
   "cell_type": "code",
   "execution_count": 7,
   "metadata": {},
   "outputs": [
    {
     "name": "stdout",
     "output_type": "stream",
     "text": [
      " * Serving Flask app '__main__'\n",
      " * Debug mode: off\n"
     ]
    },
    {
     "name": "stderr",
     "output_type": "stream",
     "text": [
      "WARNING: This is a development server. Do not use it in a production deployment. Use a production WSGI server instead.\n",
      " * Running on http://127.0.0.1:5000\n",
      "Press CTRL+C to quit\n",
      "127.0.0.1 - - [21/Feb/2023 00:50:53] \"GET / HTTP/1.1\" 200 -\n",
      "127.0.0.1 - - [21/Feb/2023 00:51:07] \"GET / HTTP/1.1\" 200 -\n",
      "127.0.0.1 - - [21/Feb/2023 00:51:18] \"GET / HTTP/1.1\" 200 -\n"
     ]
    }
   ],
   "source": [
    "from flask import Flask, render_template\n",
    "\n",
    "app = Flask(__name__)\n",
    "\n",
    "# Example route for the home page\n",
    "@app.route('/')\n",
    "def home():\n",
    "    # Define some data to pass to the template\n",
    "    title = 'Flask Template Example'\n",
    "    content = 'This is an example of using templates in Flask'\n",
    "\n",
    "    # Render the template and pass the data to it\n",
    "    return render_template('index.html', title=title, content=content)\n",
    "\n",
    "if __name__ == '__main__':\n",
    "    app.run()"
   ]
  },
  {
   "attachments": {},
   "cell_type": "markdown",
   "metadata": {},
   "source": [
    "### In the above example, we define a simple home() route that renders an index.html template. We define two variables (title and content) and pass them to the render_template() function as keyword arguments.\n",
    "\n",
    "### In the index.html template file, we can use placeholders (called Jinja2 templates) to insert the dynamic content. Here's an example of what the index.html file might look like:\n",
    "\n",
    "~~~html\n",
    "<!DOCTYPE html>\n",
    "<html>\n",
    "<head>\n",
    "\t<title>{{ title }}</title>\n",
    "</head>\n",
    "<body>\n",
    "\t<h1>{{ content }}</h1>\n",
    "</body>\n",
    "</html>\n",
    "~~~"
   ]
  },
  {
   "attachments": {},
   "cell_type": "markdown",
   "metadata": {},
   "source": [
    "### Below is screenshot of above code"
   ]
  },
  {
   "attachments": {},
   "cell_type": "markdown",
   "metadata": {},
   "source": [
    "<img src=\"./A19Q4.jpg\" alt=\"Question 2 Request\" style=\"border: 10px solid black;\">"
   ]
  },
  {
   "attachments": {},
   "cell_type": "markdown",
   "metadata": {},
   "source": [
    "<a id=\"5\"></a>\n",
    "\n",
    "# <p style=\"padding:10px;background-color:#87CEEB ;margin:10;color:#000000;font-family:newtimeroman;font-size:100%;text-align:center;border-radius: 10px 10px ;overflow:hidden;font-weight:50\">Question 5</p>"
   ]
  },
  {
   "attachments": {},
   "cell_type": "markdown",
   "metadata": {},
   "source": [
    "## Question 5: Create a simple API. Use Postman to test it. Attach the screenshot of the output in the Jupyter Notebook.\n",
    "---"
   ]
  },
  {
   "attachments": {},
   "cell_type": "markdown",
   "metadata": {},
   "source": [
    "## Answer:\n",
    "\n",
    "### I'm creating an API to give quadratic equation $a.x^2 + b.x + c = 0$ to solve\n",
    "\n",
    "### Inputs provided by user through postman will be a,b and c\n",
    "\n",
    "### Roots of equation are: $ x = (-b ± √(b² - 4ac)) / 2a $\n",
    "\n",
    "### Below is the code for my Quadratic Equation Solver:"
   ]
  },
  {
   "attachments": {},
   "cell_type": "markdown",
   "metadata": {},
   "source": [
    "### Link to my HTML Template : [quadratic.html](./templates/quadratic.html)"
   ]
  },
  {
   "cell_type": "code",
   "execution_count": 25,
   "metadata": {},
   "outputs": [
    {
     "name": "stdout",
     "output_type": "stream",
     "text": [
      " * Serving Flask app '__main__'\n",
      " * Debug mode: off\n"
     ]
    },
    {
     "name": "stderr",
     "output_type": "stream",
     "text": [
      "WARNING: This is a development server. Do not use it in a production deployment. Use a production WSGI server instead.\n",
      " * Running on http://127.0.0.1:5000\n",
      "Press CTRL+C to quit\n",
      "127.0.0.1 - - [21/Feb/2023 02:09:09] \"GET / HTTP/1.1\" 200 -\n",
      "127.0.0.1 - - [21/Feb/2023 02:09:15] \"POST / HTTP/1.1\" 200 -\n",
      "127.0.0.1 - - [21/Feb/2023 02:09:23] \"POST / HTTP/1.1\" 200 -\n",
      "127.0.0.1 - - [21/Feb/2023 02:09:28] \"POST / HTTP/1.1\" 200 -\n",
      "127.0.0.1 - - [21/Feb/2023 02:09:35] \"POST /quadratic_postman HTTP/1.1\" 200 -\n",
      "127.0.0.1 - - [21/Feb/2023 02:09:43] \"POST /quadratic_postman HTTP/1.1\" 200 -\n",
      "127.0.0.1 - - [21/Feb/2023 02:09:52] \"POST /quadratic_postman HTTP/1.1\" 200 -\n"
     ]
    }
   ],
   "source": [
    "from flask import Flask, render_template, request, jsonify\n",
    "\n",
    "app = Flask(__name__)\n",
    "\n",
    "@app.route('/', methods=['GET', 'POST'])\n",
    "def quadratic_solver():\n",
    "    if request.method == 'POST':\n",
    "        a = float(request.form['a'])\n",
    "        b = float(request.form['b'])\n",
    "        c = float(request.form['c'])\n",
    "        delta = (b**2) - 4*a*c\n",
    "        if delta < 0:\n",
    "            result = f\"The quadratic equation : {a}*x^2 + {b}*x + {c} has no real roots.\"\n",
    "        elif delta == 0:\n",
    "            x = (-b) / (2*a)\n",
    "            result = f\"The quadratic equation : {a}*x^2 + {b}*x + {c} has one real root: {str(x)}\"\n",
    "        else:\n",
    "            x1 = (-b + delta**(1/2)) / (2*a)\n",
    "            x2 = (-b - delta**(1/2)) / (2*a)\n",
    "            result = f\"The quadratic equation {a}*x^2 + {b}*x + {c} has two real roots: {str(x1)} and {str(x2)}\"\n",
    "        return render_template('quadratic.html', result=result)\n",
    "    else:\n",
    "        return render_template('quadratic.html')\n",
    "    \n",
    "@app.route('/quadratic_postman',methods=['POST'])\n",
    "def quadratic_solver_postman():\n",
    "    if request.method == 'POST':\n",
    "        a = float(request.json['a'])\n",
    "        b = float(request.json['b'])\n",
    "        c = float(request.json['c'])\n",
    "        delta = (b**2) - 4*a*c\n",
    "        if delta < 0:\n",
    "            result = f\"The quadratic equation : {a}*x^2 + {b}*x + {c} has no real roots.\"\n",
    "        elif delta == 0:\n",
    "            x = (-b) / (2*a)\n",
    "            result = f\"The quadratic equation : {a}*x^2 + {b}*x + {c} has one real root: {str(x)}\"\n",
    "        else:\n",
    "            x1 = (-b + delta**(1/2)) / (2*a)\n",
    "            x2 = (-b - delta**(1/2)) / (2*a)\n",
    "            result = f\"The quadratic equation {a}*x^2 + {b}*x + {c} has two real roots: {str(x1)} and {str(x2)}\"\n",
    "        \n",
    "    return jsonify(result)\n",
    "\n",
    "\n",
    "if __name__ == '__main__':\n",
    "    app.run()"
   ]
  },
  {
   "attachments": {},
   "cell_type": "markdown",
   "metadata": {},
   "source": [
    "### Below is screenshot of my Flask App Homepage"
   ]
  },
  {
   "attachments": {},
   "cell_type": "markdown",
   "metadata": {},
   "source": [
    "<img src=\"./A19Q5Homepage.jpg\" alt=\"Question 5 Homepage\" style=\"border: 10px solid black;\">"
   ]
  },
  {
   "attachments": {},
   "cell_type": "markdown",
   "metadata": {},
   "source": [
    "### Below is result for solving x^2 - 5*x + 6"
   ]
  },
  {
   "attachments": {},
   "cell_type": "markdown",
   "metadata": {},
   "source": [
    "<img src=\"./A19Q5Results.jpg\" alt=\"Question 5 Results\" style=\"border: 10px solid black;\">"
   ]
  },
  {
   "attachments": {},
   "cell_type": "markdown",
   "metadata": {},
   "source": [
    "## Testing the API with postman"
   ]
  },
  {
   "attachments": {},
   "cell_type": "markdown",
   "metadata": {},
   "source": [
    "### 1. Equation 6.x^2 + 5.x - 6 = 0"
   ]
  },
  {
   "attachments": {},
   "cell_type": "markdown",
   "metadata": {},
   "source": [
    "<img src=\"./A19Q5Postman1.jpg\" alt=\"Question 5 Results\" style=\"border: 10px solid black;\">"
   ]
  },
  {
   "attachments": {},
   "cell_type": "markdown",
   "metadata": {},
   "source": [
    "### 2: Equation : x^2 + 6.x + 9 = 0"
   ]
  },
  {
   "attachments": {},
   "cell_type": "markdown",
   "metadata": {},
   "source": [
    "<img src=\"./A19Q5Postman2.jpg\" alt=\"Question 5 Results\" style=\"border: 10px solid black;\">"
   ]
  },
  {
   "attachments": {},
   "cell_type": "markdown",
   "metadata": {},
   "source": [
    "### 3. Equation : x^2 + x + 2 = 0"
   ]
  },
  {
   "attachments": {},
   "cell_type": "markdown",
   "metadata": {},
   "source": [
    "<img src=\"./A19Q5Postman3.jpg\" alt=\"Question 5 Results\" style=\"border: 10px solid black;\">"
   ]
  }
 ],
 "metadata": {
  "kernelspec": {
   "display_name": "venv",
   "language": "python",
   "name": "python3"
  },
  "language_info": {
   "codemirror_mode": {
    "name": "ipython",
    "version": 3
   },
   "file_extension": ".py",
   "mimetype": "text/x-python",
   "name": "python",
   "nbconvert_exporter": "python",
   "pygments_lexer": "ipython3",
   "version": "3.10.7"
  },
  "orig_nbformat": 4,
  "vscode": {
   "interpreter": {
    "hash": "27149e82490bdaa27222c4e29544e396278d224a9f42010d392c3451ce079b12"
   }
  }
 },
 "nbformat": 4,
 "nbformat_minor": 2
}
